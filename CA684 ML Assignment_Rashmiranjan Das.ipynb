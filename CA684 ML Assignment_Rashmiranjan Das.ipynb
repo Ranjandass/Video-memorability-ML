{
 "cells": [
  {
   "cell_type": "markdown",
   "metadata": {},
   "source": [
    "# CA684 Machine Learning Assignment"
   ]
  },
  {
   "cell_type": "markdown",
   "metadata": {},
   "source": [
    "## Table of Content:\n",
    "* [Importing dependencies](#dependencies)\n",
    "* [Evaluation function](#Evaluation)\n",
    "* [Captions](#Captions)\n",
    "   * [Pre processing](#prepro)\n",
    "   * [Counter](#counter)\n",
    "   * [Tokenizer](#tokenizer)\n",
    "   * [Captions model creation](#capmod)\n",
    "   * [Predictions](#pred1)\n",
    "* [HMP](#hmp)\n",
    "   * [Pre processing](#hmp)\n",
    "   * [Model creation](#hmpmod)\n",
    "   * [Prediction](#pred2)\n",
    "* [C3D](#c3d)\n",
    "   * [Pre processing](#c3d)\n",
    "   * [Model creation](#c3dmod)\n",
    "   * [Prediction](#pred3)\n",
    "* [Ensemble 1](#ensemble1)\n",
    "* [Combined model](#combmod)\n",
    "   * [Predictions](#pred4)\n",
    "* [Ensemble 2](#ensemble2)\n",
    "\n",
    "* [Test Data](#test)\n",
    "    * [Caption model prediction](#captest)\n",
    "    * [HMP model prediction](#hmptest)\n",
    "    * [C3D model prediction](#c3dtest)\n",
    "    * [Combined model prediction](#combtest)\n",
    "    * [Ensemble model prediction](#finsub)\n",
    "    \n",
    "* [Final Submission](#finsub)\n",
    "   \n"
   ]
  },
  {
   "cell_type": "markdown",
   "metadata": {},
   "source": [
    "## Importing Dependencies <a class=\"anchor\" id=\"dependencies\"></a>"
   ]
  },
  {
   "cell_type": "code",
   "execution_count": 1,
   "metadata": {},
   "outputs": [],
   "source": [
    "import numpy as np\n",
    "import pandas as pd\n",
    "import matplotlib.pyplot as plt\n",
    "import pyprind\n",
    "import glob\n",
    "import os\n",
    "from numpy.random import seed\n",
    "seed(1)\n",
    "from string import punctuation\n",
    "from collections import Counter"
   ]
  },
  {
   "cell_type": "code",
   "execution_count": 2,
   "metadata": {},
   "outputs": [],
   "source": [
    "from sklearn.model_selection import train_test_split\n",
    "from sklearn.model_selection import StratifiedKFold, KFold\n",
    "from sklearn.model_selection import cross_val_score"
   ]
  },
  {
   "cell_type": "code",
   "execution_count": 3,
   "metadata": {},
   "outputs": [
    {
     "name": "stderr",
     "output_type": "stream",
     "text": [
      "Using TensorFlow backend.\n"
     ]
    }
   ],
   "source": [
    "import tensorflow as tf\n",
    "from tensorflow import keras\n",
    "tf.random.set_seed(1)\n",
    "from keras import layers\n",
    "from keras.models import Sequential\n",
    "from keras.layers import Dense\n",
    "from keras.wrappers.scikit_learn import KerasRegressor\n",
    "from keras import regularizers\n",
    "from keras.preprocessing.text import Tokenizer\n",
    "from keras.constraints import maxnorm\n",
    "from keras.optimizers import SGD\n",
    "from tensorflow.keras.layers import Conv2D, MaxPooling2D, Dropout, Flatten, Dense"
   ]
  },
  {
   "cell_type": "code",
   "execution_count": 4,
   "metadata": {},
   "outputs": [],
   "source": [
    "from keras.wrappers.scikit_learn import KerasRegressor\n",
    "from sklearn.model_selection import StratifiedKFold, KFold\n",
    "from sklearn.model_selection import cross_val_score\n",
    "from keras.wrappers.scikit_learn import KerasClassifier"
   ]
  },
  {
   "cell_type": "code",
   "execution_count": 5,
   "metadata": {},
   "outputs": [
    {
     "name": "stderr",
     "output_type": "stream",
     "text": [
      "[nltk_data] Downloading package stopwords to C:\\Users\\RANJAN\n",
      "[nltk_data]     DAS\\AppData\\Roaming\\nltk_data...\n",
      "[nltk_data]   Package stopwords is already up-to-date!\n"
     ]
    }
   ],
   "source": [
    "import re\n",
    "import nltk\n",
    "nltk.download('stopwords')\n",
    "from nltk.corpus import stopwords\n",
    "#from nltk.stem.porter import PorterStemmer"
   ]
  },
  {
   "cell_type": "markdown",
   "metadata": {},
   "source": [
    "## Evaluation function <a class=\"anchor\" id=\"Evaluation\"></a>\n",
    "Test data will be ranked based on Spearmann's correlation"
   ]
  },
  {
   "cell_type": "code",
   "execution_count": 6,
   "metadata": {},
   "outputs": [],
   "source": [
    "def Get_score(Y_pred,Y_true):\n",
    "    '''Calculate the Spearmann\"s correlation coefficient'''\n",
    "    Y_pred = np.squeeze(Y_pred)\n",
    "    Y_true = np.squeeze(Y_true)\n",
    "    if Y_pred.shape != Y_true.shape:\n",
    "        print('Input shapes don\\'t match!')\n",
    "    else:\n",
    "        if len(Y_pred.shape) == 1:\n",
    "            Res = pd.DataFrame({'Y_true':Y_true,'Y_pred':Y_pred})\n",
    "            score_mat = Res[['Y_true','Y_pred']].corr(method='spearman',min_periods=1)\n",
    "            print('The Spearman\\'s correlation coefficient is: %.3f' % score_mat.iloc[1][0])\n",
    "        else:\n",
    "            for ii in range(Y_pred.shape[1]):\n",
    "                Get_score(Y_pred[:,ii],Y_true[:,ii])"
   ]
  },
  {
   "cell_type": "code",
   "execution_count": 7,
   "metadata": {},
   "outputs": [],
   "source": [
    "def visualize(loss, val_loss, accuracy, val_accuracy):\n",
    "    '''\n",
    "    Plots a graph for training and validation loss and accuracy\n",
    "    '''\n",
    "    epochs = range(1,len(loss)+1)\n",
    "\n",
    "    plt.figure()\n",
    "    plt.plot(epochs,loss,'bv',label='Training loss')\n",
    "    plt.plot(epochs,val_loss,'y',label='Validation loss')\n",
    "    plt.title('Training and Validation loss')\n",
    "    plt.xlabel('Epochs')\n",
    "    plt.ylabel('Loss')\n",
    "    plt.legend()\n",
    "    plt.show()\n",
    "\n",
    "    plt.figure()\n",
    "\n",
    "    plt.plot(epochs, accuracy, 'bv', label='Training accuracy')\n",
    "    plt.plot(epochs, val_accuracy, 'y', label='Validation accuracy')\n",
    "    plt.title('Training and validation accuracy')\n",
    "    plt.xlabel('Epochs')\n",
    "    plt.ylabel('Accuracy')\n",
    "    plt.legend()\n",
    "    plt.show()"
   ]
  },
  {
   "cell_type": "markdown",
   "metadata": {},
   "source": [
    "## Captions attribute <a class=\"anchor\" id=\"Captions\"></a>"
   ]
  },
  {
   "cell_type": "markdown",
   "metadata": {},
   "source": [
    "#### Fetching grownd truth and captions"
   ]
  },
  {
   "cell_type": "code",
   "execution_count": 8,
   "metadata": {},
   "outputs": [],
   "source": [
    "def get_data():\n",
    "  train_ground_truth = pd.read_csv(r'C:\\Users\\RANJAN DAS\\Video memorability\\Train_set\\Ground-truth\\ground-truth.csv')\n",
    "  train_ground_truth.drop(['nb_short-term_annotations', 'nb_long-term_annotations'], axis=1, inplace=True)\n",
    "\n",
    "  train_captions = pd.read_csv(r'C:\\Users\\RANJAN DAS\\Video memorability\\Train_set\\Captions\\dev-set_video-captions.txt',delimiter='\\t',header= None,names=('video','Captions'))\n",
    "  \n",
    "  test_ground_truth = pd.read_csv(r'C:\\Users\\RANJAN DAS\\Video memorability\\Test_set\\Ground-truth_test\\ground_truth_template.csv')\n",
    "  test_ground_truth.drop(['nb_short-term_annotations', 'nb_long-term_annotations'], axis=1, inplace=True)\n",
    "  \n",
    "  test_captions = pd.read_csv(r'C:\\Users\\RANJAN DAS\\Video memorability\\Test_set\\Captions_test\\test-set-1_video-captions.txt',delimiter='\\t',header= None,names=('video','Captions'))\n",
    "  \n",
    "  return train_ground_truth, train_captions, test_ground_truth, test_captions\n",
    "\n",
    "def videonameedit(dataframe):\n",
    "    dataframe['video'] = dataframe['video'].apply(lambda x : x.split('.')[0])\n",
    "    return dataframe"
   ]
  },
  {
   "cell_type": "code",
   "execution_count": 9,
   "metadata": {},
   "outputs": [],
   "source": [
    "df, captions_features, df1, captions_features_test = get_data()"
   ]
  },
  {
   "cell_type": "markdown",
   "metadata": {},
   "source": [
    "## Pre processing<a class=\"anchor\" id=\"prepro\"></a>\n",
    "Converting data to standardised format"
   ]
  },
  {
   "cell_type": "code",
   "execution_count": 10,
   "metadata": {},
   "outputs": [
    {
     "data": {
      "text/html": [
       "<div>\n",
       "<style scoped>\n",
       "    .dataframe tbody tr th:only-of-type {\n",
       "        vertical-align: middle;\n",
       "    }\n",
       "\n",
       "    .dataframe tbody tr th {\n",
       "        vertical-align: top;\n",
       "    }\n",
       "\n",
       "    .dataframe thead th {\n",
       "        text-align: right;\n",
       "    }\n",
       "</style>\n",
       "<table border=\"1\" class=\"dataframe\">\n",
       "  <thead>\n",
       "    <tr style=\"text-align: right;\">\n",
       "      <th></th>\n",
       "      <th>video</th>\n",
       "      <th>short-term_memorability</th>\n",
       "      <th>long-term_memorability</th>\n",
       "    </tr>\n",
       "  </thead>\n",
       "  <tbody>\n",
       "    <tr>\n",
       "      <th>0</th>\n",
       "      <td>video3</td>\n",
       "      <td>0.924</td>\n",
       "      <td>0.846</td>\n",
       "    </tr>\n",
       "    <tr>\n",
       "      <th>1</th>\n",
       "      <td>video4</td>\n",
       "      <td>0.923</td>\n",
       "      <td>0.667</td>\n",
       "    </tr>\n",
       "    <tr>\n",
       "      <th>2</th>\n",
       "      <td>video6</td>\n",
       "      <td>0.863</td>\n",
       "      <td>0.700</td>\n",
       "    </tr>\n",
       "    <tr>\n",
       "      <th>3</th>\n",
       "      <td>video8</td>\n",
       "      <td>0.922</td>\n",
       "      <td>0.818</td>\n",
       "    </tr>\n",
       "    <tr>\n",
       "      <th>4</th>\n",
       "      <td>video10</td>\n",
       "      <td>0.950</td>\n",
       "      <td>0.900</td>\n",
       "    </tr>\n",
       "  </tbody>\n",
       "</table>\n",
       "</div>"
      ],
      "text/plain": [
       "     video  short-term_memorability  long-term_memorability\n",
       "0   video3                    0.924                   0.846\n",
       "1   video4                    0.923                   0.667\n",
       "2   video6                    0.863                   0.700\n",
       "3   video8                    0.922                   0.818\n",
       "4  video10                    0.950                   0.900"
      ]
     },
     "execution_count": 10,
     "metadata": {},
     "output_type": "execute_result"
    }
   ],
   "source": [
    "# removing extension from video name\n",
    "df = videonameedit(df)\n",
    "captions_features = videonameedit(captions_features)\n",
    "captions_features_test = videonameedit(captions_features_test)\n",
    "\n",
    "df.head()"
   ]
  },
  {
   "cell_type": "code",
   "execution_count": 11,
   "metadata": {},
   "outputs": [
    {
     "name": "stdout",
     "output_type": "stream",
     "text": [
      "   video  short-term_memorability  long-term_memorability\n",
      "0   7494                      NaN                     NaN\n",
      "1   7495                      NaN                     NaN\n",
      "2   7496                      NaN                     NaN\n",
      "3   7497                      NaN                     NaN\n",
      "4   7498                      NaN                     NaN\n",
      "       video  short-term_memorability  long-term_memorability\n",
      "0  video7494                      NaN                     NaN\n",
      "1  video7495                      NaN                     NaN\n",
      "2  video7496                      NaN                     NaN\n",
      "3  video7497                      NaN                     NaN\n",
      "4  video7498                      NaN                     NaN\n"
     ]
    }
   ],
   "source": [
    "print(df1.head())\n",
    "df1['video'] = 'video' + df1['video'].astype(str)\n",
    "print(df1.head())"
   ]
  },
  {
   "cell_type": "markdown",
   "metadata": {},
   "source": [
    "## Counter <a class=\"anchor\" id=\"counter\"></a>\n",
    "Counter is a dict subclass for counting hashable objects. It is an unordered collection where elements\n",
    "are stored as dictionary keys and their counts are stored as dictionary values.\n",
    "We are using counter to create a key value pair of the word tokens and their number of occurence"
   ]
  },
  {
   "cell_type": "code",
   "execution_count": 12,
   "metadata": {},
   "outputs": [
    {
     "name": "stderr",
     "output_type": "stream",
     "text": [
      "Counting word occurrences\n",
      "0% [##############################] 100% | ETA: 00:00:00\n",
      "Total time elapsed: 00:00:00\n"
     ]
    },
    {
     "data": {
      "text/plain": [
       "<bound method Counter.most_common of Counter({'in': 2105, 'the': 1835, 'on': 1724, 'and': 1444, 'a': 1181, 'with': 996, 'woman': 899, 'of': 836, 'at': 762, 'young': 724, 'man': 559, 'slow': 495, 'motion': 452, 'to': 416, 'couple': 318, 'sitting': 304, 'girl': 291, 'happy': 279, 'beach': 270, 'park': 256, 'up': 255, 'walking': 237, 'close': 230, 'camera': 230, 'her': 219, 'using': 218, 'shot': 215, 'smiling': 198, 'looking': 195, 'two': 191, 'by': 189, 'people': 188, 'from': 188, 'tablet': 184, 'is': 181, 'water': 171, 'through': 156, 'female': 150, 'computer': 149, 'view': 149, 'laptop': 139, 'playing': 137, 'sunset': 137, 'beautiful': 133, 'videoblocks': 131, 'his': 131, 'running': 130, 'talking': 129, 'city': 128, 'working': 127, 'eating': 126, 'little': 126, 'family': 125, 'mother': 124, 'background': 122, 'home': 122, 'standing': 121, 'for': 115, 'phone': 115, 'or': 114, 'sea': 113, 'national': 112, 'african': 111, 'attractive': 111, 'tree': 107, 'snow': 103, 'their': 102, 'drinking': 102, 'hands': 102, 'steadicamof': 102, 'modern': 101, 'street': 99, 'business': 98, 'road': 98, 'while': 98, 'american': 97, 'field': 97, 'over': 96, 'boy': 96, 'white': 95, 'new': 93, 'businessman': 92, 'portrait': 92, 'son': 91, 'table': 90, 'swimming': 90, 'into': 89, 'group': 86, 'closeup': 85, 'christmas': 85, 'down': 84, 'businesswoman': 84, 'having': 83, 'kitchen': 82, 'out': 80, 'fish': 80, 'green': 79, 'father': 79, 'mountain': 79, 'steadicam': 77, 'outdoors': 77, 'black': 76, 'sun': 76, 'sunrise': 76, 'office': 75, 'cafe': 73, 'grass': 73, 'near': 70, 'friends': 69, 'cellphone': 68, 'red': 67, 'taking': 66, 'summer': 66, 'war': 66, 'restaurant': 65, 'lake': 65, 'bridge': 65, 'relaxing': 64, 'africa': 64, 'moving': 64, 'blue': 64, 'upof': 63, 'night': 63, 'construction': 63, 'coffee': 62, 'outside': 61, 'aerial': 61, 'steadycam': 61, 'trees': 60, 'around': 60, 'khr': 59, 'food': 59, 'sunny': 59, 'south': 59, 'under': 57, 'dog': 57, 'concept': 57, 'child': 57, 'wearing': 57, 'lying': 57, 'civil': 57, 'face': 55, 'doctor': 55, 'fun': 55, 'women': 54, 'reading': 53, 'mountains': 53, 'sofa': 53, 'asian': 53, 'jogging': 53, 'making': 52, 'as': 52, 'hand': 52, 'mobile': 52, 'doing': 52, 'holding': 52, 'dancing': 51, 'bright': 51, 'sky': 51, 'flying': 50, 'cute': 50, 'forest': 50, 'together': 50, 'window': 50, 'airport': 49, 'an': 49, 'daughter': 49, 'river': 49, 'landscape': 48, 'back': 48, 'along': 48, 'rock': 47, 'timelapse': 46, 'men': 46, 'building': 46, 'floor': 45, 'work': 45, 'garden': 45, 'music': 45, 'it': 44, 'small': 44, 'listening': 44, 'front': 43, 'time': 43, 'riding': 43, 'against': 43, 'cooking': 43, 'smartphone': 43, 'typing': 43, 'baby': 42, 'three': 42, 'feet': 42, 'house': 42, 'off': 42, 'laughing': 42, 'during': 42, 'healthy': 41, 'book': 41, 'evening': 41, 'pan': 41, 'dolly': 41, 'filmed': 40, 'zoom': 40, 'light': 40, 'canyon': 39, 'putting': 39, 'nature': 39, 'winter': 39, 'are': 39, 'elephant': 39, 'pool': 39, 'they': 39, 'ball': 38, 'snowy': 38, 'farm': 38, 'showing': 38, 'behind': 38, 'moscow': 38, 'hair': 38, 'fitness': 37, 'he': 37, 'bed': 37, 'car': 36, 'runner': 36, 'school': 36, 'watching': 36, 'russia': 36, 'room': 36, 'walks': 35, 'large': 35, 'ocean': 35, 'painting': 35, 'bicycle': 35, 'silhouette': 35, 'she': 35, 'pretty': 35, 'parents': 35, 'old': 35, 'wooden': 35, 'glass': 34, 'children': 34, 'flowers': 34, 'brunette': 34, 'train': 33, 'patient': 33, 'after': 33, 'wall': 33, 'away': 32, 'day': 32, 'boat': 32, 'girls': 32, 'autumn': 32, 'focus': 32, 'lifestyle': 32, 'farming': 31, 'glasses': 31, 'shining': 31, 'yellow': 31, 'spinning': 30, 'getting': 30, 'cat': 30, 'york': 30, 'clouds': 30, 'discussing': 30, 'sits': 30, 'bench': 30, 'caucasian': 30, 'skyline': 30, 'male': 30, 'training': 30, 'person': 29, 'bike': 29, 'moose': 29, 'rocks': 29, 'driving': 29, 'shopping': 29, 'preparing': 29, 'worker': 29, 'station': 28, 'adult': 28, 'highway': 28, 'panningof': 28, 'outdoor': 28, 'morning': 28, 'desert': 28, 'birds': 28, 'space': 28, 'enjoying': 28, 'selfie': 28, 'traffic': 27, 'across': 27, 'cycling': 27, 'eagle': 27, 'country': 27, 'apartment': 27, 'urban': 27, 'internet': 27, 'crowd': 27, 'reef': 27, 'model': 26, 'big': 26, 'bald': 26, 'sport': 26, 'covered': 26, 'art': 26, 'center': 26, 'walk': 26, 'pouring': 26, 'being': 26, 'student': 26, 'bag': 26, 'gangsters': 25, 'tourists': 25, 'chatting': 25, 'soccer': 25, 'workout': 25, 'celebrating': 25, 'hot': 25, 'free': 25, 'headphones': 25, 'juice': 25, 'top': 25, 'open': 25, 'point': 25, 'machine': 25, 'hotel': 25, 'gym': 25, 'orange': 25, 'above': 25, 'love': 25, 'fire': 25, 'wheat': 25, 'kids': 24, 'massage': 24, 'hanging': 24, 'animal': 24, 'shelter': 24, 'head': 24, 'eyes': 24, 'blowing': 24, 'touchpad': 24, 'valley': 24, 'meadow': 24, 'writing': 24, 'arch': 24, 'romantic': 24, 'motionof': 24, 'hat': 24, 'then': 24, 'one': 24, 'spring': 24, 'high': 24, 'place': 24, 'super': 24, 'professional': 24, 'crane': 23, 'wine': 23, 'video': 23, 'four': 23, 'digital': 23, 'lettuce': 23, 'artist': 23, 'pov': 23, 'panning': 23, 'fishing': 23, 'mom': 23, 'tropical': 23, 'coral': 23, 'photo': 23, 'cutting': 23, 'ship': 23, 'kruger': 23, 'market': 22, 'flag': 22, 'bryce': 22, 'nyc': 22, 'underwater': 22, 'suit': 22, 'ride': 22, 'scientist': 22, 'busy': 22, 'workers': 22, 'puts': 22, 'tilt': 21, 'something': 21, 'lights': 21, 'dollyof': 21, 'dark': 21, 'rural': 21, 'carrying': 21, 'smile': 21, 'leaves': 21, 'storm': 21, 'horse': 21, 'documents': 21, 'texting': 21, 'woods': 21, 'message': 21, 'colorful': 21, 'dressed': 21, 'long': 21, 'cemetery': 21, 'pier': 21, 'parade': 21, 'decorating': 21, 'aerialof': 21, 'meeting': 20, 'scene': 20, 'cage': 20, 'terrace': 20, 'line': 20, 'studio': 20, 'produce': 20, 'ice': 20, 'dc': 20, 'resort': 20, 'salad': 20, 'kissing': 20, 'horizon': 20, 'press': 20, 'checking': 20, 'before': 20, 'flare': 19, 'meal': 19, 'handsome': 19, 'surfing': 19, 'hiking': 19, 'ski': 19, 'washing': 19, 'cell': 19, 'sand': 19, 'look': 19, 'tourist': 19, 'guy': 19, 'arlington': 19, 'cruise': 19, 'shore': 19, 'cream': 19, 'smart': 19, 'executive': 19, 'resolution': 18, 'trackingof': 18, 'him': 18, 'peddling': 18, 'beauty': 18, 'spa': 18, 'bear': 18, 'there': 18, 'chef': 18, 'san': 18, 'opening': 18, 'beer': 18, 'ultra': 18, 'bubbles': 18, 'talk': 18, 'womans': 18, 'pregnant': 18, 'cliffs': 18, 'memorial': 18, 'air': 18, 'couch': 18, 'hill': 18, 'waiting': 18, 'preparation': 18, 'helmet': 18, 'soldiers': 18, 'board': 18, 'screen': 18, 'equipment': 17, 'wide': 17, 'industrial': 17, 'rain': 17, 'slave': 17, 'angle': 17, 'washington': 17, 'laboratory': 17, 'path': 17, 'sad': 17, 'notebook': 17, 'teaching': 17, 'towards': 17, 'clothes': 17, 'aquarium': 17, 'may': 17, 'jumping': 17, 'chair': 17, 'different': 17, 'colonial': 17, 'addo': 17, 'lady': 17, 'basketball': 17, 'passing': 16, 'sign': 16, 'giving': 16, 'jog': 16, 'hospital': 16, 'distance': 16, 'monument': 16, 'resting': 16, 'fly': 16, 'cheerful': 16, 'boxes': 16, 'eat': 16, 'dress': 16, 'summertime': 16, 'childhood': 16, 'paper': 16, 'fresh': 16, 'hall': 16, 'rally': 16, 'vacation': 16, 'extreme': 16, 'rack': 16, 'sunglasses': 16, 'picnic': 15, 'stadium': 15, 'real': 15, 'dci': 15, 'jellyfish': 15, 'welness': 15, 'fall': 15, 'students': 15, 'eye': 15, 'gallery': 15, 'power': 15, 'dead': 15, 'campfire': 15, 'plane': 15, 'western': 15, 'multicultural': 15, 'casual': 15, 'technology': 15, 'film': 15, 'looks': 15, 'buildings': 15, 'scenic': 15, 'milk': 15, 'alone': 15, 'cars': 15, 'strong': 15, 'town': 15, 'utah': 15, 'engineer': 15, 'feeding': 15, 'toy': 15, 'game': 15, 'kayak': 15, 'make': 15, 'bird': 14, 'works': 14, 'ray': 14, 'flight': 14, 'voting': 14, 'wideof': 14, 'shop': 14, 'other': 14, 'horses': 14, 'shoes': 14, 'traditional': 14, 'tap': 14, 'throwing': 14, 'funny': 14, 'balcony': 14, 'warm': 14, 'sleeping': 14, 'travel': 14, 'crowded': 14, 'era': 14, 'exotic': 14, 'plants': 14, 'graffiti': 14, 'race': 14, 'lab': 14, 'past': 14, 'buffet': 14, 'williamsburg': 14, 'pot': 13, 'climber': 13, 'bottle': 13, 'australia': 13, 'friend': 13, 'sidewalk': 13, 'police': 13, 'climbing': 13, 'truck': 13, 'crossing': 13, 'waves': 13, 'times': 13, 'square': 13, 'flower': 13, 'between': 13, 'delicious': 13, 'mesa': 13, 'pink': 13, 'team': 13, 'legs': 13, 'shark': 13, 'inside': 13, 'cup': 13, 'bay': 13, 'sunlight': 13, 'lapse': 13, 'fingers': 13, 'surface': 13, 'wind': 13, 'circus': 13, 'many': 13, 'grave': 13, 'some': 13, 'library': 13, 'natural': 13, 'freedom': 13, 'mixed': 13, 'camp': 13, 'elephants': 13, 'plate': 13, 'trendy': 13, 'commuting': 13, 'golden': 13, 'drawing': 13, 'smoke': 12, 'floating': 12, 'cowboy': 12, 'foot': 12, 'martial': 12, 'arts': 12, 'fruit': 12, 'calf': 12, 'mirror': 12, 'factory': 12, 'sunbed': 12, 'trail': 12, 'metal': 12, 'raw': 12, 'fence': 12, 'charming': 12, 'dirt': 12, 'does': 12, 'earth': 12, 'basket': 12, 'swans': 12, 'laying': 12, 'state': 12, 'lens': 12, 'each': 12, 'tower': 12, 'tall': 12, 'doctors': 12, 'flour': 12, 'pond': 12, 'swing': 12, 'turning': 12, 'piano': 12, 'golf': 12, 'island': 12, 'steps': 12, 'slowmotion': 12, 'glowing': 12, 'tea': 12, 'another': 11, 'baseball': 11, 'pad': 11, 'cranes': 11, 'waving': 11, 'spain': 11, 'skiing': 11, 'wild': 11, 'help': 11, 'bar': 11, 'drink': 11, 'tennis': 11, 'headset': 11, 'show': 11, 'area': 11, 'lion': 11, 'next': 11, 'kite': 11, 'shirt': 11, 'bicycles': 11, 'watering': 11, 'spoon': 11, 'cliff': 11, 'festival': 11, 'empty': 11, 'toward': 11, 'solar': 11, 'side': 11, 'posing': 11, 'mov': 11, 'movie': 11, 'decoration': 11, 'plates': 11, 'yoga': 11, 'zooming': 11, 'vietnam': 11, 'wood': 11, 'band': 11, 'th': 11, 'century': 11, 'skier': 11, 'bull': 11, 'falling': 11, 'prescription': 11, 'about': 11, 'harvest': 11, 'rotating': 11, 'do': 11, 'cocktail': 11, 'football': 11, 'apple': 11, 'calling': 11, 'blond': 11, 'grandfather': 11, 'cherry': 11, 'wedding': 11, 'virtual': 11, 'hugging': 11, 'information': 11, 'architect': 11, 'development': 11, 'military': 11, 'fast': 11, 'weight': 11, 'blonde': 10, 'medical': 10, 'village': 10, 'flat': 10, 'happiness': 10, 'barcelona': 10, 'umbrella': 10, 'rodeo': 10, 'zebras': 10, 'silhouettes': 10, 'closing': 10, 'site': 10, 'tv': 10, 'crowds': 10, 'tracks': 10, 'rocky': 10, 'can': 10, 'bikers': 10, 'butterfly': 10, 'prepares': 10, 'loving': 10, 'countryside': 10, 'client': 10, 'shallow': 10, 'bubble': 10, 'tracking': 10, 'kid': 10, 'drive': 10, 'uses': 10, 'low': 10, 'shooting': 10, 'casually': 10, 'airplane': 10, 'finger': 10, 'touch': 10, 'tasty': 10, 'akvamarine': 10, 'picture': 10, 'speed': 10, 'latino': 10, 'carnival': 10, 'stone': 10, 'early': 10, 'care': 10, 'cityscape': 10, 'breakfast': 10, 'bush': 10, 'straw': 10, 'club': 10, 'vintage': 10, 'diverse': 10, 'going': 10, 'dry': 10, 'bride': 10, 'skiers': 10, 'reality': 10, 'vietnamese': 10, 'exercise': 10, 'scientists': 10, 'umbrellas': 10, 'greece': 10, 'kicking': 10, 'watch': 10, 'consultant': 10, 'diving': 10, 'p': 10, 'tattoo': 10, 'partner': 10, 'bedroom': 10, 'waterfall': 10, 'grandmother': 9, 'wildlife': 9, 'sports': 9, 'downtown': 9, 'norway': 9, 'soldier': 9, 'supporters': 9, 'salon': 9, 'branch': 9, 'soaring': 9, 'cook': 9, 'windows': 9, 'lane': 9, 'retail': 9, 'feeling': 9, 'wheeling': 9, 'international': 9, 'manager': 9, 'enjoy': 9, 'rolling': 9, 'businesswomen': 9, 'graded': 9, 'uhd': 9, 'deep': 9, 'hd': 9, 'cake': 9, 'skin': 9, 'selling': 9, 'sit': 9, 'edge': 9, 'cinemagraph': 9, 'seamless': 9, 'exercising': 9, 'dogs': 9, 'call': 9, 'petersburg': 9, 'event': 9, 'motionk': 9, 'takes': 9, 'x': 9, 'indoors': 9, 'heterosexual': 9, 'plan': 9, 'baker': 9, 'backing': 9, 'notes': 9, 'friendly': 9, 'safety': 9, 'seagulls': 9, 'balloons': 9, 'sunlit': 9, 'good': 9, 'roller': 9, 'arms': 9, 'hip': 9, 'landing': 9, 'smoking': 9, 'suits': 9, 'reenactors': 9, 'battlefield': 9, 'first': 9, 'flock': 9, 'harbor': 9, 'macro': 9, 'thoughtful': 9, 'groom': 9, 'health': 9, 'middle': 9, 'paddles': 9, 'oven': 9, 'money': 9, 'francisco': 9, 'vegetables': 9, 'dinner': 9, 'meat': 9, 'plant': 9, 'guard': 9, 'stage': 9, 'luxury': 9, 'closeupof': 9, 'capitol': 9, 'ducklings': 9, 'mature': 9, 'church': 9, 'february': 9, 'gift': 9, 'rays': 9, 'chinese': 9, 'turtle': 9, 'fighting': 9, 'massaged': 8, 'coming': 8, 'wheel': 8, 'hare': 8, 'passenger': 8, 'boiling': 8, 'foreground': 8, 'patriotic': 8, 'brown': 8, 'alaska': 8, 'ground': 8, 'them': 8, 'instructor': 8, 'static': 8, 'convention': 8, 'tired': 8, 'reflection': 8, 'traveling': 8, 'reads': 8, 'same': 8, 'relationship': 8, 'runs': 8, 'canyonlands': 8, 'warming': 8, 'calm': 8, 'pushing': 8, 'businessmen': 8, 'fireplace': 8, 'multiracial': 8, 'watches': 8, 'pc': 8, 'push': 8, 'deck': 8, 'blizzard': 8, 'belly': 8, 'gun': 8, 'parenthood': 8, 'april': 8, 'estate': 8, 'bikes': 8, 'closed': 8, 'pizza': 8, 'piggyback': 8, 'warehouse': 8, 'shots': 8, 'clown': 8, 'following': 8, 'unrecognizable': 8, 'cozy': 8, 'pathway': 8, 'seaside': 8, 'blacksmith': 8, 'suitcase': 8, 'colorado': 8, 'panoramic': 8, 'hikers': 8, 'cape': 8, 'self': 8, 'crew': 8, 'adorable': 8, 'helping': 8, 'hop': 8, 'jump': 8, 'scenery': 8, 'angry': 8, 'ducks': 8, 'performing': 8, 'armchair': 8, 'colleagues': 8, 'daughters': 8, 'trying': 8, 'makes': 8, 'cleaning': 8, 'architecture': 8, 'sauce': 8, 'beside': 8, 'reenactment': 8, 'stony': 8, 'dusk': 8, 'newspaper': 8, 'coaster': 8, 'cloudy': 8, 'project': 8, 'break': 8, 'skyscrapers': 8, 'dessert': 8, 'photos': 8, 'log': 8, 'stylish': 8, 'life': 8, 'style': 8, 'teacher': 8, 'changing': 8, 'buffalo': 8, 'lift': 8, 'applying': 8, 'dough': 8, 'party': 8, 'biking': 8, 'tomato': 8, 'heavy': 8, 'play': 8, 'slo': 8, 'corn': 8, 'nurse': 8, 'conference': 8, 'herd': 8, 'quay': 8, 'grill': 8, 'helicopter': 7, 'stretching': 7, 'bread': 7, 'shadow': 7, 'serious': 7, 'iv': 7, 'runway': 7, 'row': 7, 'salt': 7, 'cats': 7, 'bowl': 7, 'mix': 7, 'drinks': 7, 'texas': 7, 'ready': 7, 'tools': 7, 'hawaii': 7, 'islands': 7, 'sprawl': 7, 'late': 7, 'made': 7, 'engineers': 7, 'homosexual': 7, 'gay': 7, 'lesbian': 7, 'sex': 7, 'marriage': 7, 'company': 7, 'dish': 7, 'sushi': 7, 'sunbeds': 7, 'lemon': 7, 'pill': 7, 'speaking': 7, 'treatment': 7, 'electricity': 7, 'vista': 7, 'siberian': 7, 'husky': 7, 'bikini': 7, 'prepared': 7, 'handheld': 7, 'bare': 7, 'loop': 7, 'pills': 7, 'astronaut': 7, 'image': 7, 'exercises': 7, 'saint': 7, 'balls': 7, 'year': 7, 'hipster': 7, 'purple': 7, 'creek': 7, 'frying': 7, 'candle': 7, 'thumbs': 7, 'samples': 7, 'leather': 7, 'waking': 7, 'mask': 7, 'passengers': 7, 'sweet': 7, 'birthday': 7, 'not': 7, 'printing': 7, 'use': 7, 'spotted': 7, 'eel': 7, 'swarm': 7, 'union': 7, 'tuscany': 7, 'flies': 7, 'salmon': 7, 'grassy': 7, 'browsing': 7, 'shuttle': 7, 'strawberries': 7, 'dandelion': 7, 'marching': 7, 'jibof': 7, 'course': 7, 'seabed': 7, 'bus': 7, 'jeep': 7, 'seashore': 7, 'news': 7, 'gulls': 7, 'fireworks': 7, 'dock': 7, 'mouth': 7, 'desk': 7, 'studying': 7, 'oil': 7, 'tomatoes': 7, 'body': 7, 'elegant': 7, 'books': 7, 'card': 7, 'branches': 7, 'research': 7, 'sweaty': 7, 'penguin': 7, 'way': 7, 'sugar': 7, 'swinging': 7, 'alley': 7, 'gas': 7, 'crop': 7, 'punching': 7, 'concert': 7, 'lions': 7, 'concrete': 7, 'sailboat': 7, 'plans': 7, 'leaning': 7, 'shoulder': 7, 'ladies': 7, 'delicate': 7, 'arches': 7, 'gray': 7, 'keyboard': 7, 'holds': 7, 'policeman': 7, 'treadmill': 7, 'cannon': 7, 'soap': 7, 'stirring': 7, 'name': 7, 'heron': 7, 'stands': 7, 'apples': 7, 'grandson': 6, 'stove': 6, 'explain': 6, 'kiss': 6, 'chat': 6, 'colored': 6, 'ingredients': 6, 'rainy': 6, 'touching': 6, 'proud': 6, 'workshop': 6, 'perched': 6, 'counter': 6, 'rt': 6, 'm': 6, 'diego': 6, 'electric': 6, 'full': 6, 'guitar': 6, 'bags': 6, 'singing': 6, 'murky': 6, 'therapist': 6, 'serving': 6, 'salesman': 6, 'panel': 6, 'owners': 6, 'save': 6, 'consumption': 6, 'enjoys': 6, 'sorting': 6, 'quill': 6, 'locked': 6, 'chonchi': 6, 'domexpo': 6, 'gostiny': 6, 'dvor': 6, 'photographer': 6, 'pictures': 6, 'moments': 6, 'booths': 6, 'right': 6, 'receiving': 6, 'vegetarian': 6, 'chest': 6, 'wilderness': 6, 'himself': 6, 'touchscreen': 6, 'monitor': 6, 'run': 6, 'container': 6, 'adding': 6, 's': 6, 'be': 6, 'rider': 6, 'living': 6, 'flame': 6, 'panorama': 6, 'customer': 6, 'put': 6, 'technician': 6, 'gets': 6, 'explaining': 6, 'world': 6, 'moves': 6, 'sifting': 6, 'motionfps': 6, 'teeing': 6, 'stick': 6, 'launch': 6, 'future': 6, 'cut': 6, 'symbol': 6, 'cigarette': 6, 'cloud': 6, 'reflective': 6, 'gifts': 6, 'plays': 6, 'makeup': 6, 'battle': 6, 'businesspeople': 6, 'crows': 6, 'snowfall': 6, 'rabbit': 6, 'waterpool': 6, 'tiltingof': 6, 'trucks': 6, 'turns': 6, 'statue': 6, 'overlook': 6, 'drifting': 6, 'range': 6, 'finishing': 6, 'aged': 6, 'rising': 6, 'leopard': 6, 'gum': 6, 'dentist': 6, 'wheelchair': 6, 'test': 6, 'striped': 6, 'toys': 6, 'girlfriends': 6, 'starting': 6, 'teenagers': 6, 'gliding': 6, 'tomb': 6, 'unknowns': 6, 'conversation': 6, 'tray': 6, 'fields': 6, 'pass': 6, 'designer': 6, 'empire': 6, 'port': 6, 'fountains': 6, 'mechanic': 6, 'parts': 6, 'short': 6, 'divers': 6, 'foam': 6, 'players': 6, 'problems': 6, 'setting': 6, 'owner': 6, 'poppies': 6, 'device': 6, 'giraffes': 6, 'pensive': 6, 'knife': 6, 'motorcycle': 6, 'ok': 6, 'take': 6, 'dental': 6, 'duck': 6, 'baking': 6, 'cookies': 6, 'unit': 6, 'television': 5, 'who': 5, 'points': 5, 'potters': 5, 'yard': 5, 'terminal': 5, 'lipstick': 5, 'hovering': 5, 'keys': 5, 'stones': 5, 'lunch': 5, 'cages': 5, 'eagles': 5, 'huge': 5, 'cucumber': 5, 'multi': 5, 'accident': 5, 'manta': 5, 'chairs': 5, 'snake': 5, 'downhill': 5, 'senior': 5, 'approaching': 5, 'rubbing': 5, 'neck': 5, 'thumb': 5, 'formal': 5, 'successful': 5, 'set': 5, 'memories': 5, 'rolls': 5, 'door': 5, 'hallway': 5, 'festive': 5, 'fashionable': 5, 'presents': 5, 'round': 5, 'metro': 5, 'arriving': 5, 'puppy': 5, 'admiring': 5, 'binoculars': 5, 'falls': 5, 'goose': 5, 'ups': 5, 'santa': 5, 'gourmet': 5, 'talks': 5, 'homework': 5, 'reflecting': 5, 'colors': 5, 'wave': 5, 'shows': 5, 'others': 5, 'sailing': 5, 'macroof': 5, 'jumps': 5, 'outer': 5, 'backdrop': 5, 'planet': 5, 'this': 5, 'nasa': 5, 'hood': 5, 'dribbles': 5, 'bourbon': 5, 'carving': 5, 'dollyyoung': 5, 'spinach': 5, 'greens': 5, 'foodk': 5, 'sunbathing': 5, 'patients': 5, 'refreshing': 5, 'pipette': 5, 'transfer': 5, 'st': 5, 'technologies': 5, 'fuel': 5, 'figurines': 5, 'hour': 5, 'measures': 5, 'horizontal': 5, 'operates': 5, 'how': 5, 'hiding': 5, 'pigeons': 5, 'cnc': 5, 'alaskan': 5, 'puerto': 5, 'harvesting': 5, 'planting': 5, 'eats': 5, 'leaf': 5, 'boulders': 5, 'peninsula': 5, 'teenager': 5, 'chocolate': 5, 'springs': 5, 'college': 5, 'via': 5, 'staticof': 5, 'leaving': 5, 'plastic': 5, 'drives': 5, 'steam': 5, 'gettysburg': 5, 'shift': 5, 'waters': 5, 'tae': 5, 'kwon': 5, 'cards': 5, 'copenhagen': 5, 'smartphones': 5, 'mixing': 5, 'mobilephone': 5, 'corridor': 5, 'creative': 5, 'bustling': 5, 'surrounded': 5, 'its': 5, 'kenya': 5, 'relaxed': 5, 'pointing': 5, 'burning': 5, 'industry': 5, 'nighttime': 5, 'giraffe': 5, 'hluhluwe': 5, 'imfolozi': 5, 'traveler': 5, 'brain': 5, 'hoop': 5, 'colony': 5, 'embracing': 5, 'argentina': 5, 'class': 5, 'baked': 5, 'toasting': 5, 'dump': 5, 'oculus': 5, 'rift': 5, 'french': 5, 'conducting': 5, 'hammock': 5, 'bars': 5, 'box': 5, 'left': 5, 'chaise': 5, 'grey': 5, 'lobsters': 5, 'coloring': 5, 'inspecting': 5, 'chopping': 5, 'scan': 5, 'arm': 5, 'jeans': 5, 'banjo': 5, 'strumming': 5, 'tundra': 5, 'print': 5, 'november': 5, 'antique': 5, 'auto': 5, 'brush': 5, 'f': 5, 'scuba': 5, 'shower': 5, 'styles': 5, 'cotton': 5, 'drunk': 5, 'afro': 5, 'gear': 5, 'pours': 5, 'lawn': 5, 'clinic': 5, 'which': 5, 'angleof': 5, 'display': 5, 'playpen': 5, 'excited': 5, 'drip': 5, 'blossom': 5, 'ask': 5, 'question': 5, 'boys': 5, 'cow': 5, 'animals': 5, 'grazing': 5, 'paddling': 5, 'blown': 5, 'signing': 5, 'massaging': 5, 'hard': 5, 'athlete': 5, 'reaching': 5, 'alongside': 5, 'carries': 5, 'pareo': 5, 'hamburger': 5, 'fried': 5, 'great': 5, 'letter': 5, 'clock': 5, 'choosing': 5, 'when': 5, 'snorkel': 5, 'riverbank': 5, 'performance': 5, 'soup': 5, 'text': 5, 'complex': 5, 'menu': 5, 'ceremony': 5, 'desktop': 5, 'sheet': 5, 'older': 4, 'wife': 4, 'potter': 4, 'process': 4, 'brushing': 4, 'emotions': 4, 'feelings': 4, 'cambodia': 4, 'medium': 4, 'nativity': 4, 'dramatic': 4, 'railing': 4, 'check': 4, 'juggling': 4, 'woodshed': 4, 'los': 4, 'angeles': 4, 'several': 4, 'strike': 4, 'pencil': 4, 'canvas': 4, 'spruce': 4, 'briefcase': 4, 'llanquihue': 4, 'cement': 4, 'grandpa': 4, 'london': 4, 'bathroom': 4, 'farmer': 4, 'unpacking': 4, 'wheelbarrow': 4, 'order': 4, 'trailer': 4, 'dishes': 4, 'champagne': 4, 'commuters': 4, 'july': 4, 'streets': 4, 'japanese': 4, 'story': 4, 'army': 4, 'laser': 4, 'economy': 4, 'glacier': 4, 'approaches': 4, 'pepper': 4, 'racing': 4, 'airlock': 4, 'pedestrian': 4, 'lionfish': 4, 'smoothing': 4, 'houses': 4, 'footage': 4, 'bad': 4, 'chainsaw': 4, 'instrument': 4, 'firing': 4, 'elements': 4, 'furnished': 4, 'go': 4, 'bears': 4, 'zip': 4, 'fair': 4, 'porch': 4, 'gymnasium': 4, 'jacket': 4, 'security': 4, 'presentation': 4, 'bun': 4, 'combing': 4, 'statuettes': 4, 'tombstones': 4, 'cap': 4, 'architects': 4, 'blurred': 4, 'used': 4, 'jet': 4, 'boyfriend': 4, 'giant': 4, 'lightning': 4, 'releasing': 4, 'archway': 4, 'confederate': 4, 'cavalry': 4, 'among': 4, 'someone': 4, 'uhdx': 4, 'balloon': 4, 'boston': 4, 'rocket': 4, 'engine': 4, 'suing': 4, 'zooms': 4, 'sexy': 4, 'skates': 4, 'roof': 4, 'drug': 4, 'pharmacist': 4, 'practicing': 4, 'picking': 4, 'sleepy': 4, 'ethnic': 4, 'gate': 4, 'whitewater': 4, 'courtyard': 4, 'holiday': 4, 'slowmo': 4, 'joyful': 4, 'cattle': 4, 'dancers': 4, 'plaid': 4, 'public': 4, 'fisherman': 4, 'float': 4, 'pieces': 4, 'milling': 4, 'consulting': 4, 'exam': 4, 'learns': 4, 'shuffling': 4, 'onto': 4, 'finish': 4, 'mothers': 4, 'denmark': 4, 'stairs': 4, 'spider': 4, 'potatoes': 4, 'clear': 4, 'holidays': 4, 'uniform': 4, 'descending': 4, 'cosmetic': 4, 'mulatto': 4, 'sniffing': 4, 'dj': 4, 'rim': 4, 'musician': 4, 'revolution': 4, 'easel': 4, 'multiple': 4, 'veterans': 4, 'recreation': 4, 'omelet': 4, 'sick': 4, 'garbage': 4, 'tractor': 4, 'palm': 4, 'main': 4, 'confederates': 4, 'chicken': 4, 'rowboat': 4, 'golfer': 4, 'faces': 4, 'rapids': 4, 'exiting': 4, 'cao': 4, 'dai': 4, 'manicure': 4, 'activity': 4, 'operator': 4, 'lovely': 4, 'get': 4, 'breaking': 4, 'sold': 4, 'speeding': 4, 'canal': 4, 'sheep': 4, 'heart': 4, 'brooklyn': 4, 'papers': 4, 'lifting': 4, 'that': 4, 'koala': 4, 'below': 4, 'sprinkle': 4, 'powder': 4, 'boutique': 4, 'learning': 4, 'celebration': 4, 'bunny': 4, 'rides': 4, 'ostrich': 4, 'feathers': 4, 'string': 4, 'stabilizedsportswoman': 4, 'tracker': 4, 'bracelet': 4, 'zebra': 4, 'luggage': 4, 'silhouetted': 4, 'served': 4, 'magazine': 4, 'lobby': 4, 'rafting': 4, 'k': 4, 'shaking': 4, 'slicing': 4, 'cubs': 4, 'heading': 4, 'part': 4, 'canyons': 4, 'jewish': 4, 'laugh': 4, 'lynx': 4, 'slowly': 4, 'detail': 4, 'mans': 4, 'removes': 4, 'seeds': 4, 'indian': 4, 'parked': 4, 'swim': 4, 'ethnicity': 4, 'vehicle': 4, 'mud': 4, 'shoreline': 4, 'whipped': 4, 'driver': 4, 'pose': 4, 'la': 4, 'smiles': 4, 'builder': 4, 'john': 4, 'goats': 4, 'needle': 4, 'decorated': 4, 'shelf': 4, 'escape': 4, 'climbs': 4, 'listen': 4, 'tiltof': 4, 'meditating': 4, 'moon': 4, 'artists': 4, 'grinder': 4, 'wildflowers': 4, 'searching': 4, 'mail': 4, 'rollercoaster': 4, 'paint': 4, 'mediumof': 4, 'gather': 4, 'aircraft': 4, 'carrier': 4, 'say': 4, 'opinion': 4, 'journalists': 4, 'ab': 4, 'vivacious': 4, 'takeaway': 4, 'kudu': 4, 'service': 4, 'flipping': 4, 'hiker': 4, 'throws': 4, 'cross': 4, 'passes': 4, 'rhino': 4, 'pull': 4, 'entering': 4, 'journey': 4, 'outdoorsk': 4, 'lovers': 4, 'lips': 4, 'electronic': 4, 'chemical': 4, 'experiment': 4, 'snowshoes': 4, 'snowboarder': 4, 'microscope': 4, 'energy': 4, 'fries': 4, 'california': 4, 'checked': 4, 'calves': 4, 'officer': 4, 'nearby': 4, 'vegetable': 4, 'lifestylek': 4, 'exterior': 4, 'thinking': 4, 'admires': 4, 'seagull': 4, 'store': 4, 'spectators': 4, 'pole': 4, 'dragon': 4, 'olive': 4, 'penguins': 4, 'aunt': 4, 'nieces': 4, 'marshland': 4, 'lounge': 4, 'muffins': 4, 'hole': 4, 'lighting': 4, 'thomas': 4, 'gorgeous': 4, 'trip': 4, 'grimacing': 4, 'riders': 4, 'tent': 4, 'multicolored': 4, 'thessaloniki': 4, 'august': 4, 'conducts': 4, 'otter': 4, 'railway': 4, 'motorcycles': 4, 'coca': 4, 'panningshowing': 4, 'cookie': 4, 'nurses': 4, 'pasta': 4, 'decorate': 4, 'map': 4, 'repair': 4, 'seats': 4, 'unhappy': 3, 'interesting': 3, 'flashing': 3, 'overdue': 3, 'crockery': 3, 'creation': 3, 'pottery': 3, 'asia': 3, 'potink': 3, 'condition': 3, 'dollies': 3, 'pollution': 3, 'pulling': 3, 'removing': 3, 'hug': 3, 'firefighters': 3, 'silver': 3, 'snowing': 3, 'selecting': 3, 'read': 3, 'backpack': 3, 'stop': 3, 'have': 3, 'puppies': 3, 'cockatoo': 3, 'fight': 3, 'texts': 3, 'tierra': 3, 'del': 3, 'fuego': 3, 'racial': 3, 'grenades': 3, 'earphones': 3, 'location': 3, 'ballerina': 3, 'garter': 3, 'staff': 3, 'module': 3, 'oahu': 3, 'lines': 3, 'online': 3, 'bushes': 3, 'haircut': 3, 'poker': 3, 'crashing': 3, 'scratching': 3, 'shimmering': 3, 'millennium': 3, 'stand': 3, 'discuss': 3, 'startup': 3, 'tying': 3, 'rope': 3, 'sail': 3, 'firewood': 3, 'atmosphere': 3, 'skies': 3, 'orchard': 3, 'rifle': 3, 'manhattan': 3, 'brushes': 3, 'tool': 3, 'sled': 3, 'historical': 3, 'epoch': 3, 'russian': 3, 'hills': 3, 'waitress': 3, 'playground': 3, 'smili': 3, 'styling': 3, 'drift': 3, 'incoming': 3, 'captain': 3, 'canon': 3, 'edited': 3, 'everglades': 3, 'beautician': 3, 'squad': 3, 'gangster': 3, 'brick': 3, 'answering': 3, 'spectacular': 3, 'vivid': 3, 'rest': 3, 'escalator': 3, 'trade': 3, 'grating': 3, 'pomegranate': 3, 'campaign': 3, 'signs': 3, 'rooftop': 3, 'agent': 3, 'satellite': 3, 'sculpture': 3, 'european': 3, 'capturing': 3, 'bottles': 3, 'boats': 3, 'atv': 3, 'hats': 3, 'escaped': 3, 'steadicamthrough': 3, 'curly': 3, 'snorkeling': 3, 'magpie': 3, 'buttons': 3, 'protective': 3, 'pile': 3, 'popcorn': 3, 'jam': 3, 'seminar': 3, 'motherhood': 3, 'sparkler': 3, 'turned': 3, 'transparent': 3, 'bucking': 3, 'loopwith': 3, 'blackmagic': 3, 'ursa': 3, 'mini': 3, 'tiltingshowing': 3, 'luscious': 3, 'ants': 3, 'promenade': 3, 'depth': 3, 'grain': 3, 'juan': 3, 'rico': 3, 'tossing': 3, 'dining': 3, 'clearing': 3, 'ancient': 3, 'muskets': 3, 'impatient': 3, 'albuquerque': 3, 'fiesta': 3, 'gesturing': 3, 'retrieving': 3, 'india': 3, 'trunk': 3, 'dipping': 3, 'pen': 3, 'niagara': 3, 'b': 3, 'luxurious': 3, 'grand': 3, 'sieve': 3, 'measured': 3, 'shelves': 3, 'bouquet': 3, 'mall': 3, 'seahorse': 3, 'design': 3, 'hawk': 3, 'cloth': 3, 'years': 3, 'gently': 3, 'blurry': 3, 'interior': 3, 'coast': 3, 'track': 3, 'pulls': 3, 'gears': 3, 'chain': 3, 'charging': 3, 'nol': 3, 'dealer': 3, 'museum': 3, 'dirty': 3, 'frenzy': 3, 'web': 3, 'paying': 3, 'castro': 3, 'quiet': 3, 'steaming': 3, 'respirator': 3, 'finished': 3, 'goes': 3, 'fjord': 3, 'baggage': 3, 'claim': 3, 'bean': 3, 'could': 3, 'member': 3, 'drums': 3, 'rubs': 3, 'pain': 3, 'property': 3, 'pedal': 3, 'pants': 3, 'korean': 3, 'slices': 3, 'wrack': 3, 'hen': 3, 'chicks': 3, 'rarotongo': 3, 'upper': 3, 'details': 3, 'billowing': 3, 'duty': 3, 'zone': 3, 'booking': 3, 'credit': 3, 'code': 3, 'bank': 3, 'flyfishing': 3, 'mixer': 3, 'frozen': 3, 'classroom': 3, 'deal': 3, 'hammering': 3, 'magic': 3, 'viewwater': 3, 'lakesailboats': 3, 'decorates': 3, 'departure': 3, 'chasing': 3, 'virginia': 3, 'basketballin': 3, 'toddler': 3, 'venice': 3, 'where': 3, 'sunsetk': 3, 'app': 3, 'telephone': 3, 'crete': 3, 'goggles': 3, 'france': 3, 'fossil': 3, 'bloomy': 3, 'sunshine': 3, 'luzhniki': 3, 'underside': 3, 'harrier': 3, 'elk': 3, 'hillside': 3, 'lounges': 3, 'rushing': 3, 'cool': 3, 'jay': 3, 'held': 3, 'dumping': 3, 'pedestrians': 3, 'excitement': 3, 'amount': 3, 'grown': 3, 'cows': 3, 'feasting': 3, 'sandhill': 3, 'teen': 3, 'bakery': 3, 'skincare': 3, 'keying': 3, 'radiologist': 3, 'monitors': 3, 'production': 3, 'melting': 3, 'cyclist': 3, 'redrock': 3, 'viewing': 3, 'hitting': 3, 'iron': 3, 'agency': 3, 'backlit': 3, 'newly': 3, 'poured': 3, 'dreidel': 3, 'putts': 3, 'lollipop': 3, 'juggles': 3, 'crazy': 3, 'nice': 3, 'biting': 3, 'candy': 3, 'dentistry': 3, 'glidingof': 3, 'areas': 3, 'finches': 3, 'human': 3, 'took': 3, 'javelin': 3, 'spear': 3, 'thrower': 3, 'kennedy': 3, 'yukon': 3, 'lifts': 3, 'volley': 3, 'spread': 3, 'sound': 3, 'role': 3, 'yet': 3, 'marlen': 3, 'khutsiev': 3, 'carousel': 3, 'eternal': 3, 'barn': 3, 'girlfriend': 3, 'environment': 3, 'motionfpsx': 3, 'packing': 3, 'colleague': 3, 'fixed': 3, 'till': 3, 'merry': 3, 'grove': 3, 'pair': 3, 'slopes': 3, 'forklift': 3, 'facial': 3, 'cleansing': 3, 'blazing': 3, 'buying': 3, 'pet': 3, 'snowshoeing': 3, 'narrow': 3, 'patrons': 3, 'shoulders': 3, 'drone': 3, 'bloom': 3, 'boss': 3, 'gallop': 3, 'eight': 3, 'central': 3, 'splashing': 3, 'treek': 3, 'joshua': 3, 'examining': 3, 'galilee': 3, 'surprise': 3, 'squeezing': 3, 'sisters': 3, 'overlooking': 3, 'perfect': 3, 'geese': 3, 'flips': 3, 'patio': 3, 'breakdancer': 3, 'shrimp': 3, 'lonely': 3, 'blanket': 3, 'curls': 3, 'cyclists': 3, 'serve': 3, 'seals': 3, 'olympic': 3, 'fans': 3, 'raise': 3, 'movement': 3, 'clownfish': 3, 'gorilla': 3, 'roadside': 3, 'kisses': 3, 'post': 3, 'overpass': 3, 'timelapsek': 3, 'find': 3, 'hanukia': 3, 'casting': 3, 'lit': 3, 'airplanes': 3, 'grater': 3, 'swings': 3, 'journalist': 3, 'crab': 3, 'crustacean': 3, 'muesli': 3, 'romanian': 3, 'visiting': 3, 'cola': 3, 'unhealth': 3, 'theme': 3, 'painter': 3, 'chefs': 3, 'sm': 3, 'flyby': 3, 'arguing': 3, 'snowshoe': 3, 'dune': 3, 'move': 3, 'afternoon': 3, 'blueprints': 3, 'places': 3, 'entrance': 3, 'italy': 3, 'venetian': 3, 'practice': 3, 'bath': 3, 'end': 3, 'paints': 3, 'monastery': 3, 'sharing': 3, 'apollo': 3, 'uphill': 3, 'futuristic': 3, 'corruption': 3, 'excavator': 3, 'seafront': 3, 'blinking': 3, 'cold': 3, 'boxing': 3, 'circling': 3, 'detaching': 3, 'county': 3, 'manual': 3, 'marina': 3, 'farmers': 3, 'exhibition': 3, 'metallic': 3, 'jefferson': 3, 'stack': 3, 'climb': 3, 'sometimes': 3, 'xc': 3, 'vr': 3, 'metalworking': 3, 'processing': 3, 'pre': 3, 'stretch': 3, 'ipad': 3, 'dollar': 3, 'delivery': 3, 'flags': 3, 'sending': 3, 'perch': 3, 'bass': 3, 'leading': 3, 'whiteboard': 3, 'masks': 3, 'pure': 3, 'rv': 3, 'contractor': 3, 'windsurfing': 3, 'straightens': 3, 'applauding': 3, 'ca': 3, 'dad': 3, 'plantation': 3, 'turquoise': 3, 'mechanical': 3, 'pride': 3, 'miami': 3, 'athletic': 3, 'lip': 3, 'liner': 3, 'lovatnet': 3, 'defocused': 3, 'vast': 3, 'gloves': 3, 'elevator': 3, 'bleachers': 3, 'cornflakes': 3, 'creature': 3, 'freight': 3, 'british': 3, 'columbia': 3, 'rollers': 3, 'sneaks': 3, 'barefoot': 3, 'researcher': 3, 'support': 3, 'tells': 3, 'ashkelon': 3, 'seawater': 3, 'reverse': 3, 'osmosis': 3, 'medicine': 3, 'basil': 3, 'surf': 3, 'co': 3, 'arched': 3, 'granddaughter': 3, 'historic': 3, 'repelling': 3, 'easter': 3, 'egg': 3, 'roulette': 2, 'dam': 2, 'burn': 2, 'tweeting': 2, 'comes': 2, 'twig': 2, 'report': 2, 'petco': 2, 'charlottenburg': 2, 'castle': 2, 'smog': 2, 'translucent': 2, 'subway': 2, 'flaming': 2, 'fan': 2, 'scaling': 2, 'reindeer': 2, 'caught': 2, 'tsa': 2, 'roots': 2, 'lago': 2, 'roca': 2, 'axe': 2, 'dodger': 2, 'contemporary': 2, 'shown': 2, 'displays': 2, 'backgrounds': 2, 'serves': 2, 'foliage': 2, 'platform': 2, 'slavery': 2, 'local': 2, 'starfish': 2, 'confident': 2, 'bo': 2, 'figures': 2, 'rooster': 2, 'muscles': 2, 'coastal': 2, 'trackingshowing': 2, 'hardworker': 2, 'district': 2, 'transit': 2, 'transportation': 2, 'mill': 2, 'snowcapped': 2, 'surprising': 2, 'granddaughters': 2, 'chairlift': 2, 'job': 2, 'organizing': 2, 'arranging': 2, 'placement': 2, 'stuff': 2, 'mediterranean': 2, 'rice': 2, 'nori': 2, 'puffy': 2, 'monkeys': 2, 'grooming': 2, 'lockers': 2, 'vantage': 2, 'swat': 2, 'chanuka': 2, 'aiming': 2, 'skating': 2, 'clears': 2, 'firek': 2, 'carriage': 2, 'foots': 2, 'colomna': 2, 'song': 2, 'horseback': 2, 'tail': 2, 'dawn': 2, 'cocoa': 2, 'dreaming': 2, 'migration': 2, 'yogurt': 2, 'hay': 2, 'morninig': 2, 'plum': 2, 'asphalt': 2, 'exits': 2, 'shoveling': 2, 'windowsill': 2, 'roost': 2, 'lid': 2, 'handing': 2, 'wireless': 2, 'bored': 2, 'suburban': 2, 'nap': 2, 'sliderof': 2, 'medication': 2, 'santas': 2, 'brow': 2, 'scarf': 2, 'strange': 2, 'snacking': 2, 'praying': 2, 'mosque': 2, 'wolf': 2, 'chirping': 2, 'system': 2, 'grinds': 2, 'angular': 2, 'grinding': 2, 'wading': 2, 'follow': 2, 'whistle': 2, 'northern': 2, 'arizona': 2, 'trolley': 2, 'backs': 2, 'mo': 2, 'rush': 2, 'your': 2, 'barber': 2, 'clients': 2, 'beard': 2, 'rights': 2, 'washes': 2, 'comfortable': 2, 'bumper': 2, 'hairstyle': 2, 'printer': 2, 'doors': 2, 'swan': 2, 'warning': 2, 'authentic': 2, 'challenging': 2, 'conditions': 2, 'bit': 2, 'maybe': 2, 'filing': 2, 'knees': 2, 'fork': 2, 'moab': 2, 'turret': 2, 'munching': 2, 'rockets': 2, 'spanish': 2, 'harley': 2, 'number': 2, 'squirrel': 2, 'pages': 2, 'bookshelves': 2, 'literature': 2, 'turn': 2, 'copy': 2, 'strawberry': 2, 'lock': 2, 'volga': 2, 'toboggan': 2, 'paintings': 2, 'gates': 2, 'shovel': 2, 'kayaking': 2, 'beautyof': 2, 'carrots': 2, 'womanfrom': 2, 'crow': 2, 'buy': 2, 'streaming': 2, 'wifes': 2, 'pregnancy': 2, 'offof': 2, 'motorcyclists': 2, 'mortgage': 2, 'designers': 2, 'sailboats': 2, 'tour': 2, 'waimanalo': 2, 'types': 2, 'variety': 2, 'choice': 2, 'prices': 2, 'land': 2, 'sarong': 2, 'wrangler': 2, 'fountain': 2, 'smi': 2, 'weather': 2, 'ambulance': 2, 'wash': 2, 'pipe': 2, 'twin': 2, 'retro': 2, 'styled': 2, 'cafek': 2, 'windmills': 2, 'stroking': 2, 'feels': 2, 'spend': 2, 'striated': 2, 'guinea': 2, 'pig': 2, 'concertk': 2, 'dof': 2, 'explosion': 2, 'coconut': 2, 'palms': 2, 'tropics': 2, 'loader': 2, 'planes': 2, 'smith': 2, 'guns': 2, 'employee': 2, 'meadowlands': 2, 'trumpeting': 2, 'wildebeest': 2, 'leg': 2, 'punta': 2, 'cana': 2, 'dominican': 2, 'republic': 2, 'novemer': 2, 'smock': 2, 'canvasses': 2, 'supplies': 2, 'elbow': 2, 'pennsylvania': 2, 'pagosa': 2, 'special': 2, 'offshowing': 2, 'ears': 2, 'helicopters': 2, 'jets': 2, 'uss': 2, 'sprayer': 2, 'daydreaming': 2, 'gathered': 2, 'tiny': 2, 'cereals': 2, 'juiceink': 2, 'sandwich': 2, 'financial': 2, 'change': 2, 'usa': 2, 'butterflies': 2, 'seas': 2, 'musical': 2, 'businesslady': 2, 'injured': 2, 'knee': 2, 'sooth': 2, 'smokestack': 2, 'glamorous': 2, 'advance': 2, 'treetops': 2, 'billed': 2, 'corella': 2, 'headlights': 2, 'swarming': 2, 'caribbean': 2, 'tourism': 2, 'shops': 2, 'gadgets': 2, 'objects': 2, 'dollywoman': 2, 'epic': 2, 'wintertime': 2, 'fashion': 2, 'temple': 2, 'staircase': 2, 'second': 2, 'enter': 2, 'data': 2, 'furniture': 2, 'dips': 2, 'fatherping': 2, 'starts': 2, 'attaching': 2, 'wires': 2, 'loading': 2, 'hold': 2, 'elementary': 2, 'fixing': 2, 'tie': 2, 'blooming': 2, 'europe': 2, 'cart': 2, 'bermuda': 2, 'pierpanorama': 2, 'cardio': 2, 'motorboat': 2, 'molting': 2, 'husband': 2, 'spiraling': 2, 'ha': 2, 'rear': 2, 'tubes': 2, 'newest': 2, 'submarine': 2, 'minnesota': 2, 'underneath': 2, 'steady': 2, 'songs': 2, 'champangne': 2, 'fireplacek': 2, 'coats': 2, 'arabian': 2, 'gulf': 2, 'irrigates': 2, 'greenhouse': 2, 'beaver': 2, 'defense': 2, 'combine': 2, 'yoghurt': 2, 'lazy': 2, 'dust': 2, 'chamonix': 2, 'alps': 2, 'relaxation': 2, 'cardboard': 2, 'expecting': 2, 'carpet': 2, 'dries': 2, 'honey': 2, 'lightening': 2, 'barrell': 2, 'takeoff': 2, 'scoreboard': 2, 'tries': 2, 'hunter': 2, 'employed': 2, 'roll': 2, 'chopsticks': 2, 'soy': 2, 'mascara': 2, 'gamepads': 2, 'has': 2, 'jetty': 2, 'handsk': 2, 'lakeside': 2, 'pulse': 2, 'meerkat': 2, 'crayfish': 2, 'milking': 2, 'pony': 2, 'joy': 2, 'sportsman': 2, 'jibover': 2, 'forward': 2, 'unseen': 2, 'catch': 2, 'roping': 2, 'sketches': 2, 'radio': 2, 'jeweller': 2, 'tin': 2, 'ferry': 2, 'like': 2, 'spectacles': 2, 'us': 2, 'i': 2, 'valleys': 2, 'lap': 2, 'walkway': 2, 'beneath': 2, 'pump': 2, 'naturalist': 2, 'combat': 2, 'bookshelf': 2, 'graceful': 2, 'fine': 2, 'parchment': 2, 'attached': 2, 'teddy': 2, 'scarred': 2, 'swooping': 2, 'stepping': 2, 'lunar': 2, 'version': 2, 'landmarks': 2, 'cereal': 2, 'maldives': 2, 'expedition': 2, 'antarctica': 2, 'sledge': 2, 'watched': 2, 'orbiting': 2, 'unicycle': 2, 'single': 2, 'throw': 2, 'inserting': 2, 'plug': 2, 'showroom': 2, 'atlantis': 2, 'dumbbell': 2, 'sunken': 2, 'toppled': 2, 'forehand': 2, 'was': 2, 'rugged': 2, 'spires': 2, 'fathers': 2, 'impalas': 2, 'welding': 2, 'alpine': 2, 'embrace': 2, 'virgin': 2, 'de': 2, 'sparklers': 2, 'actor': 2, 'tolstoy': 2, 'kennedys': 2, 'gravesite': 2, 'owl': 2, 'tents': 2, 'tallinn': 2, 'estonia': 2, 'acupuncture': 2, 'performed': 2, 'present': 2, 'sill': 2, 'stacks': 2, 'lax': 2, 'turkey': 2, 'vnukovo': 2, 'huddle': 2, 'snowboarders': 2, 'decorations': 2, 'communicate': 2, 'no': 2, 'vaping': 2, 'wake': 2, 'spending': 2, 'wet': 2, 'roses': 2, 'easy': 2, 'trick': 2, 'october': 2, 'garland': 2, 'depicting': 2, 'ear': 2, 't': 2, 'tilting': 2, 'ww': 2, 'frustrated': 2, 'wintery': 2, 'handicapped': 2, 'leash': 2, 'valentines': 2, 'screeming': 2, 'start': 2, 'coiled': 2, 'onion': 2, 'customers': 2, 'agents': 2, 'skyscraper': 2, 'department': 2, 'cooks': 2, 'smil': 2, 'attack': 2, 'caterpillar': 2, 'comforting': 2, 'blossoms': 2, 'charleston': 2, 'fastening': 2, 'phones': 2, 'came': 2, 'finale': 2, 'reflected': 2, 'bringing': 2, 'frantic': 2, 'offering': 2, 'ring': 2, 'tape': 2, 'intense': 2, 'sandy': 2, 'twists': 2, 'womanink': 2, 'seller': 2, 'headache': 2, 'here': 2, 'oriental': 2, 'orthopedic': 2, 'navajo': 2, 'barista': 2, 'begins': 2, 'shake': 2, 'bandana': 2, 'simmered': 2, 'saucepan': 2, 'mens': 2, 'lays': 2, 'shade': 2, 'active': 2, 'lecture': 2, 'match': 2, 'piggy': 2, 'case': 2, 'karate': 2, 'longue': 2, 'seascape': 2, 'arc': 2, 'triumph': 2, 'outisde': 2, 'march': 2, 'barley': 2, 'slide': 2, 'architectural': 2, 'bucket': 2, 'workouts': 2, 'astronauts': 2, 'masseuse': 2, 'dumbbells': 2, 'celebrate': 2, 'sweater': 2, 'beads': 2, 'topical': 2, 'saltwater': 2, 'anemonefish': 2, 'massive': 2, 'draft': 2, 'accidently': 2, 'chops': 2, 'scavenging': 2, 'loudspeaker': 2, 'antigua': 2, 'chiloe': 2, 'cuts': 2, 'goal': 2, 'chews': 2, 'cud': 2, 'ornaments': 2, 'dropper': 2, 'latte': 2, 'blueprint': 2, 'bills': 2, 'sings': 2, 'misty': 2, 'crying': 2, 'wades': 2, 'flyover': 2, 'shoots': 2, 'profile': 2, 'handheldof': 2, 'bloodpressure': 2, 'backpacker': 2, 'moutains': 2, 'liquid': 2, 'starry': 2, 'poolside': 2, 'grabbing': 2, 'snowstorm': 2, 'squid': 2, 'rainbow': 2, 'flashlights': 2, 'buggy': 2, 'swims': 2, 'el': 2, 'mingling': 2, 'formation': 2, 'cigar': 2, 'topography': 2, 'flowing': 2, 'waiter': 2, 'jerusalem': 2, 'countries': 2, 'roadway': 2, 'paraglider': 2, 'snowplows': 2, 'lone': 2, 'pleasure': 2, 'windmill': 2, 'freeway': 2, 'windy': 2, 'departing': 2, 'played': 2, 'scrolling': 2, 'hitch': 2, 'jibas': 2, 'kirillov': 2, 'wire': 2, 'charts': 2, 'performer': 2, 'aquamarine': 2, 'appear': 2, 'cant': 2, 'chickens': 2, 'rubber': 2, 'heels': 2, 'dance': 2, 'coloradok': 2, 'thrown': 2, 'alligator': 2, 'ecu': 2, 'smelling': 2, 'cabinet': 2, 'daily': 2, 'routine': 2, 'university': 2, 'hispanic': 2, 'luxuary': 2, 'scattered': 2, 'constructor': 2, 'cheese': 2, 'determined': 2, 'stocking': 2, 'slot': 2, 'tripod': 2, 'directions': 2, 'zoomed': 2, 'shaping': 2, 'eyebrows': 2, 'smooth': 2, 'bugs': 2, 'powell': 2, 'domestic': 2, 'screaming': 2, 'travelers': 2, 'watermelon': 2, 'batter': 2, 'pitch': 2, 'bat': 2, 'catcher': 2, 'crouching': 2, 'kettle': 2, 'fishes': 2, 'vulture': 2, 'rinsing': 2, 'campus': 2, 'chess': 2, 'picks': 2, 'chips': 2, 'promoting': 2, 'elderly': 2, 'yachts': 2, 'ramp': 2, 'hush': 2, 'grapes': 2, 'trackingfocusing': 2, 'carried': 2, 'mechanism': 2, 'diary': 2, 'gardenk': 2, 'printed': 2, 'materials': 2, 'gentleman': 2, 'aitutaki': 2, 'tires': 2, 'english': 2, 'collecting': 2, 'banknote': 2, 'tickets': 2, 'debit': 2, 'jar': 2, 'shacking': 2, 'ink': 2, 'redwood': 2, 'placing': 2, 'winding': 2, 'waste': 2, 'dollythrough': 2, 'crimson': 2, 'prey': 2, 'sms': 2, 'shine': 2, 'baltic': 2, 'wintry': 2, 'spreading': 2, 'hurghada': 2, 'egypt': 2, 'lined': 2, 'chart': 2, 'towel': 2, 'basin': 2, 'worried': 2, 'mosfilm': 2, 'sited': 2, 'worship': 2, 'ripples': 2, 'playingwith': 2, 'compass': 2, 'barbell': 2, 'still': 2, 'trails': 2, 'cups': 2, 'stares': 2, 'beverage': 2, 'warthog': 2, 'ge': 2, 'isolated': 2, 'harbork': 2, 'ginger': 2, 'disco': 2, 'backhoe': 2, 'baboon': 2, 'e': 2, 'stealth': 2, 'bomber': 2, 'firework': 2, 'mexico': 2, 'vail': 2, 'bokeh': 2, 'patterns': 2, 'newborn': 2, 'wrapped': 2, 'verge': 2, 'ideas': 2, 'worldwide': 2, 'brightly': 2, 'painted': 2, 'lovek': 2, 'computers': 2, 'dig': 2, 'holes': 2, 'spade': 2, 'walker': 2, 'cellphones': 2, 'remote': 2, 'strength': 2, 'stomach': 2, 'hanger': 2, 'gives': 2, 'craft': 2, 'best': 2, 'frutillar': 2, 'mountainside': 2, 'rejoices': 2, 'pub': 2, 'nestled': 2, 'counting': 2, 'osprey': 2, 'refueling': 2, 'fires': 2, 'relaxes': 2, 'tide': 2, 'bruschettas': 2, 'pastry': 2, 'smilin': 2, 'far': 2, 'burgers': 2, 'recording': 2, 'enters': 2, 'reception': 2, 'combines': 2, 'sunflower': 2, 'hikes': 2, 'jesus': 2, 'eyeglasses': 2, 'discussion': 2, 'haired': 2, 'workplace': 2, 'hunting': 2, 'than': 2, 'vegetation': 2, 'tongs': 2, 'fluttering': 2, 'fit': 2, 'amsterdam': 2, 'holland': 2, 'netherl': 2, 'viewk': 2, 'bottom': 2, 'alcoholic': 2, 'pierced': 2, 'diver': 2, 'scenes': 2, 'honor': 2, 'procedure': 2, 'c': 2, 'swimsuits': 2, 'xmas': 2, 'bacon': 2, 'monica': 2, 'icy': 2, 'wade': 2, 'orthopaedist': 2, 'shoe': 2, 'propeller': 2, 'guided': 2, 'parachute': 2, 'reach': 2, 'puddle': 2, 'mykonos': 2, 'performs': 2, 'chi': 2, 'kittiwakes': 2, 'clapping': 2, 'skateboard': 2, 'lumber': 2, 'babies': 2, 'temples': 2, 'assorted': 2, 'cave': 2, 'digging': 2, 'cutter': 2, 'thai': 2, 'ordering': 2, 'neighborhood': 2, 'hollywood': 2, 'rusty': 2, 'sewing': 2, 'teeth': 2, 'rhinoceros': 2, 'navigation': 2, 'disc': 2, 'fat': 2, 'droplets': 2, 'discovery': 2, 'dropping': 2, 'fanning': 2, 'vineyard': 2, 'relax': 2, 'oral': 2, 'hygiene': 2, 'panels': 2, 'reenactor': 2, 'coastline': 2, 'oceanarium': 2, 'burger': 2, 'musket': 2, 'sh': 2, 'racket': 2, 'pets': 2, 'sitter': 2, 'alsatian': 2, 'aisen': 2, 'chacabuco': 2, 'assembly': 2, 'springtime': 2, 'hovers': 1, 'hoover': 1, 'conveyor': 1, 'racks': 1, 'released': 1, 'barren': 1, 'ruins': 1, 'hartebeest': 1, 'stroller': 1, 'bounding': 1, 'schloss': 1, 'illuminate': 1, 'upward': 1, 'berlin': 1, 'germa': 1, 'baskets': 1, 'pounds': 1, 'fencepost': 1, 'intersectionk': 1, 'north': 1, 'nordkapp': 1, 'pat': 1, 'downk': 1, 'glare': 1, 'coals': 1, 'protrude': 1, 'eroded': 1, 'chopped': 1, 'parking': 1, 'sheik': 1, 'beyond': 1, 'seating': 1, 'schedule': 1, 'aiport': 1, 'foggy': 1, 'chains': 1, 'galloping': 1, 'bend': 1, 'vermilion': 1, 'flycatcher': 1, 'leafy': 1, 'coils': 1, 'mate': 1, 'parachutes': 1, 'draws': 1, 'geometrical': 1, 'rapidswith': 1, 'abseiling': 1, 'ropes': 1, 'scale': 1, 'vertical': 1, 'barbershop': 1, 'dominate': 1, 'chilean': 1, 'nose': 1, 'hanky': 1, 'ill': 1, 'smartphoneis': 1, 'steers': 1, 'enclosed': 1, 'lioness': 1, 'ethereal': 1, 'glow': 1, 'drawshoot': 1, 'nursery': 1, 'plasticine': 1, 'childern': 1, 'bobcat': 1, 'classic': 1, 'electricians': 1, 'transformer': 1, 'blueptints': 1, 'weaving': 1, 'mussels': 1, 'cuisine': 1, 'dusty': 1, 'silhouetterifle': 1, 'wheatfield': 1, 'column': 1, 'confers': 1, 'donats': 1, 'handshake': 1, 'dissolving': 1, 'toronto': 1, 'deli': 1, 'rink': 1, 'bryant': 1, 'christm': 1, 'dragging': 1, 'waling': 1, 'sunbeam': 1, 'underground': 1, 'beachk': 1, 'farms': 1, 'happily': 1, 'humorous': 1, 'portraitof': 1, 'schoolbus': 1, 'continental': 1, 'downof': 1, 'administering': 1, 'fractional': 1, 'resurface': 1, 'rejuvenate': 1, 'wagging': 1, 'rustic': 1, 'tranquillity': 1, 'kittwakes': 1, 'package': 1, 'aubergine': 1, 'upset': 1, 'problem': 1, 'flattening': 1, 'mazefield': 1, 'found': 1, 'shell': 1, 'cyan': 1, 'emracing': 1, 'expectation': 1, 'circle': 1, 'drops': 1, 'yacht': 1, 'felling': 1, 'anhinga': 1, 'offcapturing': 1, 'reeling': 1, 'sterilizer': 1, 'cosmetological': 1, 'roadwork': 1, 'gunfight': 1, 'squats': 1, 'canada': 1, 'honking': 1, 'raising': 1, 'windsurf': 1, 'sailboard': 1, 'rotation': 1, 'steel': 1, 'raspberries': 1, 'babyboy': 1, 'surroundings': 1, 'pyongshong': 1, 'pyongyang': 1, 'celebrations': 1, 'lumberjack': 1, 'wait': 1, 'lupines': 1, 'england': 1, 'bunch': 1, 'saying': 1, 'readings': 1, 'handling': 1, 'dabs': 1, 'barracuda': 1, 'chilling': 1, 'quickly': 1, 'guitars': 1, 'sids': 1, 'inflatable': 1, 'mattress': 1, 'houseboat': 1, 'footbridge': 1, 'vultures': 1, 'birch': 1, 'atd': 1, 'rotate': 1, 'easily': 1, 'tech': 1, 'trends': 1, 'expo': 1, 'roadk': 1, 'anonymous': 1, 'sprout': 1, 'wildebeests': 1, 'dolphins': 1, 'wanting': 1, 'honeymoon': 1, 'abraham': 1, 'lincoln': 1, 'emancipation': 1, 'liteiny': 1, 'coffin': 1, 'citycan': 1, 'insert': 1, 'content': 1, 'rejecting': 1, 'want': 1, 'letting': 1, 'winek': 1, 'trimming': 1, 'structure': 1, 'expertise': 1, 'character': 1, 'personality': 1, 'dreadlocks': 1, 'tattoos': 1, 'shells': 1, 'circular': 1, 'saw': 1, 'legionary': 1, 'trampoline': 1, 'amusement': 1, 'imitation': 1, 'bolt': 1, 'steadycome': 1, 'plasma': 1, 'dismounted': 1, 'splitting': 1, 'staticand': 1, 'panningtracking': 1, 'greek': 1, 'dofk': 1, 'launchk': 1, 'mouse': 1, 'girs': 1, 'pavilion': 1, 'grandparents': 1, 'facewash': 1, 'sparks': 1, 'ignite': 1, 'fringed': 1, 'benches': 1, 'wasabi': 1, 'installing': 1, 'parabolic': 1, 'antennae': 1, 'booster': 1, 'rise': 1, 'charmer': 1, 'tempanos': 1, 'tampanos': 1, 'iceberg': 1, 'flow': 1, 'sarcastic': 1, 'leans': 1, 'handlebar': 1, 'drugin': 1, 'pharmacy': 1, 'added': 1, 'afterwards': 1, 'identicalwith': 1, 'stss': 1, 'nuts': 1, 'antenna': 1, 'ii': 1, 'pinguin': 1, 'raised': 1, 'mineral': 1, 'bubbler': 1, 'beared': 1, 'breather': 1, 'herbs': 1, 'sets': 1, 'elaborate': 1, 'hermit': 1, 'crabs': 1, 'caws': 1, 'zoomi': 1, 'scissors': 1, 'stub': 1, 'drivingk': 1, 'cheeses': 1, 'kinds': 1, 'greenfieldfrom': 1, 'oceans': 1, 'octopus': 1, 'crawling': 1, 'creatures': 1, 'tablefood': 1, 'meet': 1, 'spins': 1, 'dingle': 1, 'urchins': 1, 'eco': 1, 'transport': 1, 'kickitat': 1, 'poles': 1, 'smov': 1, 'hippo': 1, 'source': 1, 'dealing': 1, 'spoons': 1, 'dairy': 1, 'baring': 1, 'every': 1, 'emergency': 1, 'vehicles': 1, 'cofa': 1, 'strips': 1, 'latin': 1, 'poncho': 1, 'pannin': 1, 'blur': 1, 'closi': 1, 'tiramisu': 1, 'daddy': 1, 'sacks': 1, 'mojito': 1, 'chemicals': 1, 'product': 1, 'geiranger': 1, 'itchy': 1, 'shiny': 1, 'loft': 1, 'stereo': 1, 'split': 1, 'stewardess': 1, 'rancher': 1, 'ease': 1, 'joint': 1, 'glove': 1, 'flashlight': 1, 'forces': 1, 'married': 1, 'brainwave': 1, 'controlled': 1, 'depending': 1, 'mood': 1, 'tip': 1, 'bacalar': 1, 'figher': 1, 'midway': 1, 'boarding': 1, 'nevada': 1, 'steep': 1, 'wooded': 1, 'wheels': 1, 'crevice': 1, 'perching': 1, 'firefight': 1, 'dragonfly': 1, 'footpath': 1, 'gondola': 1, 'youg': 1, 'ironing': 1, 'cupsp': 1, 'flurry': 1, 'cherries': 1, 'tnen': 1, 'pigeon': 1, 'release': 1, 'coconuts': 1, 'tandem': 1, 'scratch': 1, 'surprises': 1, 'roast': 1, 'escapes': 1, 'voter': 1, 'responsibilities': 1, 'havana': 1, 'cuba': 1, 'cuban': 1, 'stalls': 1, 'souvenirs': 1, 'handicrafts': 1, 'posters': 1, 'buys': 1, 'cheeking': 1, 'account': 1, 'pod': 1, 'cameraman': 1, 'greet': 1, 'returns': 1, 'workday': 1, 'freelance': 1, 'geek': 1, 'computing': 1, 'grunge': 1, 'cloths': 1, 'parquetcolor': 1, 'disabled': 1, 'laboring': 1, 'storage': 1, 'lost': 1, 'zips': 1, 'peoples': 1, 'just': 1, 'bought': 1, 'atm': 1, 'pectoral': 1, 'wellness': 1, 'kiwi': 1, 'overworked': 1, 'capped': 1, 'raindrops': 1, 'dads': 1, 'verticalof': 1, 'sparlking': 1, 'settled': 1, 'skiiers': 1, 'murder': 1, 'lad': 1, 'engineering': 1, 'aside': 1, 'woolly': 1, 'lemonade': 1, 'soldierin': 1, 'tank': 1, 'roasted': 1, 'seabirds': 1, 'mannequin': 1, 'situps': 1, 'abdominal': 1, 'commercial': 1, 'doha': 1, 'capital': 1, 'qatar': 1, 'decorative': 1, 'harvests': 1, 'raging': 1, 'draw': 1, 'diagrams': 1, 'tubing': 1, 'toes': 1, 'been': 1, 'polished': 1, 'rubbed': 1, 'creates': 1, 'sell': 1, 'aegean': 1, 'mont': 1, 'blanc': 1, 'haute': 1, 'savoie': 1, 'hakafot': 1, 'sokkot': 1, 'prestige': 1, 'displayed': 1, 'neatly': 1, 'platfrom': 1, 'chainsawing': 1, 'stingray': 1, 'intenet': 1, 'sack': 1, 'kitten': 1, 'avb': 1, 'westernpistolsfiring': 1, 'cosmeticians': 1, 'issues': 1, 'supermarket': 1, 'buffaloes': 1, 'creepy': 1, 'hollow': 1, 'rome': 1, 'colosseum': 1, 'appetizing': 1, 'sandwiches': 1, 'spray': 1, 'upwards': 1, 'topless': 1, 'expression': 1, 'neighbours': 1, 'acupuncturist': 1, 'shannon': 1, 'banagher': 1, 'harbour': 1, 'knossos': 1, 'propylaea': 1, 'palace': 1, 'peeing': 1, 'reporting': 1, 'stranding': 1, 'clink': 1, 'strings': 1, 'twinkling': 1, 'sportswoman': 1, 'riverside': 1, 'loo': 1, 'docks': 1, 'skis': 1, 'robotic': 1, 'vet': 1, 'shape': 1, 'staten': 1, 'keypad': 1, 'target': 1, 'chant': 1, 'spraying': 1, 'organic': 1, 'insecticide': 1, 'thiscould': 1, 'topic': 1, 'application': 1, 'foilage': 1, 'duckling': 1, 'hitchhiking': 1, 'nothing': 1, 'channels': 1, 'dome': 1, 'homes': 1, 'fishermanfrom': 1, 'culvert': 1, 'whistler': 1, 'molding': 1, 'goat': 1, 'waterskiing': 1, 'magnifying': 1, 'puffer': 1, 'tetraodontidae': 1, 'shacks': 1, 'lily': 1, 'loon': 1, 'adu': 1, 'intimateof': 1, 'paintbrush': 1, 'beak': 1, 'splittig': 1, 'teenage': 1, 'snowfallk': 1, 'piont': 1, 'electronical': 1, 'labor': 1, 'protest': 1, 'grandmothers': 1, 'entertain': 1, 'panningcapturing': 1, 'waits': 1, 'cane': 1, 'chiron': 1, 'ships': 1, 'carry': 1, 'moored': 1, 'ushuaia': 1, 'wint': 1, 'dummy': 1, 'mono': 1, 'van': 1, 'transmits': 1, 'events': 1, 'satellites': 1, 'broadcast': 1, 'powered': 1, 'grenade': 1, 'extending': 1, 'amazon': 1, 'mission': 1, 'shipwreck': 1, 'cameraon': 1, 'founded': 1, 'fotographer': 1, 'brace': 1, 'pincers': 1, 'boardroom': 1, 'beaming': 1, 'waimea': 1, 'wristwatch': 1, 'sunblock': 1, 'live': 1, 'shrine': 1, 'cascada': 1, 'iconography': 1, 'lourdes': 1, 'grotto': 1, 'prunes': 1, 'welcoming': 1, 'winkling': 1, 'peeks': 1, 'alexey': 1, 'taxi': 1, 'moma': 1, 'spiti': 1, 'himachal': 1, 'pradesh': 1, 'womens': 1, 'thanksgiving': 1, 'sneaky': 1, 'batteries': 1, 'vine': 1, 'tosses': 1, 'limes': 1, 'shilouetted': 1, 'steamboat': 1, 'breakfastink': 1, 'tricks': 1, 'storefront': 1, 'eyesight': 1, 'pelmeni': 1, 'stuffing': 1, 'catfish': 1, 'search': 1, 'defocusedof': 1, 'visible': 1, 'unable': 1, 'stirs': 1, 'tender': 1, 'asana': 1, 'sandpipers': 1, 'eggs': 1, 'machines': 1, 'preschooler': 1, 'zoo': 1, 'plaka': 1, 'editorial': 1, 'gone': 1, 'weed': 1, 'pistoltwirl': 1, 'businessmeeting': 1, 'dnipro': 1, 'ukraine': 1, 'closeof': 1, 'cones': 1, 'skilled': 1, 'muffs': 1, 'fisheye': 1, 'peaches': 1, 'bucked': 1, 'billboards': 1, 'jumbotrons': 1, 'reaches': 1, 'icelandic': 1, 'piggybacking': 1, 'hyper': 1, 'carrot': 1, 'sportwoman': 1, 'elated': 1, 'joking': 1, 'flutes': 1, 'bluff': 1, 'hydrangeas': 1, 'fenced': 1, 'birdcage': 1, 'opens': 1, 'freeze': 1, 'access': 1, 'things': 1, 'cafeteria': 1, 'blooms': 1, 'named': 1, 'aurelia': 1, 'gossiping': 1, 'reprimand': 1, 'furious': 1, 'sticks': 1, 'tongue': 1, 'granfather': 1, 'thoughful': 1, 'garlic': 1, 'boardfrom': 1, 'jelly': 1, 'shocked': 1, 'exepnsive': 1, 'skrimmaging': 1, 'pokermoneybillfold': 1, 'hula': 1, 'tallin': 1, 'routes': 1, 'strokes': 1, 'malnourished': 1, 'load': 1, 'virus': 1, 'program': 1, 'cyber': 1, 'chic': 1, 'balkony': 1, 'official': 1, 'races': 1, 'parachuters': 1, 'bayonet': 1, 'rifles': 1, 'enlighting': 1, 'rings': 1, 'layers': 1, 'navyfighters': 1, 'teens': 1, 'mary': 1, 'christ': 1, 'flanked': 1, 'saints': 1, 'net': 1, 'sockeye': 1, 'avoiding': 1, 'sharks': 1, 'files': 1, 'doorway': 1, 'povof': 1, 'twisting': 1, 'taxidermy': 1, 'siamese': 1, 'startled': 1, 'alert': 1, 'patagonia': 1, 'associate': 1, 'middleof': 1, 'mooses': 1, 'peering': 1, 'ct': 1, 'laso': 1, 'proposing': 1, 'loved': 1, 'reacts': 1, 'scared': 1, 'horror': 1, 'ind': 1, 'measure': 1, 'spin': 1, 'danger': 1, 'berries': 1, 'beetle': 1, 'narrows': 1, 'date': 1, 'machinegunbeltammo': 1, 'mats': 1, 'azure': 1, 'getaway': 1, 'paradise': 1, 'sardines': 1, 'backyard': 1, 'stairway': 1, 'bengal': 1, 'migraine': 1, 'fife': 1, 'dispenser': 1, 'lowering': 1, 'scanning': 1, 'creating': 1, 'footstep': 1, 'fitting': 1, 'orthotics': 1, 'continuous': 1, 'parkour': 1, 'choke': 1, 'bureau': 1, 'reclamationk': 1, 'carcass': 1, 'strolling': 1, 'espresso': 1, 'freezes': 1, 'sparkly': 1, 'coat': 1, 'physician': 1, 'flows': 1, 'atop': 1, 'flakes': 1, 'leisure': 1, 'vs': 1, 'businesscouple': 1, 'backpacking': 1, 'moray': 1, 'well': 1, 'rail': 1, 'whiskey': 1, 'form': 1, 'hearts': 1, 'fishers': 1, 'erriff': 1, 'aasleagh': 1, 'curb': 1, 'melon': 1, 'backgroun': 1, 'regular': 1, 'ledge': 1, 'zero': 1, 'gravity': 1, 'peace': 1, 'chimney': 1, 'retriever': 1, 'rehabilitated': 1, 'snorkeler': 1, 'cardigan': 1, 'hazy': 1, 'nails': 1, 'pedicure': 1, 'floatation': 1, 'devices': 1, 'chats': 1, 'lush': 1, 'copyspace': 1, 'models': 1, 'automobile': 1, 'stranded': 1, 'checks': 1, 'reconstruction': 1, 'competition': 1, 'helped': 1, 'puzzled': 1, 'sprays': 1, 'parks': 1, 'wider': 1, 'popping': 1, 'cargo': 1, 'excursion': 1, 'leave': 1, 'spiny': 1, 'steak': 1, 'ozernaya': 1, 'blog': 1, 'hangar': 1, 'antelope': 1, 'waterbuck': 1, 'catching': 1, 'signal': 1, 'contract': 1, 'molly': 1, 'malone': 1, 'grafton': 1, 'dublin': 1, 'tranquil': 1, 'driveway': 1, 'type': 1, 'cappuccino': 1, 'invoices': 1, 'brass': 1, 'ravens': 1, 'backflip': 1, 'sprinting': 1, 'ferris': 1, 'repairing': 1, 'insect': 1, 'broom': 1, 'fox': 1, 'shennandoah': 1, 'shredder': 1, 'melodrama': 1, 'hillk': 1, 'alight': 1, 'ends': 1, 'technologist': 1, 'examine': 1, 'smear': 1, 'specimen': 1, 'diagnosis': 1, 'objective': 1, 'lenses': 1, 'climate': 1, 'mid': 1, 'harleys': 1, 'outboard': 1, 'handsmov': 1, 'camouflaged': 1, 'anenome': 1, 'orleans': 1, 'marker': 1, 'stores': 1, 'veggies': 1, 'preikestolen': 1, 'prekestolen': 1, 'scooters': 1, 'soda': 1, 'wathing': 1, 'bridal': 1, 'headscarf': 1, 'listens': 1, 'zipper': 1, 'quarell': 1, 'landline': 1, 'peaks': 1, 'utahk': 1, 'businessmann': 1, 'freep': 1, 'presentations': 1, 'chewing': 1, 'staircases': 1, 'stairways': 1, 'touches': 1, 'quote': 1, 'engraved': 1, 'gaucho': 1, 'claims': 1, 'spectator': 1, 'estancia': 1, 'tamper': 1, 'ties': 1, 'necktie': 1, 'gengrations': 1, 'speak': 1, 'hippos': 1, 'corkscrew': 1, 'terlingua': 1, 'iii': 1, 'stabilized': 1, 'formula': 1, 'blackboard': 1, 'gauge': 1, 'winking': 1, 'outfit': 1, 'reaction': 1, 'alarm': 1, 'expressing': 1, 'am': 1, 'calbuco': 1, 'volcano': 1, 'looms': 1, 'seen': 1, 'christian': 1, 'swimsuit': 1, 'surfboard': 1, 'demonstration': 1, 'trapped': 1, 'daisy': 1, 'algae': 1, 'pocket': 1, 'stuck': 1, 'seal': 1, 'geometric': 1, 'elevated': 1, 'djemaa': 1, 'fna': 1, 'marrakech': 1, 'marrakesh': 1, 'morocco': 1, 'n': 1, 'mushrooms': 1, 'ranch': 1, 'skinny': 1, 'crusteacean': 1, 'copper': 1, 'plains': 1, 'recess': 1, 'dive': 1, 'cheerfully': 1, 'consult': 1, 'scent': 1, 'flocks': 1, 'herbed': 1, 'torn': 1, 'piece': 1, 'loaf': 1, 'crunch': 1, 'meadowwith': 1, 'passport': 1, 'marks': 1, 'lesson': 1, 'punk': 1, 'stuntman': 1, 'clings': 1, 'wares': 1, 'see': 1, 'jerk': 1, 'mediumangled': 1, 'monuments': 1, 'leonabelle': 1, 'turnbull': 1, 'birding': 1, 'meringues': 1, 'mitzpe': 1, 'ramon': 1, 'crater': 1, 'rigging': 1, 'intently': 1, 'piled': 1, 'arena': 1, 'stream': 1, 'actors': 1, 'rehearsing': 1, 'onstage': 1, 'you': 1, 'hear': 1, 'cry': 1, 'breeze': 1, 'motionx': 1, 'ascend': 1, 'stock': 1, 'ticker': 1, 'cabbage': 1, 'soil': 1, 'telling': 1, 'exoticm': 1, 'yorknight': 1, 'munches': 1, 'kirillo': 1, 'belozersky': 1, 'largest': 1, 'russiaon': 1, 'sulphur': 1, 'crested': 1, 'tightof': 1, 'january': 1, 'cube': 1, 'underwaterof': 1, 'boots': 1, 'jib': 1, 'coop': 1, 'beachy': 1, 'piranha': 1, 'colossoma': 1, 'macropomum': 1, 'jasmine': 1, 'crack': 1, 'skyward': 1, 'premises': 1, 'repaired': 1, 'removal': 1, 'pro': 1, 'animas': 1, 'raft': 1, 'durango': 1, 'amused': 1, 'solutions': 1, 'beakers': 1, 'gravel': 1, 'rose': 1, 'action': 1, 'chanukia': 1, 'recreationk': 1, 'pann': 1, 'spacious': 1, 'dentists': 1, 'scary': 1, 'playfully': 1, 'pallets': 1, 'superheroes': 1, 'territory': 1, 'alberca': 1, 'education': 1, 'bending': 1, 'castles': 1, 'pilot': 1, 'maintaining': 1, 'scooter': 1, 'massages': 1, 'photograph': 1, 'themselves': 1, 'overshining': 1, 'banner': 1, 'formations': 1, 'smooths': 1, 'vest': 1, 'pelicans': 1, 'mowing': 1, 'scythe': 1, 'cambrils': 1, 'bodyof': 1, 'filmmakers': 1, 'dslr': 1, 'receives': 1, 'success': 1, 'cameras': 1, 'hurrying': 1, 'noodle': 1, 'bell': 1, 'thirsty': 1, 'fee': 1, 'centre': 1, 'stalk': 1, 'insects': 1, 'speedboat': 1, 'boarder': 1, 'bartenders': 1, 'pint': 1, 'lager': 1, 'motionbarman': 1, 'loud': 1, 'oregon': 1, 'squids': 1, 'biologists': 1, 'sample': 1, 'holdings': 1, 'tab': 1, 'matal': 1, 'toolbox': 1, 'approach': 1, 'scoops': 1, 'features': 1, 'licking': 1, 'terrain': 1, 'timek': 1, 'excite': 1, 'unidentifiable': 1, 'tickles': 1, 'offaly': 1, 'shaving': 1, 'fton': 1, 'sparkle': 1, 'enjoyment': 1, 'craftsman': 1, 'lathe': 1, 'uproad': 1, 'social': 1, 'networking': 1, 'pulloutas': 1, 'trap': 1, 'hamburgers': 1, 'freckles': 1, 'squeeze': 1, 'grapefruit': 1, 'hanuka': 1, 'boom': 1, 'mic': 1, 'schoolgirl': 1, 'analyses': 1, 'candles': 1, 'overview': 1, 'ein': 1, 'gedi': 1, 'halibut': 1, 'agencies': 1, 'germantrench': 1, 'hugs': 1, 'kitcken': 1, 'choreographed': 1, 'count': 1, 'g': 1, 'meerkats': 1, 'sweeping': 1, 'sketch': 1, 'draftsmanship': 1, 'laughs': 1, 'because': 1, 'sungla': 1, 'degree': 1, 'boil': 1, 'deer': 1, 'doe': 1, 'headstones': 1, 'tossed': 1, 'lagoon': 1, 'mounted': 1, 'chaning': 1, 'lizard': 1, 'flash': 1, 'player': 1, 'writes': 1, 'nectar': 1, 'prints': 1, 'politics': 1, 'closes': 1, 'hundred': 1, 'usingd': 1, 'cornfield': 1, 'sellers': 1, 'soft': 1, 'motorcade': 1, 'bathtub': 1, 'fireweed': 1, 'chooses': 1, 'denim': 1, 'neon': 1, 'slope': 1, 'emts': 1, 'butcher': 1, 'pork': 1, 'ballot': 1, 'secretary': 1, 'washed': 1, 'blast': 1, 'automated': 1, 'electronics': 1, 'manufacturing': 1, 'unfinished': 1, 'enormous': 1, 'multimedia': 1, 'boring': 1, 'povzooming': 1, 'downing': 1, 'onboard': 1, 'bananas': 1, 'corgi': 1, 'reed': 1, 'builders': 1, 'headsets': 1, 'progect': 1, 'virtuald': 1, 'simulator': 1, 'interrior': 1, 'beam': 1, 'matching': 1, 'rosella': 1, 'views': 1, 'amid': 1, 'pouncing': 1, 'selfiemade': 1, 'beans': 1, 'synchronized': 1, 'clean': 1, 'competitionjudging': 1, 'repairs': 1, 'give': 1, 'key': 1, 'dresses': 1, 'bounce': 1, 'bungee': 1, 'braces': 1, 'outing': 1, 'write': 1, 'buoy': 1, 'mooring': 1, 'runners': 1, 'potted': 1, 'gril': 1, 'mourning': 1, 'simple': 1, 'crosses': 1, 'deckchair': 1, 'skype': 1, 'forging': 1, 'ahead': 1, 'doolin': 1, 'clare': 1, 'malachite': 1, 'vatican': 1, 'speter': 1, 'induction': 1, 'hob': 1, 'latticed': 1, 'lot': 1, 'mug': 1, 'cracked': 1, 'livingroom': 1, 'fd': 1, 'falcon': 1, 'cockpit': 1, 'pyrenees': 1, 'unshaven': 1, 'filings': 1, 'mist': 1, 'kfps': 1, 'icefields': 1, 'parkway': 1, 'jasper': 1, 'knitted': 1, 'episode': 1, 'fim': 1, 'narrating': 1, 'meetings': 1, 'chekhov': 1, 'directed': 1, 'wreaths': 1, 'breathing': 1, 'email': 1, 'seville': 1, 'guadalquivir': 1, 'motor': 1, 'potomac': 1, 'bow': 1, 'carves': 1, 'pumping': 1, 'tummy': 1, 'marine': 1, 'winsunrise': 1, 'cropped': 1, 'railings': 1, 'clanging': 1, 'toasts': 1, 'sweep': 1, 'childrens': 1, 'helps': 1, 'foxes': 1, 'walkingfeet': 1, 'bombed': 1, 'longingly': 1, 'hammerhead': 1, 'snapped': 1, 'punter': 1, 'dripping': 1, 'sailboarding': 1, 'lotus': 1, 'assembling': 1, 'kof': 1, 'expressions': 1, 'nekresi': 1, 'kakheti': 1, 'georgia': 1, 'nightpanning': 1, 'dollyshowing': 1, 'murramarang': 1, 'kangaroo': 1, 'flipchart': 1, 'prescriptions': 1, 'outcropping': 1, 'groups': 1, 'toulon': 1, 'arrive': 1, 'warth': 1, 'mass': 1, 'melancholy': 1, 'cabin': 1, 'crocodile': 1, 'ox': 1, 'adults': 1, 'grilled': 1, 'seafood': 1, 'golfing': 1, 'heaving': 1, 'feeds': 1, 'glitch': 1, 'led': 1, 'numbers': 1, 'whiteman': 1, 'romania': 1, 'films': 1, 'crime': 1, 'aftermath': 1, 'couscous': 1, 'kasha': 1, 'tunnel': 1, 'solve': 1, 'freelancer': 1, 'gregorian': 1, 'sauna': 1, 'herself': 1, 'dollyslow': 1, 'graze': 1, 'leads': 1, 'tops': 1, 'hvita': 1, 'rushes': 1, 'gullfoss': 1, 'livorno': 1, 'busk': 1, 'broccoli': 1, 'seminary': 1, 'cupola': 1, 'aboveof': 1, 'examination': 1, 'goldfish': 1, 'bully': 1, 'passover': 1, 'cypress': 1, 'swamp': 1, 'surging': 1, 'depression': 1, 'lamb': 1, 'linen': 1, 'days': 1, 'wipes': 1, 'kimball': 1, 'brainstorming': 1, 'corporate': 1, 'communicating': 1, 'corral': 1, 'nineteenth': 1, 'portmagee': 1, 'xray': 1, 'platek': 1, 'dollyhealthy': 1, 'courgette': 1, 'galicia': 1, 'sparkles': 1, 'orbit': 1, 'blows': 1, 'sheets': 1, 'control': 1, 'visitors': 1, 'asking': 1, 'cucumbers': 1, 'mad': 1, 'installs': 1, 'sim': 1, 'errors': 1, 'must': 1, 'king': 1, 'cew': 1, 'bathrobe': 1, 'trash': 1, 'somebody': 1, 'aerialk': 1, 'macrocheira': 1, 'kaempferi': 1, 'beams': 1, 'nimitz': 1, 'polishing': 1, 'overheadof': 1, 'forested': 1, 'steeple': 1, 'chil': 1, 'teaches': 1, 'wildflower': 1, 'phablet': 1, 'actual': 1, 'innovative': 1, 'humanity': 1, 'sanibel': 1, 'florida': 1, 'escaping': 1, 'tak': 1, 'mayan': 1, 'observatory': 1, 'frame': 1, 'travelling': 1, 'bungalow': 1, 'somersault': 1, 'acrobatic': 1, 'skills': 1, 'ascension': 1, 'beats': 1, 'approving': 1, 'five': 1, 'boxer': 1, 'abandoned': 1, 'word': 1, 'pram': 1, 'cranberries': 1, 'skateboards': 1, 'motoring': 1, 'hump': 1, 'says': 1, 'bye': 1, 'wideshot': 1, 'merchandise': 1, 'girraffes': 1, 'express': 1, 'employees': 1, 'liberty': 1, 'portraits': 1, 'seated': 1, 'snacks': 1, 'panorig': 1, 'eaten': 1, 'finch': 1, 'phoning': 1, 'quaint': 1, 'task': 1, 'calculator': 1, 'positive': 1, 'result': 1, 'jfk': 1, 'cu': 1, 'mather': 1, 'ceremonyk': 1, 'retreat': 1, 'billiard': 1, 'triangle': 1, 'coffe': 1, 'pattern': 1, 'pur': 1, 'scented': 1, 'feeder': 1, 'rejoins': 1, 'payload': 1, 'gloved': 1, 'summerk': 1, 'usage': 1, 'slipping': 1, 'pterois': 1, 'radiata': 1, 'melbourne': 1, 'yarra': 1, 'h': 1, 'calculating': 1, 'nutrician': 1, 'judge': 1, 'gavel': 1, 'barge': 1, 'tending': 1, 'shaped': 1, 'mold': 1, 'hauling': 1, 'tidal': 1, 'disposable': 1, 'tiltingand': 1, 'weared': 1, 'cheerleaders': 1, 'pops': 1, 'hurry': 1, 'kale': 1, 'sandcastle': 1, 'poolsde': 1, 'unloadinggun': 1, 'priestly': 1, 'blessing': 1, 'horsehead': 1, 'sightseeing': 1, 'reflector': 1, 'lolly': 1, 'netbook': 1, 'wrestling': 1, 'zoomin': 1, 'coney': 1, 'star': 1, 'cutouts': 1, 'treats': 1, 'molds': 1, 'lookin': 1, 'apply': 1, 'barbed': 1, 'degrees': 1, 'fiddle': 1, 'favorite': 1, 'rhythms': 1, 'receptionist': 1, 'kayakwith': 1, 'trolleys': 1, 'bobbing': 1, 'hustle': 1, 'bustle': 1, 'united': 1, 'states': 1, 'supreme': 1, 'court': 1, 'nude': 1, 'steer': 1, 'conquers': 1, 'heights': 1, 'strret': 1, 'wonderful': 1, 'rate': 1, 'cello': 1, 'awaiting': 1, 'personal': 1, 'lifted': 1, 'spades': 1, 'stronger': 1, 'massagist': 1, 'spirit': 1, 'return': 1, 'taped': 1, 'canteloupes': 1, 'stars': 1, 'tilts': 1, 'lemaire': 1, 'channel': 1, 'tutor': 1, 'solubility': 1, 'tester': 1, 'affection': 1, 'tenderness': 1, 'flats': 1, 'bookcase': 1, 'macrowith': 1, 'rhinos': 1, 'forms': 1, 'benefits': 1, 'sandals': 1, 'ssn': 1, 'efforts': 1, 'bark': 1, 'ajman': 1, 'uae': 1, 'swatting': 1, 'ut': 1, 'aspen': 1, 'whittier': 1, 'smokestacks': 1, 'abstract': 1, 'tuna': 1, 'rails': 1, 'dallas': 1, 'non': 1, 'fizzy': 1, 'more': 1, 'vampire': 1, 'amtrak': 1, 'goblin': 1, 'grinning': 1, 'captains': 1, 'beachgoers': 1, 'holidaymakers': 1, 'ominously': 1, 'fusilli': 1, 'cookingk': 1, 'cocktails': 1, 'sheremetyevo': 1, 'hoboken': 1, 'begin': 1, 'fisrt': 1, 'couples': 1, 'galway': 1, 'menuk': 1, 'dollylifestyle': 1, 'cracker': 1, 'reflectionslow': 1, 'cruising': 1, 'embankment': 1, 'balloonsk': 1, 'tale': 1, 'crazily': 1, 'naval': 1, 'worn': 1, 'grungy': 1, 'hippie': 1, 'inscription': 1, 'scrunching': 1, 'fur': 1, 'flip': 1, 'stepmill': 1, 'surronded': 1, 'overhead': 1, 'evergreen': 1, 'dreamy': 1, 'wonderland': 1, 'sceene': 1, 'reload': 1, 'wiping': 1, 'sweat': 1, 'revealing': 1, 'spearing': 1, 'infant': 1, 'accompanied': 1, 'freshly': 1, 'picked': 1, 'modernfamily': 1, 'silky': 1, 'stewing': 1, 'ladder': 1, 'designing': 1, 'letters': 1, 'conesk': 1, 'create': 1, 'most': 1, 'effective': 1, 'ledges': 1, 'bistro': 1, 'beverages': 1, 'biotech': 1, 'precision': 1, 'heidelberg': 1, 'daybreak': 1, 'cavalrymen': 1, 'crayons': 1, 'feed': 1, 'all': 1, 'advantages': 1, 'crispy': 1, 'arrival': 1, 'language': 1, 'indoor': 1, 'weights': 1, 'buenos': 1, 'aires': 1, 'skater': 1, 'bryan': 1, 'picketts': 1, 'charge': 1, 'fighter': 1, 'flightk': 1, 'tips': 1, 'dollyand': 1, 'unrecognisable': 1, 'sleeves': 1, 'businessmans': 1, 'poolk': 1, 'needs': 1, 'recover': 1, 'contunuing': 1, 'biochemists': 1, 'treating': 1, 'preservative': 1, 'monk': 1, 'master': 1, 'tai': 1, 'downed': 1, 'scaly': 1, 'meets': 1, 'choir': 1, 'islandk': 1, 'clunker': 1, 'seasoning': 1, 'median': 1, 'backwards': 1, 'sittin': 1, 'chrysler': 1, 'z': 1, 'aerialat': 1, 'listed': 1, 'greeting': 1, 'depressed': 1, 'refusing': 1, 'planning': 1, 'skipper': 1, 'cambodian': 1, 'apsara': 1, 'angkor': 1, 'wat': 1, 'siem': 1, 'reap': 1, 'cambod': 1, 'facing': 1, 'sunscreen': 1, 'protect': 1, 'harmful': 1, 'uv': 1, 'june': 1, 'folk': 1, 'musicians': 1, 'dancer': 1, 'colomenskoe': 1, 'grasses': 1, 'unloading': 1, 'flippers': 1, 'clumsy': 1, 'straddles': 1, 'savers': 1, 'itself': 1, 'schools': 1, 'hereford': 1, 'stall': 1, 'tl': 1, 'blender': 1, 'caged': 1, 'bowing': 1, 'cottonwood': 1, 'hamming': 1, 'raced': 1, 'canadian': 1, 'sias': 1, 'cheery': 1, 'monorail': 1, 'ostankino': 1, 'overalls': 1, 'helmets': 1, 'ruined': 1, 'pause': 1, 'coworking': 1, 'hild': 1, 'sails': 1, 'nest': 1, 'cathedral': 1, 'amateur': 1, 'persons': 1, 'ontop': 1, 'members': 1, 'pistol': 1, 'duel': 1, 'caressing': 1, 'habitat': 1, 'boot': 1, 'mitts': 1, 'forth': 1, 'aransas': 1, 'trucker': 1, 'shifting': 1, 'steering': 1, 'dashboard': 1, 'kori': 1, 'bustard': 1, 'few': 1, 'slam': 1, 'dunk': 1, 'server': 1, 'orders': 1, 'page': 1, 'ripple': 1, 'continent': 1, 'pursuit': 1, 'lanterns': 1, 'rough': 1, 'italian': 1, 'checkered': 1, 'stationary': 1, 'buisiness': 1, 'mirrors': 1, 'balancing': 1, 'shakes': 1, 'consoled': 1, 'tricolored': 1, 'tinker': 1, 'purchases': 1, 'stocks': 1, 'blazer': 1, 'shedk': 1, 'mode': 1, 'sewn': 1, 'harriet': 1, 'tubman': 1, 'tackles': 1, 'vab': 1, 'dozers': 1, 'monitoring': 1, 'busses': 1, 'macaw': 1, 'without': 1, 'strip': 1, 'martinique': 1, 'fort': 1, 'clapper': 1, 'filming': 1, 'dousing': 1, 'spawning': 1, 'upstream': 1, 'exploding': 1, 'towels': 1, 'masseur': 1, 'distortion': 1, 'engaged': 1, 'backpackers': 1, 'restourant': 1, 'competitions': 1, 'fastened': 1, 'belt': 1, 'violence': 1, 'arccapturing': 1, 'stroke': 1, 'sons': 1, 'charismatic': 1, 'developers': 1, 'barking': 1, 'dream': 1, 'drills': 1, 'jack': 1, 'russell': 1, 'terrier': 1, 'trough': 1, 'mustache': 1, 'ashore': 1, 'various': 1, 'species': 1, 'pullout': 1, 'coins': 1, 'concerned': 1, 'stopping': 1, 'reason': 1, 'deadline': 1, 'rent': 1, 'but': 1, 'crosswalk': 1, 'koalas': 1, 'sognefjord': 1, 'sognefjorden': 1, 'flam': 1, 'demonstrative': 1, 'straws': 1, 'farewell': 1, 'flowery': 1, 'touring': 1, 'enduro': 1, 'hatcher': 1, 'drainage': 1, 'poor': 1, 'basking': 1, 'lanscape': 1, 'shimmer': 1, 'concentrated': 1, 'banners': 1, 'warmly': 1, 'lands': 1, 'agains': 1, 'recreational': 1, 'ethnician': 1, 'observing': 1, 'so': 1, 'sale': 1, 'goods': 1, 'twinkles': 1, 'rothenburg': 1, 'ob': 1, 'der': 1, 'tauber': 1, 'franconia': 1, 'bavaria': 1, 'blood': 1, 'pressure': 1, 'weapon': 1, 'seattle': 1, 'commons': 1, 'parlor': 1, 'holy': 1, 'sepulchre': 1, 'grocery': 1, 'mutton': 1, 'results': 1, 'actively': 1, 'groggy': 1, 'wing': 1, 'illuminated': 1, 'explains': 1, 'drugs': 1, 'blured': 1, 'greenbrier': 1, 'watery': 1, 'sundance': 1, 'rows': 1, 'photovoltaic': 1, 'converting': 1, 'renewable': 1, 'resources': 1, 'nutrition': 1, 'nabs': 1, 'rangeland': 1, 'questions': 1, 'hut': 1, 'clothesline': 1, 'mombassa': 1, 'crusher': 1, 'cannons': 1, 'warthogs': 1, 'clutching': 1, 'enginek': 1, 'headig': 1, 'panting': 1, 'houseplant': 1, 'keeps': 1, 'trippy': 1, 'waterfront': 1, 'stalks': 1, 'wagon': 1, 'mechanics': 1, 'hoods': 1, 'aim': 1, 'dressing': 1, 'twist': 1, 'skateboarder': 1, 'halfpipe': 1, 'snowboard': 1, 'skiis': 1, 'lurking': 1, 'tress': 1, 'violet': 1, 'lighthouse': 1, 'sparkling': 1, 'snakes': 1, 'scales': 1, 'handful': 1, 'obama': 1, 'officant': 1, 'sausages': 1, 'parrott': 1, 'maternity': 1, 'payphone': 1, 'biotechnology': 1, 'machinery': 1, 'assemble': 1, 'lisbon': 1, 'portugal': 1, 'brunet': 1, 'someones': 1, 'racking': 1, 'taken': 1, 'pebbles': 1, 'trout': 1, 'struggles': 1, 'distances': 1, 'messaging': 1, 'nypd': 1, 'playful': 1, 'bouncing': 1, 'flowerpot': 1, 'beekeeper': 1, 'roomkx': 1, 'rzr': 1, 'atvx': 1, 'bazaar': 1, 'tvindefossen': 1, 'drifts': 1, 'aerialover': 1, 'stray': 1, 'dried': 1, 'ravine': 1, 'bearded': 1, 'blow': 1, 'torch': 1, 'staring': 1, 'entertainment': 1, 'addicts': 1, 'mountainous': 1, 'syringe': 1, 'addict': 1, 'hope': 1, 'better': 1, 'rowing': 1, 'cans': 1, 'games': 1, 'scoot': 1, 'peaces': 1, 'half': 1, 'partners': 1, 'boiler': 1, 'cultivated': 1, 'gardens': 1, 'german': 1, 'settlers': 1, 'monarch': 1, 'bungy': 1, 'softball': 1, 'playk': 1, 'pulsing': 1, 'thee': 1, 'snowbank': 1, 'd': 1, 'dimensional': 1, 'chalten': 1, 'trekking': 1, 'rappeling': 1, 'trains': 1, 'lovemodern': 1, 'carefree': 1, 'gathering': 1, 'militaryprison': 1, 'scraping': 1, 'windshield': 1, 'usvi': 1, 'lessons': 1, 'carskx': 1, 'sensitive': 1, 'glamour': 1, 'cloudless': 1, 'piraeus': 1, 'shipping': 1, 'athensk': 1, 'laces': 1, 'minimalistic': 1, 'barbecue': 1, 'speedway': 1, 'tan': 1, 'sipping': 1, 'sharply': 1, 'overlooks': 1, 'tulips': 1, 'cost': 1, 'note': 1, 'tailpipe': 1, 'emissions': 1, 'follows': 1, 'kness': 1, 'pencils': 1, 'study': 1, 'hacker': 1, 'animated': 1, 'goalpost': 1, 'peel': 1, 'illuminator': 1, 'sleep': 1, 'cured': 1, 'ham': 1, 'salami': 1, 'examines': 1, 'patch': 1, 'barcuttinglemons': 1, 'highways': 1, 'alexandria': 1, 'looki': 1, 'surgical': 1, 'covering': 1, 'spaghetti': 1, 'loaves': 1, 'including': 1, 'pools': 1, 'longues': 1, 'banjos': 1, 'zealand': 1, 'tekapo': 1, 'bodybuilder': 1, 'stabilizer': 1, 'beginning': 1, 'lie': 1, 'camerais': 1, 'workboat': 1, 'swimmers': 1, 'pelican': 1, 'programmer': 1, 'paws': 1, 'radioactive': 1, 'tentacles': 1, 'bee': 1, 'casino': 1, 'gambling': 1, 'moustache': 1, 'goofy': 1, 'misses': 1, 'forestk': 1, 'interest': 1, 'inflated': 1, 'lilo': 1, 'hairdresser': 1, 'straight': 1, 'weary': 1, 'protecting': 1, 'aims': 1, 'adjusting': 1, 'toll': 1, 'cartoons': 1, 'base': 1, 'drum': 1, 'seaweed': 1, 'growing': 1, 'mustang': 1, 'crashes': 1, 'interlocutor': 1, 'pelvic': 1, 'logic': 1, 'upthrough': 1, 'courier': 1, 'parcel': 1, 'feline': 1, 'suppression': 1, 'fighters': 1, 'ornate': 1, 'shirts': 1, 'druck': 1, 'outkmov': 1, 'very': 1, 'impressed': 1, 'unconditional': 1, 'surrender': 1, 'mole': 1, 'windowsk': 1, 'tahoe': 1, 'protector': 1, 'banana': 1, 'letterboxed': 1, 'crate': 1, 'testing': 1, 'gyro': 1, 'stabilizin': 1, 'gimbal': 1, 'director': 1, 'operation': 1, 'victorias': 1, 'secret': 1, 'rnyk': 1, 'ac': 1, 'advice': 1, 'longof': 1, 'handheldshowing': 1, 'unknown': 1})>"
      ]
     },
     "execution_count": 12,
     "metadata": {},
     "output_type": "execute_result"
    }
   ],
   "source": [
    "counts = Counter()\n",
    "def text_preparation():\n",
    "    # empty counter...\n",
    "\n",
    "    pbar = pyprind.ProgBar(len(captions_features['Captions']), title='Counting word occurrences')\n",
    "\n",
    "\n",
    "    for i, cap in enumerate(captions_features['Captions']):\n",
    "        # replace punctuations with space\n",
    "        # convert words to lower case \n",
    "        text = ''.join([c if c not in punctuation else ' ' for c in cap]).lower() \n",
    "        captions_features.loc[i,'Captions'] = text\n",
    "        # .loc[,]: Access a group of rows and columns by label(s)\n",
    "        \n",
    "        pbar.update()\n",
    "        counts.update(text.split())\n",
    "\n",
    "text_preparation()\n",
    "counts.most_common"
   ]
  },
  {
   "cell_type": "code",
   "execution_count": 13,
   "metadata": {},
   "outputs": [
    {
     "data": {
      "text/plain": [
       "(6000,\n",
       " array(['blonde woman is massaged tilt down',\n",
       "        'roulette table spinning with ball in closeup shot',\n",
       "        'khr gangsters', ..., 'students walking in university of mexico',\n",
       "        'beautiful black woman at spa',\n",
       "        'beautiful modern brunette woman using tablet computer in luxury bed'],\n",
       "       dtype=object))"
      ]
     },
     "execution_count": 13,
     "metadata": {},
     "output_type": "execute_result"
    }
   ],
   "source": [
    "len(captions_features.Captions.values), captions_features.Captions.values"
   ]
  },
  {
   "cell_type": "markdown",
   "metadata": {},
   "source": [
    "## Tokenizer<a class=\"anchor\" id=\"tokenizer\"></a>\n",
    "Tokenizer() class allows to vectorize a text corpus, by turning each text into vexctors\n",
    "\n",
    "There are four mode \"binary\", \"count\", \"tfidf\",\"freq\" ???\n",
    "\n",
    "'binary': Whether or not each word is present in the document. This is the default.\n",
    "'count' : The count of each word in the document.\n",
    "'tfidf' : The Text Frequency-Inverse DocumentFrequency (TF-IDF) scoring for each word in the document.\n",
    "'freq'  : The frequency of each word as a ratio of words within each document.\n",
    "\n",
    "#### After iteratively going through all the modes. \"Binary\" gives the best result"
   ]
  },
  {
   "cell_type": "code",
   "execution_count": 14,
   "metadata": {},
   "outputs": [
    {
     "data": {
      "text/plain": [
       "5191"
      ]
     },
     "execution_count": 14,
     "metadata": {},
     "output_type": "execute_result"
    }
   ],
   "source": [
    "tokenizer = Tokenizer(num_words=len(counts)) \n",
    "\n",
    "tokenizer.fit_on_texts(list(captions_features.Captions.values)) \n",
    "\n",
    "one_hot_res = tokenizer.texts_to_matrix(list(captions_features.Captions.values),mode='binary')\n",
    "len(one_hot_res[0, :]) # we have 5191 fetures..with size of 6000"
   ]
  },
  {
   "cell_type": "code",
   "execution_count": 15,
   "metadata": {},
   "outputs": [
    {
     "name": "stdout",
     "output_type": "stream",
     "text": [
      "(6000, 2) (6000, 5191)\n"
     ]
    }
   ],
   "source": [
    "# The targets here are the short-term and long-term scores\n",
    "\n",
    "Y_cap = df[['short-term_memorability','long-term_memorability']].values # targets\n",
    "X_cap = one_hot_res;\n",
    "print(Y_cap.shape,X_cap.shape)"
   ]
  },
  {
   "cell_type": "code",
   "execution_count": 16,
   "metadata": {},
   "outputs": [
    {
     "data": {
      "text/html": [
       "<div>\n",
       "<style scoped>\n",
       "    .dataframe tbody tr th:only-of-type {\n",
       "        vertical-align: middle;\n",
       "    }\n",
       "\n",
       "    .dataframe tbody tr th {\n",
       "        vertical-align: top;\n",
       "    }\n",
       "\n",
       "    .dataframe thead th {\n",
       "        text-align: right;\n",
       "    }\n",
       "</style>\n",
       "<table border=\"1\" class=\"dataframe\">\n",
       "  <thead>\n",
       "    <tr style=\"text-align: right;\">\n",
       "      <th></th>\n",
       "      <th>0</th>\n",
       "      <th>1</th>\n",
       "      <th>2</th>\n",
       "      <th>3</th>\n",
       "      <th>4</th>\n",
       "      <th>5</th>\n",
       "      <th>6</th>\n",
       "      <th>7</th>\n",
       "      <th>8</th>\n",
       "      <th>9</th>\n",
       "      <th>...</th>\n",
       "      <th>5181</th>\n",
       "      <th>5182</th>\n",
       "      <th>5183</th>\n",
       "      <th>5184</th>\n",
       "      <th>5185</th>\n",
       "      <th>5186</th>\n",
       "      <th>5187</th>\n",
       "      <th>5188</th>\n",
       "      <th>5189</th>\n",
       "      <th>5190</th>\n",
       "    </tr>\n",
       "  </thead>\n",
       "  <tbody>\n",
       "    <tr>\n",
       "      <th>0</th>\n",
       "      <td>0.0</td>\n",
       "      <td>0.0</td>\n",
       "      <td>0.0</td>\n",
       "      <td>0.0</td>\n",
       "      <td>0.0</td>\n",
       "      <td>0.0</td>\n",
       "      <td>0.0</td>\n",
       "      <td>1.0</td>\n",
       "      <td>0.0</td>\n",
       "      <td>0.0</td>\n",
       "      <td>...</td>\n",
       "      <td>0.0</td>\n",
       "      <td>0.0</td>\n",
       "      <td>0.0</td>\n",
       "      <td>0.0</td>\n",
       "      <td>0.0</td>\n",
       "      <td>0.0</td>\n",
       "      <td>0.0</td>\n",
       "      <td>0.0</td>\n",
       "      <td>0.0</td>\n",
       "      <td>0.0</td>\n",
       "    </tr>\n",
       "    <tr>\n",
       "      <th>1</th>\n",
       "      <td>0.0</td>\n",
       "      <td>1.0</td>\n",
       "      <td>0.0</td>\n",
       "      <td>0.0</td>\n",
       "      <td>0.0</td>\n",
       "      <td>0.0</td>\n",
       "      <td>1.0</td>\n",
       "      <td>0.0</td>\n",
       "      <td>0.0</td>\n",
       "      <td>0.0</td>\n",
       "      <td>...</td>\n",
       "      <td>0.0</td>\n",
       "      <td>0.0</td>\n",
       "      <td>0.0</td>\n",
       "      <td>0.0</td>\n",
       "      <td>0.0</td>\n",
       "      <td>0.0</td>\n",
       "      <td>0.0</td>\n",
       "      <td>0.0</td>\n",
       "      <td>0.0</td>\n",
       "      <td>0.0</td>\n",
       "    </tr>\n",
       "    <tr>\n",
       "      <th>2</th>\n",
       "      <td>0.0</td>\n",
       "      <td>0.0</td>\n",
       "      <td>0.0</td>\n",
       "      <td>0.0</td>\n",
       "      <td>0.0</td>\n",
       "      <td>0.0</td>\n",
       "      <td>0.0</td>\n",
       "      <td>0.0</td>\n",
       "      <td>0.0</td>\n",
       "      <td>0.0</td>\n",
       "      <td>...</td>\n",
       "      <td>0.0</td>\n",
       "      <td>0.0</td>\n",
       "      <td>0.0</td>\n",
       "      <td>0.0</td>\n",
       "      <td>0.0</td>\n",
       "      <td>0.0</td>\n",
       "      <td>0.0</td>\n",
       "      <td>0.0</td>\n",
       "      <td>0.0</td>\n",
       "      <td>0.0</td>\n",
       "    </tr>\n",
       "    <tr>\n",
       "      <th>3</th>\n",
       "      <td>0.0</td>\n",
       "      <td>0.0</td>\n",
       "      <td>0.0</td>\n",
       "      <td>0.0</td>\n",
       "      <td>0.0</td>\n",
       "      <td>0.0</td>\n",
       "      <td>0.0</td>\n",
       "      <td>0.0</td>\n",
       "      <td>0.0</td>\n",
       "      <td>1.0</td>\n",
       "      <td>...</td>\n",
       "      <td>0.0</td>\n",
       "      <td>0.0</td>\n",
       "      <td>0.0</td>\n",
       "      <td>0.0</td>\n",
       "      <td>0.0</td>\n",
       "      <td>0.0</td>\n",
       "      <td>0.0</td>\n",
       "      <td>0.0</td>\n",
       "      <td>0.0</td>\n",
       "      <td>0.0</td>\n",
       "    </tr>\n",
       "    <tr>\n",
       "      <th>4</th>\n",
       "      <td>0.0</td>\n",
       "      <td>0.0</td>\n",
       "      <td>0.0</td>\n",
       "      <td>1.0</td>\n",
       "      <td>0.0</td>\n",
       "      <td>0.0</td>\n",
       "      <td>0.0</td>\n",
       "      <td>0.0</td>\n",
       "      <td>0.0</td>\n",
       "      <td>0.0</td>\n",
       "      <td>...</td>\n",
       "      <td>0.0</td>\n",
       "      <td>0.0</td>\n",
       "      <td>0.0</td>\n",
       "      <td>0.0</td>\n",
       "      <td>0.0</td>\n",
       "      <td>0.0</td>\n",
       "      <td>0.0</td>\n",
       "      <td>0.0</td>\n",
       "      <td>0.0</td>\n",
       "      <td>0.0</td>\n",
       "    </tr>\n",
       "    <tr>\n",
       "      <th>...</th>\n",
       "      <td>...</td>\n",
       "      <td>...</td>\n",
       "      <td>...</td>\n",
       "      <td>...</td>\n",
       "      <td>...</td>\n",
       "      <td>...</td>\n",
       "      <td>...</td>\n",
       "      <td>...</td>\n",
       "      <td>...</td>\n",
       "      <td>...</td>\n",
       "      <td>...</td>\n",
       "      <td>...</td>\n",
       "      <td>...</td>\n",
       "      <td>...</td>\n",
       "      <td>...</td>\n",
       "      <td>...</td>\n",
       "      <td>...</td>\n",
       "      <td>...</td>\n",
       "      <td>...</td>\n",
       "      <td>...</td>\n",
       "      <td>...</td>\n",
       "    </tr>\n",
       "    <tr>\n",
       "      <th>5995</th>\n",
       "      <td>0.0</td>\n",
       "      <td>1.0</td>\n",
       "      <td>0.0</td>\n",
       "      <td>0.0</td>\n",
       "      <td>0.0</td>\n",
       "      <td>0.0</td>\n",
       "      <td>0.0</td>\n",
       "      <td>1.0</td>\n",
       "      <td>1.0</td>\n",
       "      <td>0.0</td>\n",
       "      <td>...</td>\n",
       "      <td>0.0</td>\n",
       "      <td>0.0</td>\n",
       "      <td>0.0</td>\n",
       "      <td>0.0</td>\n",
       "      <td>0.0</td>\n",
       "      <td>0.0</td>\n",
       "      <td>0.0</td>\n",
       "      <td>0.0</td>\n",
       "      <td>0.0</td>\n",
       "      <td>0.0</td>\n",
       "    </tr>\n",
       "    <tr>\n",
       "      <th>5996</th>\n",
       "      <td>0.0</td>\n",
       "      <td>1.0</td>\n",
       "      <td>1.0</td>\n",
       "      <td>0.0</td>\n",
       "      <td>0.0</td>\n",
       "      <td>0.0</td>\n",
       "      <td>0.0</td>\n",
       "      <td>0.0</td>\n",
       "      <td>0.0</td>\n",
       "      <td>1.0</td>\n",
       "      <td>...</td>\n",
       "      <td>0.0</td>\n",
       "      <td>0.0</td>\n",
       "      <td>0.0</td>\n",
       "      <td>0.0</td>\n",
       "      <td>0.0</td>\n",
       "      <td>0.0</td>\n",
       "      <td>0.0</td>\n",
       "      <td>0.0</td>\n",
       "      <td>0.0</td>\n",
       "      <td>0.0</td>\n",
       "    </tr>\n",
       "    <tr>\n",
       "      <th>5997</th>\n",
       "      <td>0.0</td>\n",
       "      <td>1.0</td>\n",
       "      <td>0.0</td>\n",
       "      <td>0.0</td>\n",
       "      <td>0.0</td>\n",
       "      <td>0.0</td>\n",
       "      <td>0.0</td>\n",
       "      <td>0.0</td>\n",
       "      <td>1.0</td>\n",
       "      <td>0.0</td>\n",
       "      <td>...</td>\n",
       "      <td>0.0</td>\n",
       "      <td>0.0</td>\n",
       "      <td>0.0</td>\n",
       "      <td>0.0</td>\n",
       "      <td>0.0</td>\n",
       "      <td>0.0</td>\n",
       "      <td>0.0</td>\n",
       "      <td>0.0</td>\n",
       "      <td>0.0</td>\n",
       "      <td>0.0</td>\n",
       "    </tr>\n",
       "    <tr>\n",
       "      <th>5998</th>\n",
       "      <td>0.0</td>\n",
       "      <td>0.0</td>\n",
       "      <td>0.0</td>\n",
       "      <td>0.0</td>\n",
       "      <td>0.0</td>\n",
       "      <td>0.0</td>\n",
       "      <td>0.0</td>\n",
       "      <td>1.0</td>\n",
       "      <td>0.0</td>\n",
       "      <td>1.0</td>\n",
       "      <td>...</td>\n",
       "      <td>0.0</td>\n",
       "      <td>0.0</td>\n",
       "      <td>0.0</td>\n",
       "      <td>0.0</td>\n",
       "      <td>0.0</td>\n",
       "      <td>0.0</td>\n",
       "      <td>0.0</td>\n",
       "      <td>0.0</td>\n",
       "      <td>0.0</td>\n",
       "      <td>0.0</td>\n",
       "    </tr>\n",
       "    <tr>\n",
       "      <th>5999</th>\n",
       "      <td>0.0</td>\n",
       "      <td>1.0</td>\n",
       "      <td>0.0</td>\n",
       "      <td>0.0</td>\n",
       "      <td>0.0</td>\n",
       "      <td>0.0</td>\n",
       "      <td>0.0</td>\n",
       "      <td>1.0</td>\n",
       "      <td>0.0</td>\n",
       "      <td>0.0</td>\n",
       "      <td>...</td>\n",
       "      <td>0.0</td>\n",
       "      <td>0.0</td>\n",
       "      <td>0.0</td>\n",
       "      <td>0.0</td>\n",
       "      <td>0.0</td>\n",
       "      <td>0.0</td>\n",
       "      <td>0.0</td>\n",
       "      <td>0.0</td>\n",
       "      <td>0.0</td>\n",
       "      <td>0.0</td>\n",
       "    </tr>\n",
       "  </tbody>\n",
       "</table>\n",
       "<p>6000 rows × 5191 columns</p>\n",
       "</div>"
      ],
      "text/plain": [
       "      0     1     2     3     4     5     6     7     8     9     ...  5181  \\\n",
       "0      0.0   0.0   0.0   0.0   0.0   0.0   0.0   1.0   0.0   0.0  ...   0.0   \n",
       "1      0.0   1.0   0.0   0.0   0.0   0.0   1.0   0.0   0.0   0.0  ...   0.0   \n",
       "2      0.0   0.0   0.0   0.0   0.0   0.0   0.0   0.0   0.0   0.0  ...   0.0   \n",
       "3      0.0   0.0   0.0   0.0   0.0   0.0   0.0   0.0   0.0   1.0  ...   0.0   \n",
       "4      0.0   0.0   0.0   1.0   0.0   0.0   0.0   0.0   0.0   0.0  ...   0.0   \n",
       "...    ...   ...   ...   ...   ...   ...   ...   ...   ...   ...  ...   ...   \n",
       "5995   0.0   1.0   0.0   0.0   0.0   0.0   0.0   1.0   1.0   0.0  ...   0.0   \n",
       "5996   0.0   1.0   1.0   0.0   0.0   0.0   0.0   0.0   0.0   1.0  ...   0.0   \n",
       "5997   0.0   1.0   0.0   0.0   0.0   0.0   0.0   0.0   1.0   0.0  ...   0.0   \n",
       "5998   0.0   0.0   0.0   0.0   0.0   0.0   0.0   1.0   0.0   1.0  ...   0.0   \n",
       "5999   0.0   1.0   0.0   0.0   0.0   0.0   0.0   1.0   0.0   0.0  ...   0.0   \n",
       "\n",
       "      5182  5183  5184  5185  5186  5187  5188  5189  5190  \n",
       "0      0.0   0.0   0.0   0.0   0.0   0.0   0.0   0.0   0.0  \n",
       "1      0.0   0.0   0.0   0.0   0.0   0.0   0.0   0.0   0.0  \n",
       "2      0.0   0.0   0.0   0.0   0.0   0.0   0.0   0.0   0.0  \n",
       "3      0.0   0.0   0.0   0.0   0.0   0.0   0.0   0.0   0.0  \n",
       "4      0.0   0.0   0.0   0.0   0.0   0.0   0.0   0.0   0.0  \n",
       "...    ...   ...   ...   ...   ...   ...   ...   ...   ...  \n",
       "5995   0.0   0.0   0.0   0.0   0.0   0.0   0.0   0.0   0.0  \n",
       "5996   0.0   0.0   0.0   0.0   0.0   0.0   0.0   0.0   0.0  \n",
       "5997   0.0   0.0   0.0   0.0   0.0   0.0   0.0   0.0   0.0  \n",
       "5998   0.0   0.0   0.0   0.0   0.0   0.0   0.0   0.0   0.0  \n",
       "5999   0.0   0.0   0.0   0.0   0.0   0.0   0.0   0.0   0.0  \n",
       "\n",
       "[6000 rows x 5191 columns]"
      ]
     },
     "execution_count": 16,
     "metadata": {},
     "output_type": "execute_result"
    }
   ],
   "source": [
    "pd.DataFrame(X_cap)"
   ]
  },
  {
   "cell_type": "code",
   "execution_count": 17,
   "metadata": {},
   "outputs": [
    {
     "name": "stdout",
     "output_type": "stream",
     "text": [
      "X_train (4800, 5191)\n",
      "X_test (1200, 5191)\n",
      "Y_train (4800, 2)\n",
      "Y_test (1200, 2)\n"
     ]
    }
   ],
   "source": [
    "X_train, X_test, Y_train, Y_test = train_test_split(X_cap,Y_cap, test_size=0.2, random_state=1)\n",
    "                                                    \n",
    "print('X_train', X_train.shape)\n",
    "print('X_test', X_test.shape)\n",
    "print('Y_train', Y_train.shape)\n",
    "print('Y_test', Y_test.shape)"
   ]
  },
  {
   "cell_type": "markdown",
   "metadata": {},
   "source": [
    "## Caption Model creation<a class=\"anchor\" id=\"capmod\"></a>\n",
    "A sequential model is created with best parameters obtained after performing grid search"
   ]
  },
  {
   "cell_type": "code",
   "execution_count": 18,
   "metadata": {},
   "outputs": [],
   "source": [
    "len_token = len(counts)\n",
    "def base_model():\n",
    "    model = Sequential()\n",
    "    model.add(layers.Dropout(0.3, input_shape=(len_token,)))\n",
    "    model.add(layers.Dense(10, activation='selu', kernel_regularizer=regularizers.l2(0.001),\n",
    "                         kernel_initializer='he_normal', kernel_constraint = maxnorm(5)))\n",
    "    model.add(layers.Dense(2, activation='sigmoid'))\n",
    "    sgd = tf.optimizers.SGD(lr=0.1, momentum=0.9, decay=0.0, nesterov=False)\n",
    "    model.compile(optimizer=sgd, loss='mse', metrics=['accuracy']) \n",
    " \n",
    "    return model\n",
    "            \n",
    "caption_model = base_model()\n",
    "caption_history = caption_model.fit(X_train, Y_train, epochs=20, verbose=0, validation_data=(X_test,Y_test),shuffle=False)"
   ]
  },
  {
   "cell_type": "code",
   "execution_count": 19,
   "metadata": {},
   "outputs": [
    {
     "data": {
      "image/png": "[encoded data removed]",
      "text/plain": [
       "<Figure size 432x288 with 1 Axes>"
      ]
     },
     "metadata": {
      "needs_background": "light"
     },
     "output_type": "display_data"
    },
    {
     "data": {
      "image/png": "[encoded data removed]",
      "text/plain": [
       "<Figure size 432x288 with 1 Axes>"
      ]
     },
     "metadata": {
      "needs_background": "light"
     },
     "output_type": "display_data"
    }
   ],
   "source": [
    "loss = caption_history.history['loss']\n",
    "val_loss = caption_history.history['val_loss']\n",
    "accuracy = caption_history.history['accuracy']\n",
    "val_accuracy = caption_history.history['val_accuracy']\n",
    "\n",
    "visualize(loss, val_loss, accuracy, val_accuracy)"
   ]
  },
  {
   "cell_type": "markdown",
   "metadata": {},
   "source": [
    "## Prediction on Caption model<a class=\"anchor\" id=\"pred1\"></a>"
   ]
  },
  {
   "cell_type": "code",
   "execution_count": 20,
   "metadata": {
    "scrolled": true
   },
   "outputs": [
    {
     "name": "stdout",
     "output_type": "stream",
     "text": [
      "The Spearman's correlation coefficient is: 0.403\n",
      "The Spearman's correlation coefficient is: 0.198\n"
     ]
    }
   ],
   "source": [
    "predictions1 = caption_model.predict(X_test) \n",
    "Get_score(predictions1, Y_test)"
   ]
  },
  {
   "cell_type": "markdown",
   "metadata": {},
   "source": [
    "## Cross_validation"
   ]
  },
  {
   "cell_type": "markdown",
   "metadata": {},
   "source": [
    "## HMP Feature <a class=\"anchor\" id=\"hmp\"></a>\n",
    "Reading HMP feature of each video and standardising it"
   ]
  },
  {
   "cell_type": "code",
   "execution_count": 21,
   "metadata": {},
   "outputs": [],
   "source": [
    "def read_HMP(fname):\n",
    "    \"\"\"Scan HMP(Histogram of Motion Patterns) features from file\"\"\"\n",
    "    with open(fname) as f:\n",
    "        for line in f:\n",
    "            pairs=line.split()\n",
    "            HMP_temp = { int(p.split(':')[0]) : float(p.split(':')[1]) for p in pairs}\n",
    "    # there are 6075 bins, fill zeros\n",
    "    HMP = np.zeros(6075)\n",
    "    for idx in HMP_temp.keys():\n",
    "        HMP[idx-1] = HMP_temp[idx]            \n",
    "    return HMP"
   ]
  },
  {
   "cell_type": "code",
   "execution_count": 22,
   "metadata": {},
   "outputs": [
    {
     "data": {
      "text/plain": [
       "(6000, 6075)"
      ]
     },
     "execution_count": 22,
     "metadata": {},
     "output_type": "execute_result"
    }
   ],
   "source": [
    "path = r\"C:\\Users\\RANJAN DAS\\Video memorability\\Train_set\\HMP\\*.txt\"\n",
    "\n",
    "HMP_feature_list= []\n",
    "video_names_list = []\n",
    "\n",
    "for filename in glob.glob(path):\n",
    "    name = ((filename.split('\\\\')[-1]).split('.')[0])\n",
    "    video_names_list.append(name)\n",
    "    HMP_features = read_HMP(filename)\n",
    "    HMP_feature_list.append(HMP_features)\n",
    "    \n",
    "np.array(HMP_feature_list).shape"
   ]
  },
  {
   "cell_type": "code",
   "execution_count": 23,
   "metadata": {},
   "outputs": [],
   "source": [
    "HMP_features = pd.DataFrame(np.array(HMP_feature_list).reshape(6000,6075))\n",
    "HMP_features[\"video\"] = video_names_list"
   ]
  },
  {
   "cell_type": "code",
   "execution_count": 24,
   "metadata": {},
   "outputs": [
    {
     "data": {
      "text/html": [
       "<div>\n",
       "<style scoped>\n",
       "    .dataframe tbody tr th:only-of-type {\n",
       "        vertical-align: middle;\n",
       "    }\n",
       "\n",
       "    .dataframe tbody tr th {\n",
       "        vertical-align: top;\n",
       "    }\n",
       "\n",
       "    .dataframe thead th {\n",
       "        text-align: right;\n",
       "    }\n",
       "</style>\n",
       "<table border=\"1\" class=\"dataframe\">\n",
       "  <thead>\n",
       "    <tr style=\"text-align: right;\">\n",
       "      <th></th>\n",
       "      <th>video</th>\n",
       "      <th>short-term_memorability</th>\n",
       "      <th>long-term_memorability</th>\n",
       "      <th>0</th>\n",
       "      <th>1</th>\n",
       "      <th>2</th>\n",
       "      <th>3</th>\n",
       "      <th>4</th>\n",
       "      <th>5</th>\n",
       "      <th>6</th>\n",
       "      <th>...</th>\n",
       "      <th>6065</th>\n",
       "      <th>6066</th>\n",
       "      <th>6067</th>\n",
       "      <th>6068</th>\n",
       "      <th>6069</th>\n",
       "      <th>6070</th>\n",
       "      <th>6071</th>\n",
       "      <th>6072</th>\n",
       "      <th>6073</th>\n",
       "      <th>6074</th>\n",
       "    </tr>\n",
       "  </thead>\n",
       "  <tbody>\n",
       "    <tr>\n",
       "      <th>0</th>\n",
       "      <td>video3</td>\n",
       "      <td>0.924</td>\n",
       "      <td>0.846</td>\n",
       "      <td>0.125563</td>\n",
       "      <td>0.024036</td>\n",
       "      <td>0.000314</td>\n",
       "      <td>0.0</td>\n",
       "      <td>0.015864</td>\n",
       "      <td>0.000358</td>\n",
       "      <td>0.0</td>\n",
       "      <td>...</td>\n",
       "      <td>0.000000</td>\n",
       "      <td>0.000393</td>\n",
       "      <td>0.000279</td>\n",
       "      <td>0.000000</td>\n",
       "      <td>0.000289</td>\n",
       "      <td>0.001926</td>\n",
       "      <td>0.000000</td>\n",
       "      <td>0.000086</td>\n",
       "      <td>0.000580</td>\n",
       "      <td>0.000000</td>\n",
       "    </tr>\n",
       "    <tr>\n",
       "      <th>1</th>\n",
       "      <td>video4</td>\n",
       "      <td>0.923</td>\n",
       "      <td>0.667</td>\n",
       "      <td>0.007526</td>\n",
       "      <td>0.001421</td>\n",
       "      <td>0.000068</td>\n",
       "      <td>0.0</td>\n",
       "      <td>0.001184</td>\n",
       "      <td>0.000143</td>\n",
       "      <td>0.0</td>\n",
       "      <td>...</td>\n",
       "      <td>0.000053</td>\n",
       "      <td>0.000244</td>\n",
       "      <td>0.000066</td>\n",
       "      <td>0.000000</td>\n",
       "      <td>0.000081</td>\n",
       "      <td>0.000617</td>\n",
       "      <td>0.000094</td>\n",
       "      <td>0.000220</td>\n",
       "      <td>0.000762</td>\n",
       "      <td>0.001224</td>\n",
       "    </tr>\n",
       "    <tr>\n",
       "      <th>2</th>\n",
       "      <td>video6</td>\n",
       "      <td>0.863</td>\n",
       "      <td>0.700</td>\n",
       "      <td>0.109584</td>\n",
       "      <td>0.018978</td>\n",
       "      <td>0.000289</td>\n",
       "      <td>0.0</td>\n",
       "      <td>0.008774</td>\n",
       "      <td>0.000208</td>\n",
       "      <td>0.0</td>\n",
       "      <td>...</td>\n",
       "      <td>0.000007</td>\n",
       "      <td>0.000054</td>\n",
       "      <td>0.000045</td>\n",
       "      <td>0.000000</td>\n",
       "      <td>0.000028</td>\n",
       "      <td>0.000291</td>\n",
       "      <td>0.000033</td>\n",
       "      <td>0.000052</td>\n",
       "      <td>0.000258</td>\n",
       "      <td>0.000215</td>\n",
       "    </tr>\n",
       "    <tr>\n",
       "      <th>3</th>\n",
       "      <td>video8</td>\n",
       "      <td>0.922</td>\n",
       "      <td>0.818</td>\n",
       "      <td>0.120431</td>\n",
       "      <td>0.013561</td>\n",
       "      <td>0.000277</td>\n",
       "      <td>0.0</td>\n",
       "      <td>0.018974</td>\n",
       "      <td>0.000913</td>\n",
       "      <td>0.0</td>\n",
       "      <td>...</td>\n",
       "      <td>0.000059</td>\n",
       "      <td>0.001110</td>\n",
       "      <td>0.000075</td>\n",
       "      <td>0.000008</td>\n",
       "      <td>0.000333</td>\n",
       "      <td>0.000793</td>\n",
       "      <td>0.000101</td>\n",
       "      <td>0.000588</td>\n",
       "      <td>0.000503</td>\n",
       "      <td>0.000452</td>\n",
       "    </tr>\n",
       "    <tr>\n",
       "      <th>4</th>\n",
       "      <td>video10</td>\n",
       "      <td>0.950</td>\n",
       "      <td>0.900</td>\n",
       "      <td>0.005026</td>\n",
       "      <td>0.001356</td>\n",
       "      <td>0.000055</td>\n",
       "      <td>0.0</td>\n",
       "      <td>0.000665</td>\n",
       "      <td>0.000029</td>\n",
       "      <td>0.0</td>\n",
       "      <td>...</td>\n",
       "      <td>0.000009</td>\n",
       "      <td>0.000882</td>\n",
       "      <td>0.000200</td>\n",
       "      <td>0.000009</td>\n",
       "      <td>0.000559</td>\n",
       "      <td>0.001097</td>\n",
       "      <td>0.000018</td>\n",
       "      <td>0.000632</td>\n",
       "      <td>0.001128</td>\n",
       "      <td>0.000064</td>\n",
       "    </tr>\n",
       "  </tbody>\n",
       "</table>\n",
       "<p>5 rows × 6078 columns</p>\n",
       "</div>"
      ],
      "text/plain": [
       "     video  short-term_memorability  long-term_memorability         0  \\\n",
       "0   video3                    0.924                   0.846  0.125563   \n",
       "1   video4                    0.923                   0.667  0.007526   \n",
       "2   video6                    0.863                   0.700  0.109584   \n",
       "3   video8                    0.922                   0.818  0.120431   \n",
       "4  video10                    0.950                   0.900  0.005026   \n",
       "\n",
       "          1         2    3         4         5    6  ...      6065      6066  \\\n",
       "0  0.024036  0.000314  0.0  0.015864  0.000358  0.0  ...  0.000000  0.000393   \n",
       "1  0.001421  0.000068  0.0  0.001184  0.000143  0.0  ...  0.000053  0.000244   \n",
       "2  0.018978  0.000289  0.0  0.008774  0.000208  0.0  ...  0.000007  0.000054   \n",
       "3  0.013561  0.000277  0.0  0.018974  0.000913  0.0  ...  0.000059  0.001110   \n",
       "4  0.001356  0.000055  0.0  0.000665  0.000029  0.0  ...  0.000009  0.000882   \n",
       "\n",
       "       6067      6068      6069      6070      6071      6072      6073  \\\n",
       "0  0.000279  0.000000  0.000289  0.001926  0.000000  0.000086  0.000580   \n",
       "1  0.000066  0.000000  0.000081  0.000617  0.000094  0.000220  0.000762   \n",
       "2  0.000045  0.000000  0.000028  0.000291  0.000033  0.000052  0.000258   \n",
       "3  0.000075  0.000008  0.000333  0.000793  0.000101  0.000588  0.000503   \n",
       "4  0.000200  0.000009  0.000559  0.001097  0.000018  0.000632  0.001128   \n",
       "\n",
       "       6074  \n",
       "0  0.000000  \n",
       "1  0.001224  \n",
       "2  0.000215  \n",
       "3  0.000452  \n",
       "4  0.000064  \n",
       "\n",
       "[5 rows x 6078 columns]"
      ]
     },
     "execution_count": 24,
     "metadata": {},
     "output_type": "execute_result"
    }
   ],
   "source": [
    "#merging with the short term and long term score\n",
    "pdf = pd.merge(df, HMP_features , on='video')\n",
    "pdf.head()"
   ]
  },
  {
   "cell_type": "code",
   "execution_count": 25,
   "metadata": {},
   "outputs": [],
   "source": [
    "X_train_hmp = pdf.iloc[:, 3:].values\n",
    "Y_train_hmp = pdf.iloc[:, 1:3].values"
   ]
  },
  {
   "cell_type": "code",
   "execution_count": 26,
   "metadata": {},
   "outputs": [],
   "source": [
    "X_train, X_test, Y_train, Y_test = train_test_split(X_train_hmp,Y_train_hmp, test_size=0.2, random_state=1)"
   ]
  },
  {
   "cell_type": "markdown",
   "metadata": {},
   "source": [
    "## HMP model  creation<a class=\"anchor\" id=\"hmpmod\"></a>"
   ]
  },
  {
   "cell_type": "code",
   "execution_count": 27,
   "metadata": {},
   "outputs": [],
   "source": [
    "def hmp_base_model():\n",
    "    model = Sequential()\n",
    "    model.add(layers.Dense(100, activation='selu', input_shape=(6075,)))\n",
    "    model.add(layers.Dropout(0.5))\n",
    "    model.add(layers.Dense(100, activation='selu',kernel_initializer='he_normal', kernel_constraint = maxnorm(5), kernel_regularizer=regularizers.l2(0.001)))\n",
    "    model.add(layers.Dropout(0.5))\n",
    "    model.add(layers.Dense(2))\n",
    "    model.compile(optimizer='adam', loss='mean_squared_error', metrics=['accuracy'])\n",
    "    \n",
    "    return model\n",
    "\n",
    "hmp_model = hmp_base_model()\n",
    "hmp_history = hmp_model.fit(X_train, Y_train, epochs=30, verbose=0, validation_data=(X_test,Y_test),shuffle=False)\n"
   ]
  },
  {
   "cell_type": "code",
   "execution_count": 28,
   "metadata": {
    "scrolled": true
   },
   "outputs": [
    {
     "data": {
      "image/png": "[encoded data removed]",
      "text/plain": [
       "<Figure size 432x288 with 1 Axes>"
      ]
     },
     "metadata": {
      "needs_background": "light"
     },
     "output_type": "display_data"
    },
    {
     "data": {
      "image/png": "[encoded data removed]",
      "text/plain": [
       "<Figure size 432x288 with 1 Axes>"
      ]
     },
     "metadata": {
      "needs_background": "light"
     },
     "output_type": "display_data"
    }
   ],
   "source": [
    "loss = hmp_history.history['loss']\n",
    "val_loss = hmp_history.history['val_loss']\n",
    "accuracy = hmp_history.history['accuracy']\n",
    "val_accuracy = hmp_history.history['val_accuracy']\n",
    "\n",
    "visualize(loss, val_loss, accuracy, val_accuracy)"
   ]
  },
  {
   "cell_type": "markdown",
   "metadata": {},
   "source": [
    "## Predictions based on HMP feature<a class=\"anchor\" id=\"pred2\"></a>"
   ]
  },
  {
   "cell_type": "code",
   "execution_count": 29,
   "metadata": {},
   "outputs": [
    {
     "name": "stdout",
     "output_type": "stream",
     "text": [
      "[[0.8621029  0.7833043 ]\n",
      " [0.88004524 0.8021418 ]\n",
      " [0.8475112  0.768003  ]\n",
      " ...\n",
      " [0.87075126 0.792512  ]\n",
      " [0.8593098  0.78030753]\n",
      " [0.82557935 0.7449188 ]]\n",
      "The Spearman's correlation coefficient is: 0.283\n",
      "The Spearman's correlation coefficient is: 0.151\n"
     ]
    }
   ],
   "source": [
    "predictions2 = hmp_model.predict(X_test)\n",
    "print(predictions2)\n",
    "Get_score(predictions2, Y_test) # Try remember what the Spearman scores actually mean!"
   ]
  },
  {
   "cell_type": "markdown",
   "metadata": {},
   "source": [
    "## C3D Feature<a class=\"anchor\" id=\"c3d\"></a>"
   ]
  },
  {
   "cell_type": "code",
   "execution_count": 30,
   "metadata": {},
   "outputs": [],
   "source": [
    "C3D_feature_list= []\n",
    "video_names_list = []\n",
    "path = r\"C:\\Users\\RANJAN DAS\\Video memorability\\Train_set\\C3D\\*.txt\"\n",
    "\n",
    "for filename in glob.glob(path):\n",
    "    name = ((filename.split('\\\\')[-1]).split('.')[0])\n",
    "    video_names_list.append(name) \n",
    "    with open(filename) as f:\n",
    "        for line in f:\n",
    "            C3D_features =[float(item) for item in line.split()]\n",
    "    C3D_feature_list.append(C3D_features)"
   ]
  },
  {
   "cell_type": "code",
   "execution_count": 31,
   "metadata": {},
   "outputs": [
    {
     "data": {
      "text/html": [
       "<div>\n",
       "<style scoped>\n",
       "    .dataframe tbody tr th:only-of-type {\n",
       "        vertical-align: middle;\n",
       "    }\n",
       "\n",
       "    .dataframe tbody tr th {\n",
       "        vertical-align: top;\n",
       "    }\n",
       "\n",
       "    .dataframe thead th {\n",
       "        text-align: right;\n",
       "    }\n",
       "</style>\n",
       "<table border=\"1\" class=\"dataframe\">\n",
       "  <thead>\n",
       "    <tr style=\"text-align: right;\">\n",
       "      <th></th>\n",
       "      <th>video</th>\n",
       "      <th>short-term_memorability</th>\n",
       "      <th>long-term_memorability</th>\n",
       "      <th>0</th>\n",
       "      <th>1</th>\n",
       "      <th>2</th>\n",
       "      <th>3</th>\n",
       "      <th>4</th>\n",
       "      <th>5</th>\n",
       "      <th>6</th>\n",
       "      <th>...</th>\n",
       "      <th>91</th>\n",
       "      <th>92</th>\n",
       "      <th>93</th>\n",
       "      <th>94</th>\n",
       "      <th>95</th>\n",
       "      <th>96</th>\n",
       "      <th>97</th>\n",
       "      <th>98</th>\n",
       "      <th>99</th>\n",
       "      <th>100</th>\n",
       "    </tr>\n",
       "  </thead>\n",
       "  <tbody>\n",
       "    <tr>\n",
       "      <th>0</th>\n",
       "      <td>video3</td>\n",
       "      <td>0.924</td>\n",
       "      <td>0.846</td>\n",
       "      <td>0.020249</td>\n",
       "      <td>0.001578</td>\n",
       "      <td>0.000826</td>\n",
       "      <td>0.000945</td>\n",
       "      <td>0.000063</td>\n",
       "      <td>0.000003</td>\n",
       "      <td>0.001162</td>\n",
       "      <td>...</td>\n",
       "      <td>0.001042</td>\n",
       "      <td>0.000161</td>\n",
       "      <td>0.000257</td>\n",
       "      <td>0.046617</td>\n",
       "      <td>0.000156</td>\n",
       "      <td>0.000006</td>\n",
       "      <td>0.000537</td>\n",
       "      <td>0.000339</td>\n",
       "      <td>0.008437</td>\n",
       "      <td>0.000470</td>\n",
       "    </tr>\n",
       "    <tr>\n",
       "      <th>1</th>\n",
       "      <td>video4</td>\n",
       "      <td>0.923</td>\n",
       "      <td>0.667</td>\n",
       "      <td>0.000118</td>\n",
       "      <td>0.000891</td>\n",
       "      <td>0.000188</td>\n",
       "      <td>0.000045</td>\n",
       "      <td>0.000063</td>\n",
       "      <td>0.000002</td>\n",
       "      <td>0.000641</td>\n",
       "      <td>...</td>\n",
       "      <td>0.000582</td>\n",
       "      <td>0.000393</td>\n",
       "      <td>0.000864</td>\n",
       "      <td>0.000947</td>\n",
       "      <td>0.000136</td>\n",
       "      <td>0.000007</td>\n",
       "      <td>0.000360</td>\n",
       "      <td>0.000159</td>\n",
       "      <td>0.001025</td>\n",
       "      <td>0.000020</td>\n",
       "    </tr>\n",
       "    <tr>\n",
       "      <th>2</th>\n",
       "      <td>video6</td>\n",
       "      <td>0.863</td>\n",
       "      <td>0.700</td>\n",
       "      <td>0.011765</td>\n",
       "      <td>0.000746</td>\n",
       "      <td>0.000784</td>\n",
       "      <td>0.000013</td>\n",
       "      <td>0.000007</td>\n",
       "      <td>0.000028</td>\n",
       "      <td>0.000041</td>\n",
       "      <td>...</td>\n",
       "      <td>0.000224</td>\n",
       "      <td>0.000003</td>\n",
       "      <td>0.000031</td>\n",
       "      <td>0.002538</td>\n",
       "      <td>0.000104</td>\n",
       "      <td>0.000005</td>\n",
       "      <td>0.000064</td>\n",
       "      <td>0.005380</td>\n",
       "      <td>0.001027</td>\n",
       "      <td>0.001384</td>\n",
       "    </tr>\n",
       "    <tr>\n",
       "      <th>3</th>\n",
       "      <td>video8</td>\n",
       "      <td>0.922</td>\n",
       "      <td>0.818</td>\n",
       "      <td>0.000223</td>\n",
       "      <td>0.000165</td>\n",
       "      <td>0.000007</td>\n",
       "      <td>0.000016</td>\n",
       "      <td>0.000005</td>\n",
       "      <td>0.000014</td>\n",
       "      <td>0.000154</td>\n",
       "      <td>...</td>\n",
       "      <td>0.000046</td>\n",
       "      <td>0.000009</td>\n",
       "      <td>0.000023</td>\n",
       "      <td>0.000053</td>\n",
       "      <td>0.000048</td>\n",
       "      <td>0.000019</td>\n",
       "      <td>0.000001</td>\n",
       "      <td>0.000004</td>\n",
       "      <td>0.000380</td>\n",
       "      <td>0.000029</td>\n",
       "    </tr>\n",
       "    <tr>\n",
       "      <th>4</th>\n",
       "      <td>video10</td>\n",
       "      <td>0.950</td>\n",
       "      <td>0.900</td>\n",
       "      <td>0.000090</td>\n",
       "      <td>0.000615</td>\n",
       "      <td>0.003436</td>\n",
       "      <td>0.001281</td>\n",
       "      <td>0.003551</td>\n",
       "      <td>0.000313</td>\n",
       "      <td>0.000042</td>\n",
       "      <td>...</td>\n",
       "      <td>0.000037</td>\n",
       "      <td>0.000690</td>\n",
       "      <td>0.000171</td>\n",
       "      <td>0.000231</td>\n",
       "      <td>0.000637</td>\n",
       "      <td>0.000040</td>\n",
       "      <td>0.000061</td>\n",
       "      <td>0.000075</td>\n",
       "      <td>0.000002</td>\n",
       "      <td>0.001323</td>\n",
       "    </tr>\n",
       "  </tbody>\n",
       "</table>\n",
       "<p>5 rows × 104 columns</p>\n",
       "</div>"
      ],
      "text/plain": [
       "     video  short-term_memorability  long-term_memorability         0  \\\n",
       "0   video3                    0.924                   0.846  0.020249   \n",
       "1   video4                    0.923                   0.667  0.000118   \n",
       "2   video6                    0.863                   0.700  0.011765   \n",
       "3   video8                    0.922                   0.818  0.000223   \n",
       "4  video10                    0.950                   0.900  0.000090   \n",
       "\n",
       "          1         2         3         4         5         6  ...        91  \\\n",
       "0  0.001578  0.000826  0.000945  0.000063  0.000003  0.001162  ...  0.001042   \n",
       "1  0.000891  0.000188  0.000045  0.000063  0.000002  0.000641  ...  0.000582   \n",
       "2  0.000746  0.000784  0.000013  0.000007  0.000028  0.000041  ...  0.000224   \n",
       "3  0.000165  0.000007  0.000016  0.000005  0.000014  0.000154  ...  0.000046   \n",
       "4  0.000615  0.003436  0.001281  0.003551  0.000313  0.000042  ...  0.000037   \n",
       "\n",
       "         92        93        94        95        96        97        98  \\\n",
       "0  0.000161  0.000257  0.046617  0.000156  0.000006  0.000537  0.000339   \n",
       "1  0.000393  0.000864  0.000947  0.000136  0.000007  0.000360  0.000159   \n",
       "2  0.000003  0.000031  0.002538  0.000104  0.000005  0.000064  0.005380   \n",
       "3  0.000009  0.000023  0.000053  0.000048  0.000019  0.000001  0.000004   \n",
       "4  0.000690  0.000171  0.000231  0.000637  0.000040  0.000061  0.000075   \n",
       "\n",
       "         99       100  \n",
       "0  0.008437  0.000470  \n",
       "1  0.001025  0.000020  \n",
       "2  0.001027  0.001384  \n",
       "3  0.000380  0.000029  \n",
       "4  0.000002  0.001323  \n",
       "\n",
       "[5 rows x 104 columns]"
      ]
     },
     "execution_count": 31,
     "metadata": {},
     "output_type": "execute_result"
    }
   ],
   "source": [
    "C3D_features = pd.DataFrame(np.array(C3D_feature_list).reshape(6000,101))\n",
    "C3D_features[\"video\"] = video_names_list\n",
    "\n",
    "cdf = pd.merge(df, C3D_features , on='video')\n",
    "cdf.head()"
   ]
  },
  {
   "cell_type": "markdown",
   "metadata": {},
   "source": [
    "Defining dependent and independent variables"
   ]
  },
  {
   "cell_type": "code",
   "execution_count": 32,
   "metadata": {},
   "outputs": [],
   "source": [
    "X_train_c3d = cdf.iloc[:, 3:].values\n",
    "Y_train_c3d = cdf.iloc[:, 1:3].values\n",
    "\n",
    "X_train, X_test, Y_train, Y_test = train_test_split(X_train_c3d,Y_train_c3d, test_size=0.2, random_state=1)"
   ]
  },
  {
   "cell_type": "markdown",
   "metadata": {},
   "source": [
    "## C3D Model<a class=\"anchor\" id=\"c3dmod\"></a>"
   ]
  },
  {
   "cell_type": "code",
   "execution_count": 33,
   "metadata": {},
   "outputs": [],
   "source": [
    "def c3d_base_model():\n",
    "    model = Sequential()\n",
    "    model.add(layers.Dense(100, activation='selu', input_shape=(101,)))\n",
    "    model.add(layers.Dropout(0.5))\n",
    "    model.add(layers.Dense(100, activation='selu',kernel_initializer='he_normal', kernel_constraint = maxnorm(5), kernel_regularizer=regularizers.l2(0.001)))\n",
    "    model.add(layers.Dropout(0.5))\n",
    "    model.add(layers.Dense(2))\n",
    "    model.compile(optimizer='adam', loss='mean_squared_error', metrics=['accuracy'])\n",
    "    \n",
    "    return model\n",
    "\n",
    "c3d_model = c3d_base_model()\n",
    "c3d_history = c3d_model.fit(X_train, Y_train, epochs=25, verbose=0, validation_data=(X_test,Y_test),shuffle=False)"
   ]
  },
  {
   "cell_type": "code",
   "execution_count": 34,
   "metadata": {
    "scrolled": true
   },
   "outputs": [
    {
     "data": {
      "image/png": "[encoded data removed]",
      "text/plain": [
       "<Figure size 432x288 with 1 Axes>"
      ]
     },
     "metadata": {
      "needs_background": "light"
     },
     "output_type": "display_data"
    },
    {
     "data": {
      "image/png": "[encoded data removed]",
      "text/plain": [
       "<Figure size 432x288 with 1 Axes>"
      ]
     },
     "metadata": {
      "needs_background": "light"
     },
     "output_type": "display_data"
    }
   ],
   "source": [
    "loss = c3d_history.history['loss']\n",
    "val_loss = c3d_history.history['val_loss']\n",
    "accuracy = c3d_history.history['accuracy']\n",
    "val_accuracy = c3d_history.history['val_accuracy']\n",
    "\n",
    "visualize(loss, val_loss, accuracy, val_accuracy)"
   ]
  },
  {
   "cell_type": "markdown",
   "metadata": {},
   "source": [
    "## Prediction on C3D Model<a class=\"anchor\" id=\"pred3\"></a>"
   ]
  },
  {
   "cell_type": "code",
   "execution_count": 35,
   "metadata": {},
   "outputs": [
    {
     "name": "stdout",
     "output_type": "stream",
     "text": [
      "[[0.8742594  0.7959492 ]\n",
      " [0.8800133  0.80339444]\n",
      " [0.8519015  0.7696104 ]\n",
      " ...\n",
      " [0.83036923 0.756135  ]\n",
      " [0.86373925 0.7889121 ]\n",
      " [0.8391799  0.76350856]]\n",
      "The Spearman's correlation coefficient is: 0.357\n",
      "The Spearman's correlation coefficient is: 0.151\n"
     ]
    }
   ],
   "source": [
    "predictions3 = c3d_model.predict(X_test)\n",
    "print(predictions3)\n",
    "Get_score(predictions3, Y_test) # Try remember what the Spearman scores actually mean!"
   ]
  },
  {
   "cell_type": "markdown",
   "metadata": {},
   "source": [
    "## Ensemble 1<a class=\"anchor\" id=\"ensemble1\"></a>"
   ]
  },
  {
   "cell_type": "code",
   "execution_count": 36,
   "metadata": {},
   "outputs": [],
   "source": [
    "predictions_weighted  = 0.34*predictions1 + 0.33*predictions2 + 0.33*predictions3"
   ]
  },
  {
   "cell_type": "code",
   "execution_count": 37,
   "metadata": {},
   "outputs": [
    {
     "name": "stdout",
     "output_type": "stream",
     "text": [
      "[[0.87054044 0.79368544]\n",
      " [0.8738723  0.7975466 ]\n",
      " [0.85408044 0.77249837]\n",
      " ...\n",
      " [0.84520024 0.76207215]\n",
      " [0.86166775 0.785985  ]\n",
      " [0.8411261  0.76610583]]\n",
      "The Spearman's correlation coefficient is: 0.432\n",
      "The Spearman's correlation coefficient is: 0.222\n"
     ]
    }
   ],
   "source": [
    "#pred_out = model.predict(X_test)\n",
    "print(predictions_weighted)\n",
    "Get_score(predictions_weighted, Y_test) # Try remember what the Spearman scores actually mean!"
   ]
  },
  {
   "cell_type": "markdown",
   "metadata": {},
   "source": [
    "## Combined Model<a class=\"anchor\" id=\"combmod\"></a>\n",
    "A sequential network created by using HMP, C3D and Camptions as input to the model"
   ]
  },
  {
   "cell_type": "code",
   "execution_count": 38,
   "metadata": {},
   "outputs": [],
   "source": [
    "datafm = np.concatenate((X_cap,X_train_c3d,X_train_hmp),axis=1)"
   ]
  },
  {
   "cell_type": "code",
   "execution_count": 39,
   "metadata": {},
   "outputs": [
    {
     "name": "stdout",
     "output_type": "stream",
     "text": [
      "X_train (4800, 11367)\n",
      "X_test (1200, 11367)\n",
      "Y_train (4800, 2)\n",
      "Y_test (1200, 2)\n"
     ]
    }
   ],
   "source": [
    "X_train, X_test, Y_train, Y_test = train_test_split(datafm,Y_cap, test_size=0.2, random_state=1)\n",
    "                                                    \n",
    "print('X_train', X_train.shape)\n",
    "print('X_test', X_test.shape)\n",
    "print('Y_train', Y_train.shape)\n",
    "print('Y_test', Y_test.shape)"
   ]
  },
  {
   "cell_type": "code",
   "execution_count": 40,
   "metadata": {},
   "outputs": [],
   "source": [
    "def test_model():\n",
    "    model = Sequential()\n",
    "    model.add(layers.Dropout(0.3, input_shape=(11367,)))\n",
    "    model.add(layers.Dense(10, activation='selu', kernel_regularizer=regularizers.l2(0.001),\n",
    "                         kernel_initializer='he_normal', kernel_constraint = maxnorm(5)))\n",
    "    model.add(layers.Dropout(0.5))\n",
    "    model.add(layers.Dense(2, activation='sigmoid'))\n",
    "    sgd = tf.optimizers.SGD(lr=0.1, momentum=0.9, decay=0.0, nesterov=False)\n",
    "    model.compile(optimizer=sgd, loss='mse', metrics=['accuracy']) \n",
    " \n",
    "    return model\n",
    "            \n",
    "test1_model = test_model()\n",
    "test1_history = test1_model.fit(X_train, Y_train, epochs=20, verbose=0, validation_data=(X_test,Y_test),shuffle=False)"
   ]
  },
  {
   "cell_type": "code",
   "execution_count": 41,
   "metadata": {},
   "outputs": [
    {
     "data": {
      "image/png": "[encoded data removed]",
      "text/plain": [
       "<Figure size 432x288 with 1 Axes>"
      ]
     },
     "metadata": {
      "needs_background": "light"
     },
     "output_type": "display_data"
    },
    {
     "data": {
      "image/png": "[encoded data removed]",
      "text/plain": [
       "<Figure size 432x288 with 1 Axes>"
      ]
     },
     "metadata": {
      "needs_background": "light"
     },
     "output_type": "display_data"
    }
   ],
   "source": [
    "loss = test1_history.history['loss']\n",
    "val_loss = test1_history.history['val_loss']\n",
    "accuracy = test1_history.history['accuracy']\n",
    "val_accuracy = test1_history.history['val_accuracy']\n",
    "\n",
    "visualize(loss, val_loss, accuracy, val_accuracy)"
   ]
  },
  {
   "cell_type": "code",
   "execution_count": 42,
   "metadata": {},
   "outputs": [],
   "source": [
    "from sklearn.model_selection import learning_curve\n",
    "\n",
    "def randomize(X, Y):\n",
    "    permutation = np.random.permutation(Y.shape[0])\n",
    "    X2 = X[permutation,:]\n",
    "    Y2 = Y[permutation]\n",
    "    return X2, Y2\n",
    "\n",
    "\n",
    "def draw_learning_curves(X, Y, estimator, num_trainings):\n",
    "    \n",
    "    train_sizes, train_scores, test_scores = learning_curve(estimator, \n",
    "                                                            X, Y, cv=None, n_jobs=-1, \n",
    "                                                            train_sizes=np.linspace(0.1, 1.0, \n",
    "                                                                                    num_trainings))\n",
    "\n",
    "    train_scores_mean = np.mean(train_scores, axis=1)\n",
    "    test_scores_mean = np.mean(test_scores, axis=1)\n",
    "\n",
    "    plt.grid()\n",
    "\n",
    "    plt.title(\"Learning Curves\")\n",
    "    plt.xlabel(\"Training instances\")\n",
    "    plt.ylabel(\"Score\")\n",
    "\n",
    "    plt.plot(train_scores_mean, 'o-', color=\"b\", label=\"Training score\")\n",
    "    plt.plot(test_scores_mean, 'o-', color=\"y\", label=\"Cross-validation score\")\n",
    "    plt.legend(loc=\"best\")\n",
    "    plt.show()"
   ]
  },
  {
   "cell_type": "code",
   "execution_count": 43,
   "metadata": {},
   "outputs": [
    {
     "name": "stderr",
     "output_type": "stream",
     "text": [
      "C:\\ProgramData\\Anaconda3\\lib\\site-packages\\joblib\\externals\\loky\\process_executor.py:706: UserWarning: A worker stopped while some jobs were given to the executor. This can be caused by a too short worker timeout or by a memory leak.\n",
      "  \"timeout or by a memory leak.\", UserWarning\n"
     ]
    },
    {
     "data": {
      "image/png": "[encoded data removed]",
      "text/plain": [
       "<Figure size 432x288 with 1 Axes>"
      ]
     },
     "metadata": {
      "needs_background": "light"
     },
     "output_type": "display_data"
    }
   ],
   "source": [
    "model = KerasRegressor(build_fn=test_model, verbose=0)\n",
    "\n",
    "X_LC, Y_LC = randomize(X_train, Y_train) \n",
    "\n",
    "draw_learning_curves(X_LC, Y_LC, estimator=model, num_trainings=100)"
   ]
  },
  {
   "cell_type": "markdown",
   "metadata": {},
   "source": [
    "## Predictions<a class=\"anchor\" id=\"pred4\"></a>"
   ]
  },
  {
   "cell_type": "code",
   "execution_count": 44,
   "metadata": {},
   "outputs": [
    {
     "name": "stdout",
     "output_type": "stream",
     "text": [
      "[[0.8652962  0.78800493]\n",
      " [0.87073874 0.7954724 ]\n",
      " [0.8615942  0.78389126]\n",
      " ...\n",
      " [0.8229481  0.73721015]\n",
      " [0.8637969  0.79059035]\n",
      " [0.85039985 0.7694409 ]]\n",
      "The Spearman's correlation coefficient is: 0.421\n",
      "The Spearman's correlation coefficient is: 0.231\n"
     ]
    }
   ],
   "source": [
    "test_predictions = test1_model.predict(X_test)\n",
    "print(test_predictions)\n",
    "Get_score(test_predictions, Y_test)"
   ]
  },
  {
   "cell_type": "markdown",
   "metadata": {},
   "source": [
    "## Ensemble 2<a class=\"anchor\" id=\"ensemble2\"></a>"
   ]
  },
  {
   "cell_type": "code",
   "execution_count": 45,
   "metadata": {},
   "outputs": [
    {
     "name": "stdout",
     "output_type": "stream",
     "text": [
      "[[0.8691947  0.79220563]\n",
      " [0.87317944 0.7971049 ]\n",
      " [0.85589457 0.7752922 ]\n",
      " ...\n",
      " [0.83971596 0.75603676]\n",
      " [0.86219794 0.7871161 ]\n",
      " [0.84331584 0.7667647 ]]\n",
      "The Spearman's correlation coefficient is: 0.443\n",
      "The Spearman's correlation coefficient is: 0.233\n"
     ]
    }
   ],
   "source": [
    "predictions_weighted_final  = 0.25*predictions1 + 0.25*predictions2 + 0.25*predictions3 + 0.25*test_predictions\n",
    "print(predictions_weighted_final)\n",
    "Get_score(predictions_weighted_final, Y_test)"
   ]
  },
  {
   "cell_type": "markdown",
   "metadata": {},
   "source": [
    "# Test data<a class=\"anchor\" id=\"test\"></a>"
   ]
  },
  {
   "cell_type": "markdown",
   "metadata": {},
   "source": [
    "## Caption model<a class=\"anchor\" id=\"captest\"></a>"
   ]
  },
  {
   "cell_type": "code",
   "execution_count": 46,
   "metadata": {},
   "outputs": [],
   "source": [
    "frames1 = [df, df1]\n",
    "result1 = pd.concat(frames1)\n",
    "\n",
    "frames = [captions_features, captions_features_test]\n",
    "result = pd.concat(frames)"
   ]
  },
  {
   "cell_type": "code",
   "execution_count": 47,
   "metadata": {},
   "outputs": [],
   "source": [
    "result.reset_index(drop=True, inplace=True)\n",
    "result1.reset_index(drop=True, inplace=True)"
   ]
  },
  {
   "cell_type": "code",
   "execution_count": 48,
   "metadata": {},
   "outputs": [
    {
     "name": "stderr",
     "output_type": "stream",
     "text": [
      "Counting word occurrences\n",
      "0% [##############################] 100% | ETA: 00:00:00\n",
      "Total time elapsed: 00:00:01\n"
     ]
    },
    {
     "data": {
      "text/plain": [
       "<bound method Counter.most_common of Counter({'in': 2800, 'the': 2411, 'on': 2304, 'and': 1913, 'a': 1577, 'with': 1327, 'woman': 1202, 'of': 1143, 'at': 987, 'young': 957, 'man': 725, 'slow': 628, 'motion': 568, 'to': 560, 'couple': 424, 'girl': 399, 'sitting': 399, 'happy': 364, 'up': 352, 'park': 341, 'beach': 340, 'walking': 313, 'close': 312, 'camera': 300, 'shot': 292, 'her': 286, 'using': 283, 'smiling': 263, 'looking': 261, 'by': 253, 'is': 249, 'two': 244, 'people': 244, 'tablet': 242, 'from': 233, 'water': 224, 'through': 209, 'view': 203, 'computer': 196, 'female': 195, 'talking': 186, 'sunset': 186, 'videoblocks': 184, 'working': 180, 'beautiful': 179, 'laptop': 176, 'playing': 175, 'city': 175, 'running': 172, 'for': 169, 'his': 168, 'little': 168, 'eating': 167, 'family': 164, 'background': 156, 'mother': 154, 'or': 152, 'phone': 151, 'tree': 148, 'home': 147, 'national': 142, 'standing': 142, 'hands': 140, 'sea': 140, 'african': 138, 'their': 136, 'drinking': 135, 'snow': 134, 'business': 133, 'steadicamof': 131, 'field': 131, 'modern': 130, 'street': 129, 'over': 129, 'attractive': 129, 'american': 125, 'boy': 123, 'while': 122, 'businessman': 121, 'swimming': 121, 'son': 120, 'white': 120, 'portrait': 119, 'road': 119, 'having': 119, 'new': 117, 'down': 114, 'closeup': 114, 'green': 113, 'table': 112, 'father': 112, 'out': 111, 'fish': 111, 'christmas': 110, 'group': 109, 'mountain': 109, 'outdoors': 109, 'into': 108, 'steadicam': 106, 'grass': 104, 'sun': 103, 'kitchen': 103, 'businesswoman': 102, 'black': 101, 'office': 100, 'taking': 100, 'cafe': 93, 'night': 93, 'cellphone': 92, 'blue': 92, 'friends': 91, 'sunrise': 91, 'near': 90, 'restaurant': 88, 'child': 88, 'summer': 88, 'relaxing': 87, 'lying': 87, 'war': 87, 'around': 84, 'sunny': 84, 'upof': 83, 'outside': 82, 'red': 81, 'steadycam': 81, 'moving': 80, 'food': 80, 'africa': 78, 'lake': 78, 'aerial': 78, 'bridge': 78, 'doctor': 77, 'trees': 77, 'women': 77, 'civil': 77, 'reading': 76, 'concept': 76, 'cute': 76, 'khr': 75, 'coffee': 75, 'asian': 75, 'flying': 75, 'garden': 75, 'south': 75, 'under': 74, 'as': 74, 'sky': 74, 'fun': 74, 'dog': 72, 'an': 72, 'daughter': 72, 'construction': 72, 'mobile': 71, 'holding': 71, 'landscape': 70, 'jogging': 70, 'mountains': 69, 'river': 68, 'off': 67, 'window': 67, 'bright': 67, 'face': 66, 'forest': 66, 'together': 66, 'back': 66, 'wearing': 66, 'airport': 65, 'baby': 64, 'doing': 64, 'men': 63, 'dancing': 63, 'time': 63, 'dolly': 63, 'making': 62, 'pan': 62, 'rock': 62, 'hand': 61, 'music': 61, 'sofa': 60, 'zoom': 60, 'winter': 60, 'building': 60, 'timelapse': 59, 'against': 59, 'pool': 59, 'listening': 59, 'smartphone': 59, 'evening': 58, 'floor': 58, 'work': 58, 'during': 58, 'along': 57, 'three': 56, 'house': 56, 'book': 56, 'farm': 56, 'light': 56, 'car': 55, 'riding': 55, 'laughing': 55, 'front': 54, 'it': 54, 'are': 54, 'small': 54, 'bed': 53, 'typing': 53, 'feet': 52, 'day': 52, 'nature': 52, 'moscow': 52, 'cooking': 52, 'room': 52, 'filmed': 51, 'she': 51, 'hair': 51, 'they': 51, 'healthy': 50, 'putting': 50, 'showing': 50, 'watching': 50, 'he': 50, 'snowy': 49, 'canyon': 49, 'after': 49, 'russia': 48, 'elephant': 48, 'focus': 48, 'ball': 47, 'school': 47, 'ocean': 47, 'train': 46, 'patient': 46, 'bicycle': 46, 'large': 45, 'children': 45, 'silhouette': 45, 'male': 45, 'runner': 44, 'fitness': 44, 'parents': 44, 'getting': 43, 'farming': 43, 'flowers': 43, 'brunette': 43, 'boat': 43, 'behind': 43, 'bench': 43, 'glass': 42, 'painting': 42, 'pretty': 42, 'yellow': 42, 'space': 42, 'eagle': 41, 'girls': 41, 'autumn': 41, 'skyline': 41, 'wooden': 41, 'across': 40, 'away': 40, 'cat': 40, 'outdoor': 40, 'moose': 40, 'caucasian': 40, 'reef': 40, 'training': 40, 'walks': 39, 'glasses': 39, 'shopping': 39, 'desert': 39, 'preparing': 39, 'crowd': 39, 'wall': 39, 'selfie': 39, 'lifestyle': 39, 'traffic': 38, 'station': 38, 'bald': 38, 'bike': 38, 'rocks': 38, 'hotel': 38, 'sits': 38, 'old': 38, 'enjoying': 38, 'adult': 37, 'york': 37, 'center': 37, 'romantic': 37, 'shining': 37, 'sport': 36, 'morning': 36, 'clouds': 36, 'motionof': 36, 'ice': 36, 'discussing': 36, 'resort': 36, 'being': 36, 'student': 36, 'worker': 36, 'lights': 35, 'hot': 35, 'covered': 35, 'person': 35, 'panningof': 35, 'birds': 35, 'gym': 35, 'spinning': 34, 'tourists': 34, 'cycling': 34, 'apartment': 34, 'lettuce': 34, 'artist': 34, 'free': 34, 'panning': 34, 'open': 34, 'walk': 34, 'love': 34, 'cream': 34, 'model': 33, 'highway': 33, 'big': 33, 'massage': 33, 'colorful': 33, 'orange': 33, 'kids': 32, 'underwater': 32, 'driving': 32, 'internet': 32, 'headphones': 32, 'pouring': 32, 'spring': 32, 'bag': 32, 'gangsters': 31, 'chatting': 31, 'terrace': 31, 'head': 31, 'nyc': 31, 'line': 31, 'texting': 31, 'valley': 31, 'top': 31, 'meadow': 31, 'writing': 31, 'point': 31, 'tropical': 31, 'then': 31, 'fire': 31, 'crane': 30, 'soccer': 30, 'workout': 30, 'country': 30, 'urban': 30, 'eyes': 30, 'blowing': 30, 'juice': 30, 'arch': 30, 'ride': 30, 'machine': 30, 'photo': 30, 'above': 30, 'high': 30, 'place': 30, 'wheat': 30, 'tilt': 29, 'smile': 29, 'hanging': 29, 'art': 29, 'four': 29, 'suit': 29, 'touchpad': 29, 'scientist': 29, 'sand': 29, 'super': 29, 'parade': 29, 'professional': 29, 'kruger': 29, 'workers': 29, 'puts': 29, 'meeting': 28, 'wine': 28, 'market': 28, 'dark': 28, 'flag': 28, 'scene': 28, 'video': 28, 'cage': 28, 'leaves': 28, 'storm': 28, 'documents': 28, 'produce': 28, 'coral': 28, 'cutting': 28, 'kissing': 28, 'dressed': 28, 'ship': 28, 'before': 28, 'aerialof': 28, 'something': 27, 'celebrating': 27, 'chef': 27, 'fishing': 27, 'woods': 27, 'hat': 27, 'busy': 27, 'one': 27, 'guy': 27, 'pier': 27, 'cruise': 27, 'board': 27, 'decorating': 27, 'dollyof': 26, 'bear': 26, 'animal': 26, 'shelter': 26, 'digital': 26, 'meal': 26, 'horse': 26, 'angle': 26, 'pov': 26, 'studio': 26, 'hiking': 26, 'mom': 26, 'message': 26, 'air': 26, 'long': 26, 'checking': 26, 'works': 25, 'spa': 25, 'bryce': 25, 'horses': 25, 'clothes': 25, 'aquarium': 25, 'salad': 25, 'tourist': 25, 'jumping': 25, 'hill': 25, 'cemetery': 25, 'helmet': 25, 'lady': 25, 'trackingof': 24, 'rain': 24, 'slave': 24, 'there': 24, 'plane': 24, 'cheerful': 24, 'san': 24, 'washington': 24, 'flower': 24, 'sad': 24, 'opening': 24, 'bubbles': 24, 'cliffs': 24, 'childhood': 24, 'chair': 24, 'couch': 24, 'strong': 24, 'utah': 24, 'race': 24, 'stadium': 23, 'resolution': 23, 'carrying': 23, 'waves': 23, 'western': 23, 'other': 23, 'sunbed': 23, 'teaching': 23, 'towards': 23, 'dc': 23, 'pregnant': 23, 'ski': 23, 'washing': 23, 'cell': 23, 'vacation': 23, 'arlington': 23, 'waiting': 23, 'press': 23, 'screen': 23, 'game': 23, 'smart': 23, 'wide': 22, 'flare': 22, 'rural': 22, 'peddling': 22, 'fall': 22, 'beauty': 22, 'resting': 22, 'fly': 22, 'handsome': 22, 'shop': 22, 'path': 22, 'talk': 22, 'womans': 22, 'eat': 22, 'sleeping': 22, 'horizon': 22, 'low': 22, 'rally': 22, 'extreme': 22, 'rack': 22, 'executive': 22, 'equipment': 21, 'wideof': 21, 'dead': 21, 'surfing': 21, 'boxes': 21, 'notebook': 21, 'beer': 21, 'lapse': 21, 'balcony': 21, 'warm': 21, 'paper': 21, 'exotic': 21, 'different': 21, 'colonial': 21, 'soldiers': 21, 'shore': 21, 'passing': 20, 'sign': 20, 'dci': 20, 'industrial': 20, 'giving': 20, 'eye': 20, 'bar': 20, 'friend': 20, 'square': 20, 'casual': 20, 'film': 20, 'looks': 20, 'ultra': 20, 'buildings': 20, 'legs': 20, 'throwing': 20, 'look': 20, 'each': 20, 'memorial': 20, 'alone': 20, 'town': 20, 'addo': 20, 'island': 20, 'trendy': 20, 'tea': 20, 'bird': 19, 'real': 19, 'climber': 19, 'students': 19, 'australia': 19, 'hospital': 19, 'ray': 19, 'campfire': 19, 'times': 19, 'technology': 19, 'pink': 19, 'cup': 19, 'scenic': 19, 'milk': 19, 'does': 19, 'may': 19, 'era': 19, 'surface': 19, 'fresh': 19, 'doctors': 19, 'preparation': 19, 'graffiti': 19, 'about': 19, 'mixed': 19, 'toy': 19, 'basketball': 19, 'buffet': 19, 'jellyfish': 18, 'him': 18, 'foot': 18, 'distance': 18, 'martial': 18, 'arts': 18, 'power': 18, 'truck': 18, 'mirror': 18, 'next': 18, 'laboratory': 18, 'delicious': 18, 'trail': 18, 'deep': 18, 'traditional': 18, 'laying': 18, 'state': 18, 'crowded': 18, 'hall': 18, 'cars': 18, 'engineer': 18, 'feeding': 18, 'freedom': 18, 'rotating': 18, 'plate': 18, 'vintage': 18, 'lab': 18, 'sunglasses': 18, 'williamsburg': 18, 'picnic': 17, 'jog': 17, 'bottle': 17, 'gallery': 17, 'flight': 17, 'police': 17, 'climbing': 17, 'between': 17, 'shirt': 17, 'team': 17, 'shoes': 17, 'inside': 17, 'dress': 17, 'mov': 17, 'earth': 17, 'summertime': 17, 'fingers': 17, 'plates': 17, 'travel': 17, 'wind': 17, 'some': 17, 'library': 17, 'slowmotion': 17, 'going': 17, 'smoke': 16, 'welness': 16, 'happiness': 16, 'monument': 16, 'voting': 16, 'sidewalk': 16, 'headset': 16, 'crossing': 16, 'prepares': 16, 'fence': 16, 'posing': 16, 'shallow': 16, 'funny': 16, 'wood': 16, 'shooting': 16, 'many': 16, 'skier': 16, 'notes': 16, 'pond': 16, 'swing': 16, 'prescription': 16, 'piano': 16, 'jump': 16, 'camp': 16, 'elephants': 16, 'apple': 16, 'middle': 16, 'oil': 16, 'kayak': 16, 'past': 16, 'commuting': 16, 'drawing': 16, 'blonde': 15, 'wheel': 15, 'pot': 15, 'waving': 15, 'fruit': 15, 'site': 15, 'show': 15, 'multicultural': 15, 'watering': 15, 'mesa': 15, 'bikers': 15, 'fireplace': 15, 'festival': 15, 'empty': 15, 'shark': 15, 'side': 15, 'tap': 15, 'dirt': 15, 'sunlight': 15, 'basket': 15, 'swans': 15, 'vietnam': 15, 'casually': 15, 'tall': 15, 'airplane': 15, 'plants': 15, 'grave': 15, 'speed': 15, 'good': 15, 'natural': 15, 'golf': 15, 'care': 15, 'breakfast': 15, 'battlefield': 15, 'do': 15, 'football': 15, 'glowing': 15, 'virtual': 15, 'make': 15, 'capitol': 15, 'church': 15, 'partner': 15, 'weight': 15, 'waterfall': 15, 'fighting': 15, 'village': 14, 'floating': 14, 'drink': 14, 'rodeo': 14, 'soaring': 14, 'calf': 14, 'factory': 14, 'kite': 14, 'bicycles': 14, 'rocky': 14, 'pushing': 14, 'raw': 14, 'bay': 14, 'pc': 14, 'bubble': 14, 'call': 14, 'image': 14, 'decoration': 14, 'event': 14, 'zooming': 14, 'tower': 14, 'x': 14, 'uses': 14, 'band': 14, 'heterosexual': 14, 'circus': 14, 'sunlit': 14, 'early': 14, 'turning': 14, 'self': 14, 'steps': 14, 'businesspeople': 14, 'cocktail': 14, 'diverse': 14, 'calling': 14, 'blond': 14, 'grandfather': 14, 'cherry': 14, 'wedding': 14, 'reality': 14, 'exercise': 14, 'umbrellas': 14, 'architect': 14, 'development': 14, 'helicopter': 13, 'another': 13, 'flat': 13, 'pad': 13, 'cranes': 13, 'sports': 13, 'cowboy': 13, 'help': 13, 'tennis': 13, 'senior': 13, 'closing': 13, 'feeling': 13, 'international': 13, 'can': 13, 'calm': 13, 'metal': 13, 'full': 13, 'cliff': 13, 'loving': 13, 'hd': 13, 'countryside': 13, 'skin': 13, 'solar': 13, 'charming': 13, 'blizzard': 13, 'dogs': 13, 'exercises': 13, 'petersburg': 13, 'bikes': 13, 'lens': 13, 'pizza': 13, 'piggyback': 13, 'touch': 13, 'tasty': 13, 'following': 13, 'plan': 13, 'bull': 13, 'hikers': 13, 'roller': 13, 'marching': 13, 'adorable': 13, 'harvest': 13, 'performing': 13, 'harbor': 13, 'straw': 13, 'statue': 13, 'cleaning': 13, 'body': 13, 'bride': 13, 'vietnamese': 13, 'vegetables': 13, 'dinner': 13, 'meat': 13, 'photos': 13, 'kicking': 13, 'information': 13, 'p': 13, 'bedroom': 13, 'golden': 13, 'nurse': 13, 'bath': 13, 'medical': 12, 'coming': 12, 'wildlife': 12, 'spain': 12, 'soldier': 12, 'skiing': 12, 'umbrella': 12, 'wild': 12, 'ground': 12, 'ready': 12, 'cook': 12, 'lane': 12, 'area': 12, 'lion': 12, 'tv': 12, 'marriage': 12, 'relationship': 12, 'manager': 12, 'enjoy': 12, 'warming': 12, 'butterfly': 12, 'toward': 12, 'cake': 12, 'client': 12, 'cinemagraph': 12, 'seamless': 12, 'movie': 12, 'drive': 12, 'balls': 12, 'april': 12, 'yoga': 12, 'takes': 12, 'finger': 12, 'run': 12, 'th': 12, 'century': 12, 'picture': 12, 'flour': 12, 'latino': 12, 'use': 12, 'pathway': 12, 'balloons': 12, 'stone': 12, 'colorado': 12, 'falling': 12, 'crew': 12, 'scenery': 12, 'reenactors': 12, 'first': 12, 'macro': 12, 'its': 12, 'health': 12, 'desk': 12, 'leopard': 12, 'dry': 12, 'break': 12, 'skyscrapers': 12, 'hugging': 12, 'log': 12, 'stylish': 12, 'life': 12, 'style': 12, 'punching': 12, 'concert': 12, 'chopping': 12, 'fields': 12, 'consultant': 12, 'diving': 12, 'military': 12, 'february': 12, 'gift': 12, 'fast': 12, 'rays': 12, 'treadmill': 12, 'herd': 12, 'chinese': 12, 'grill': 12, 'grandmother': 11, 'baseball': 11, 'passenger': 11, 'barcelona': 11, 'norway': 11, 'huge': 11, 'bowl': 11, 'colored': 11, 'zebras': 11, 'texas': 11, 'instructor': 11, 'reflection': 11, 'traveling': 11, 'wheeling': 11, 'crowds': 11, 'same': 11, 'tracks': 11, 'spoon': 11, 'rolling': 11, 'sushi': 11, 'runs': 11, 'wheelbarrow': 11, 'graded': 11, 'uhd': 11, 'july': 11, 'speaking': 11, 'sit': 11, 'watches': 11, 'bikini': 11, 'exercising': 11, 'tracking': 11, 'gun': 11, 'kid': 11, 'estate': 11, 'waking': 11, 'mask': 11, 'shots': 11, 'clown': 11, 'akvamarine': 11, 'carnival': 11, 'safety': 11, 'panorama': 11, 'flies': 11, 'salmon': 11, 'shuttle': 11, 'cape': 11, 'stick': 11, 'helping': 11, 'hip': 11, 'landing': 11, 'suits': 11, 'jeep': 11, 'plays': 11, 'flock': 11, 'club': 11, 'gulls': 11, 'colleagues': 11, 'trying': 11, 'mouth': 11, 'groom': 11, 'francisco': 11, 'scientists': 11, 'plant': 11, 'watch': 11, 'changing': 11, 'guard': 11, 'buffalo': 11, 'lift': 11, 'applying': 11, 'tray': 11, 'lions': 11, 'luxury': 11, 'heavy': 11, 'mature': 11, 'mechanic': 11, 'gray': 11, 'athlete': 11, 'knife': 11, 'fried': 11, 'name': 11, 'take': 11, 'stands': 11, 'massaged': 10, 'process': 10, 'potters': 10, 'foreground': 10, 'downtown': 10, 'stones': 10, 'branch': 10, 'them': 10, 'static': 10, 'silhouettes': 10, 'windows': 10, 'convention': 10, 'tired': 10, 'retail': 10, 'electric': 10, 'homosexual': 10, 'gay': 10, 'sex': 10, 'company': 10, 'canyonlands': 10, 'businesswomen': 10, 'multiracial': 10, 'puppy': 10, 'selling': 10, 'edge': 10, 'push': 10, 'prepared': 10, 'deck': 10, 'belly': 10, 'loop': 10, 'astronaut': 10, 'this': 10, 'year': 10, 'pictures': 10, 'motionk': 10, 'hipster': 10, 'creek': 10, 'passengers': 10, 'warehouse': 10, 'unrecognizable': 10, 'cozy': 10, 'friendly': 10, 'how': 10, 'seaside': 10, 'seagulls': 10, 'union': 10, 'seabed': 10, 'cityscape': 10, 'smoking': 10, 'angry': 10, 'bush': 10, 'finish': 10, 'news': 10, 'thoughtful': 10, 'creative': 10, 'fireworks': 10, 'daughters': 10, 'makes': 10, 'elegant': 10, 'skiers': 10, 'money': 10, 'branches': 10, 'reenactment': 10, 'dusk': 10, 'cloudy': 10, 'greece': 10, 'dough': 10, 'stage': 10, 'party': 10, 'biking': 10, 'tomato': 10, 'arm': 10, 'closeupof': 10, 'sailboat': 10, 'play': 10, 'ducklings': 10, 'tattoo': 10, 'leaning': 10, 'slo': 10, 'tiltof': 10, 'corn': 10, 'conference': 10, 'soap': 10, 'quay': 10, 'apples': 10, 'potter': 9, 'grandson': 9, 'hare': 9, 'serious': 9, 'boiling': 9, 'explain': 9, 'runway': 9, 'keys': 9, 'patriotic': 9, 'supporters': 9, 'salon': 9, 'alaska': 9, 'drinks': 9, 'tools': 9, 'touching': 9, 'late': 9, 'made': 9, 'neck': 9, 'reads': 9, 'lesbian': 9, 'dish': 9, 'door': 9, 'sunbeds': 9, 'businessmen': 9, 'guitar': 9, 'murky': 9, 'serving': 9, 'gourmet': 9, 'handheld': 9, 'chonchi': 9, 'backdrop': 9, 'planet': 9, 'nasa': 9, 'parenthood': 9, 'saint': 9, 'closed': 9, 'purple': 9, 'candle': 9, 'chest': 9, 'leather': 9, 'indoors': 9, 'birthday': 9, 's': 9, 'be': 9, 'baker': 9, 'backing': 9, 'printing': 9, 'eel': 9, 'blacksmith': 9, 'among': 9, 'customer': 9, 'tuscany': 9, 'grassy': 9, 'zooms': 9, 'strawberries': 9, 'explaining': 9, 'arms': 9, 'hop': 9, 'future': 9, 'interior': 9, 'bus': 9, 'ducks': 9, 'seashore': 9, 'stairs': 9, 'waterpool': 9, 'trucks': 9, 'dock': 9, 'finishing': 9, 'aged': 9, 'tomatoes': 9, 'palm': 9, 'paddles': 9, 'gum': 9, 'oven': 9, 'books': 9, 'architecture': 9, 'sauce': 9, 'beside': 9, 'penguin': 9, 'stony': 9, 'way': 9, 'newspaper': 9, 'coaster': 9, 'dessert': 9, 'swinging': 9, 'alley': 9, 'concrete': 9, 'plans': 9, 'parked': 9, 'empire': 9, 'divers': 9, 'shower': 9, 'cotton': 9, 'lawn': 9, 'shoulder': 9, 'arches': 9, 'excited': 9, 'holds': 9, 'policeman': 9, 'setting': 9, 'cannon': 9, 'turtle': 9, 'admires': 9, 'lighting': 9, 'ceremony': 9, 'wife': 8, 'stove': 8, 'chat': 8, 'brown': 8, 'row': 8, 'cats': 8, 'mix': 8, 'chairs': 8, 'workshop': 8, 'islands': 8, 'sprawl': 8, 'm': 8, 'diego': 8, 'engineers': 8, 'rolls': 8, 'pill': 8, 'bags': 8, 'round': 8, 'therapist': 8, 'treatment': 8, 'panel': 8, 'electricity': 8, 'siberian': 8, 'husky': 8, 'falls': 8, 'wave': 8, 'bare': 8, 'sailing': 8, 'outer': 8, 'elements': 8, 'furnished': 8, 'moments': 8, 'right': 8, 'receiving': 8, 'boats': 8, 'samples': 8, 'st': 8, 'monitor': 8, 'container': 8, 'adding': 8, 'hour': 8, 'not': 8, 'living': 8, 'spotted': 8, 'swarm': 8, 'suitcase': 8, 'panoramic': 8, 'balloon': 8, 'put': 8, 'browsing': 8, 'technician': 8, 'roof': 8, 'springs': 8, 'holiday': 8, 'jibof': 8, 'course': 8, 'via': 8, 'symbol': 8, 'fisherman': 8, 'cloud': 8, 'makeup': 8, 'armchair': 8, 'snowfall': 8, 'kenya': 8, 'relaxed': 8, 'drifting': 8, 'card': 8, 'wheelchair': 8, 'research': 8, 'baked': 8, 'lifting': 8, 'project': 8, 'sugar': 8, 'dump': 8, 'oculus': 8, 'french': 8, 'teacher': 8, 'left': 8, 'gas': 8, 'crop': 8, 'k': 8, 'designer': 8, 'short': 8, 'scuba': 8, 'pours': 8, 'angleof': 8, 'ladies': 8, 'keyboard': 8, 'poppies': 8, 'blueprint': 8, 'snowboarder': 8, 'motorcycle': 8, 'stirring': 8, 'hamburger': 8, 'ok': 8, 'end': 8, 'duck': 8, 'cellphones': 8, 'stretching': 7, 'bread': 7, 'crockery': 7, 'creation': 7, 'pottery': 7, 'shadow': 7, 'yard': 7, 'terminal': 7, 'lipstick': 7, 'iv': 7, 'kiss': 7, 'salt': 7, 'cucumber': 7, 'accident': 7, 'ingredients': 7, 'earphones': 7, 'rainy': 7, 'proud': 7, 'canvas': 7, 'hawaii': 7, 'online': 7, 'perched': 7, 'counter': 7, 'rt': 7, 'crashing': 7, 'discuss': 7, 'set': 7, 'trailer': 7, 'lemon': 7, 'singing': 7, 'metro': 7, 'salesman': 7, 'owners': 7, 'save': 7, 'consumption': 7, 'enjoys': 7, 'vista': 7, 'sorting': 7, 'ups': 7, 'racing': 7, 'quill': 7, 'bad': 7, 'macroof': 7, 'firing': 7, 'pills': 7, 'bourbon': 7, 'bears': 7, 'domexpo': 7, 'gostiny': 7, 'dvor': 7, 'zip': 7, 'photographer': 7, 'frying': 7, 'sunbathing': 7, 'thumbs': 7, 'sweet': 7, 'architects': 7, 'rider': 7, 'measures': 7, 'harvesting': 7, 'dandelion': 7, 'world': 7, 'leaf': 7, 'teenager': 7, 'moves': 7, 'motionfps': 7, 'college': 7, 'teeing': 7, 'design': 7, 'cut': 7, 'staticof': 7, 'gifts': 7, 'gettysburg': 7, 'tae': 7, 'kwon': 7, 'onto': 7, 'crows': 7, 'mixing': 7, 'corridor': 7, 'tiltingof': 7, 'overlook': 7, 'surrounded': 7, 'pointing': 7, 'burning': 7, 'recreation': 7, 'studying': 7, 'industry': 7, 'rising': 7, 'hluhluwe': 7, 'imfolozi': 7, 'activity': 7, 'dentist': 7, 'test': 7, 'sweaty': 7, 'embracing': 7, 'girlfriends': 7, 'argentina': 7, 'starting': 7, 'learning': 7, 'rift': 7, 'hammock': 7, 'box': 7, 'teenagers': 7, 'gliding': 7, 'tomb': 7, 'unknowns': 7, 'hillside': 7, 'conversation': 7, 'coloring': 7, 'jeans': 7, 'viewing': 7, 'canyons': 7, 'print': 7, 'mans': 7, 'swim': 7, 'port': 7, 'brush': 7, 'smiles': 7, 'f': 7, 'players': 7, 'afro': 7, 'gear': 7, 'delicate': 7, 'display': 7, 'paint': 7, 'gather': 7, 'blossom': 7, 'aircraft': 7, 'grazing': 7, 'service': 7, 'hiker': 7, 'throws': 7, 'rhino': 7, 'hard': 7, 'pensive': 7, 'reaching': 7, 'electronic': 7, 'carries': 7, 'microscope': 7, 'fries': 7, 'lifestylek': 7, 'heron': 7, 'performance': 7, 'blinking': 7, 'baking': 7, 'vr': 7, 'text': 7, 'cookies': 7, 'complex': 7, 'unit': 7, 'desktop': 7, 'motorcycles': 7, 'coca': 7, 'older': 6, 'cambodia': 6, 'eagles': 6, 'multi': 6, 'los': 6, 'angeles': 6, 'several': 6, 'snake': 6, 'downhill': 6, 'rubbing': 6, 'london': 6, 'thumb': 6, 'bathroom': 6, 'formal': 6, 'successful': 6, 'farmer': 6, 'unpacking': 6, 'memories': 6, 'champagne': 6, 'festive': 6, 'historical': 6, 'epoch': 6, 'russian': 6, 'arriving': 6, 'army': 6, 'admiring': 6, 'glacier': 6, 'binoculars': 6, 'goose': 6, 'styling': 6, 'santa': 6, 'homework': 6, 'reflecting': 6, 'colors': 6, 'windowsill': 6, 'locked': 6, 'dribbles': 6, 'booths': 6, 'greens': 6, 'vegetarian': 6, 'wilderness': 6, 'himself': 6, 'jacket': 6, 'touchscreen': 6, 'technologies': 6, 'combing': 6, 'figurines': 6, 'tombstones': 6, 'blurred': 6, 'tiltingshowing': 6, 'operates': 6, 'flame': 6, 'pigeons': 6, 'cnc': 6, 'confederate': 6, 'cavalry': 6, 'alaskan': 6, 'turret': 6, 'rocket': 6, 'planting': 6, 'skates': 6, 'gets': 6, 'drug': 6, 'pharmacist': 6, 'gate': 6, 'sifting': 6, 'cattle': 6, 'dancers': 6, 'plaid': 6, 'cloth': 6, 'launch': 6, 'designers': 6, 'leaving': 6, 'cigarette': 6, 'reflective': 6, 'pieces': 6, 'plastic': 6, 'shift': 6, 'waters': 6, 'battle': 6, 'copenhagen': 6, 'rabbit': 6, 'dof': 6, 'mobilephone': 6, 'bustling': 6, 'spider': 6, 'castro': 6, 'clear': 6, 'holidays': 6, 'cosmetic': 6, 'turns': 6, 'sniffing': 6, 'easel': 6, 'multiple': 6, 'range': 6, 'tractor': 6, 'cao': 6, 'dai': 6, 'magic': 6, 'striped': 6, 'toys': 6, 'speeding': 6, 'colony': 6, 'virginia': 6, 'class': 6, 'brooklyn': 6, 'toasting': 6, 'toddler': 6, 'koala': 6, 'celebration': 6, 'bunny': 6, 'string': 6, 'zebra': 6, 'chaise': 6, 'grey': 6, 'silhouetted': 6, 'rafting': 6, 'lobsters': 6, 'slicing': 6, 'scan': 6, 'redrock': 6, 'banjo': 6, 'strumming': 6, 'pass': 6, 'shacks': 6, 'detail': 6, 'landmarks': 6, 'javelin': 6, 'spear': 6, 'mud': 6, 'shoreline': 6, 'fountains': 6, 'antique': 6, 'parts': 6, 'auto': 6, 'pose': 6, 'la': 6, 'foam': 6, 'environment': 6, 'styles': 6, 'shelf': 6, 'listen': 6, 'which': 6, 'problems': 6, 'drone': 6, 'playpen': 6, 'owner': 6, 'sisters': 6, 'signing': 6, 'device': 6, 'giraffes': 6, 'passes': 6, 'pull': 6, 'retriever': 6, 'olympic': 6, 'movement': 6, 'lips': 6, 'pareo': 6, 'swings': 6, 'unhealth': 6, 'theme': 6, 'california': 6, 'checked': 6, 'poolside': 6, 'choosing': 6, 'exterior': 6, 'when': 6, 'thinking': 6, 'snorkel': 6, 'riverbank': 6, 'entrance': 6, 'dental': 6, 'penguins': 6, 'shaving': 6, 'gorgeous': 6, 'metallic': 6, 'tent': 6, 'conducts': 6, 'plantation': 6, 'pride': 6, 'sheet': 6, 'panningshowing': 6, 'cookie': 6, 'surf': 6, 'repair': 6, 'relax': 6, 'television': 5, 'who': 5, 'points': 5, 'brushing': 5, 'emotions': 5, 'feelings': 5, 'asia': 5, 'condition': 5, 'medium': 5, 'pulling': 5, 'hovering': 5, 'railing': 5, 'lunch': 5, 'cages': 5, 'check': 5, 'tierra': 5, 'del': 5, 'fuego': 5, 'manta': 5, 'serves': 5, 'platform': 5, 'staff': 5, 'pencil': 5, 'lines': 5, 'spruce': 5, 'briefcase': 5, 'approaching': 5, 'haircut': 5, 'stand': 5, 'hallway': 5, 'dishes': 5, 'fashionable': 5, 'presents': 5, 'colomna': 5, 'streets': 5, 'japanese': 5, 'laser': 5, 'talks': 5, 'airlock': 5, 'drift': 5, 'pedestrian': 5, 'shows': 5, 'others': 5, 'houses': 5, 'instrument': 5, 'gangster': 5, 'brick': 5, 'jumps': 5, 'hood': 5, 'go': 5, 'suburban': 5, 'carving': 5, 'european': 5, 'porch': 5, 'gymnasium': 5, 'dollyyoung': 5, 'spinach': 5, 'foodk': 5, 'patients': 5, 'refreshing': 5, 'pipette': 5, 'transfer': 5, 'security': 5, 'presentation': 5, 'fuel': 5, 'jam': 5, 'statuettes': 5, 'blackmagic': 5, 'ursa': 5, 'mini': 5, 'jet': 5, 'horizontal': 5, 'giant': 5, 'lightning': 5, 'hiding': 5, 'depth': 5, 'archway': 5, 'puerto': 5, 'someone': 5, 'uhdx': 5, 'sexy': 5, 'trunk': 5, 'eats': 5, 'picking': 5, 'sleepy': 5, 'boulders': 5, 'peninsula': 5, 'ethnic': 5, 'dipping': 5, 'chocolate': 5, 'whitewater': 5, 'bouquet': 5, 'slowmo': 5, 'joyful': 5, 'public': 5, 'gently': 5, 'coast': 5, 'float': 5, 'drives': 5, 'steam': 5, 'learns': 5, 'nol': 5, 'shuffling': 5, 'cards': 5, 'museum': 5, 'denmark': 5, 'smartphones': 5, 'web': 5, 'potatoes': 5, 'uniform': 5, 'mulatto': 5, 'dj': 5, 'leg': 5, 'rim': 5, 'musician': 5, 'main': 5, 'rowboat': 5, 'nighttime': 5, 'golfer': 5, 'bank': 5, 'epic': 5, 'giraffe': 5, 'traveler': 5, 'operator': 5, 'deal': 5, 'brain': 5, 'lovely': 5, 'sold': 5, 'hoop': 5, 'sheep': 5, 'heart': 5, 'that': 5, 'below': 5, 'draw': 5, 'venice': 5, 'goggles': 5, 'conducting': 5, 'bars': 5, 'sunshine': 5, 'feathers': 5, 'held': 5, 'served': 5, 'pedestrians': 5, 'magazine': 5, 'lobby': 5, 'cows': 5, 'inspecting': 5, 'cubs': 5, 'heading': 5, 'hitting': 5, 'part': 5, 'valleys': 5, 'tundra': 5, 'poured': 5, 'jewish': 5, 'laugh': 5, 'slowly': 5, 'teddy': 5, 'vehicle': 5, 'november': 5, 'whipped': 5, 'builder': 5, 'girlfriend': 5, 'decorated': 5, 'motionfpsx': 5, 'drunk': 5, 'climbs': 5, 'clinic': 5, 'forklift': 5, 'rollercoaster': 5, 'gallop': 5, 'central': 5, 'mediumof': 5, 'drip': 5, 'blossoms': 5, 'carrier': 5, 'ask': 5, 'question': 5, 'boys': 5, 'cow': 5, 'animals': 5, 'vivacious': 5, 'takeaway': 5, 'paddling': 5, 'flipping': 5, 'blown': 5, 'geese': 5, 'flips': 5, 'patio': 5, 'massaging': 5, 'cross': 5, 'blanket': 5, 'cyclists': 5, 'journey': 5, 'lovers': 5, 'cuts': 5, 'post': 5, 'alongside': 5, 'energy': 5, 'great': 5, 'letter': 5, 'vegetable': 5, 'clock': 5, 'seagull': 5, 'store': 5, 'lone': 5, 'smelling': 5, 'excavator': 5, 'hispanic': 5, 'seafront': 5, 'olive': 5, 'photograph': 5, 'soup': 5, 'cold': 5, 'boxing': 5, 'circling': 5, 'aunt': 5, 'nieces': 5, 'muffins': 5, 'hole': 5, 'thomas': 5, 'trip': 5, 'climb': 5, 'grimacing': 5, 'bass': 5, 'sms': 5, 'leading': 5, 'menu': 5, 'lot': 5, 'painted': 5, 'computers': 5, 'relaxes': 5, 'discussion': 5, 'support': 5, 'vegetation': 5, 'sheremetyevo': 5, 'map': 5, 'digging': 5, 'repelling': 5, 'interesting': 4, 'overdue': 4, 'tweeting': 4, 'removing': 4, 'firefighters': 4, 'silver': 4, 'snowing': 4, 'nativity': 4, 'selecting': 4, 'dramatic': 4, 'have': 4, 'puppies': 4, 'juggling': 4, 'woodshed': 4, 'ballerina': 4, 'garter': 4, 'strike': 4, 'bo': 4, 'muscles': 4, 'llanquihue': 4, 'cement': 4, 'grandpa': 4, 'startup': 4, 'rope': 4, 'dusty': 4, 'skies': 4, 'order': 4, 'orchard': 4, 'rifle': 4, 'manhattan': 4, 'brushes': 4, 'tool': 4, 'commuters': 4, 'story': 4, 'waitress': 4, 'economy': 4, 'approaches': 4, 'pepper': 4, 'lionfish': 4, 'captain': 4, 'smoothing': 4, 'canon': 4, 'footage': 4, 'chainsaw': 4, 'beautician': 4, 'vivid': 4, 'escalator': 4, 'campaign': 4, 'signs': 4, 'satellite': 4, 'fair': 4, 'capturing': 4, 'steadicamthrough': 4, 'magpie': 4, 'protective': 4, 'popcorn': 4, 'bun': 4, 'motherhood': 4, 'cap': 4, 'rush': 4, 'used': 4, 'comfortable': 4, 'boyfriend': 4, 'ants': 4, 'releasing': 4, 'promenade': 4, 'grain': 4, 'dining': 4, 'ancient': 4, 'fiesta': 4, 'boston': 4, 'engine': 4, 'suing': 4, 'practicing': 4, 'turn': 4, 'strawberry': 4, 'pen': 4, 'b': 4, 'luxurious': 4, 'grand': 4, 'courtyard': 4, 'crow': 4, 'hawk': 4, 'fountain': 4, 'crawling': 4, 'milling': 4, 'pulls': 4, 'consulting': 4, 'exam': 4, 'retro': 4, 'dealer': 4, 'mothers': 4, 'paying': 4, 'tropics': 4, 'descending': 4, 'goes': 4, 'baggage': 4, 'revolution': 4, 'special': 4, 'property': 4, 'helicopters': 4, 'boarding': 4, 'pedal': 4, 'veterans': 4, 'change': 4, 'omelet': 4, 'sick': 4, 'garbage': 4, 'chicks': 4, 'rarotongo': 4, 'upper': 4, 'details': 4, 'confederates': 4, 'chicken': 4, 'caribbean': 4, 'faces': 4, 'credit': 4, 'code': 4, 'rapids': 4, 'exiting': 4, 'temple': 4, 'manicure': 4, 'classroom': 4, 'fixing': 4, 'tie': 4, 'blooming': 4, 'get': 4, 'breaking': 4, 'departure': 4, 'canal': 4, 'papers': 4, 'sprinkle': 4, 'powder': 4, 'boutique': 4, 'diagrams': 4, 'app': 4, 'telephone': 4, 'relaxation': 4, 'bloomy': 4, 'rides': 4, 'ostrich': 4, 'stabilizedsportswoman': 4, 'tracker': 4, 'bracelet': 4, 'elk': 4, 'lounges': 4, 'hunter': 4, 'jay': 4, 'employed': 4, 'luggage': 4, 'mascara': 4, 'excitement': 4, 'amount': 4, 'grown': 4, 'shaking': 4, 'teen': 4, 'catch': 4, 'skincare': 4, 'keying': 4, 'production': 4, 'iron': 4, 'agency': 4, 'backlit': 4, 'newly': 4, 'lollipop': 4, 'juggles': 4, 'lynx': 4, 'crazy': 4, 'nice': 4, 'removes': 4, 'seeds': 4, 'biting': 4, 'candy': 4, 'indian': 4, 'dentistry': 4, 'glidingof': 4, 'ethnicity': 4, 'thrower': 4, 'atlantis': 4, 'lifts': 4, 'driver': 4, 'sound': 4, 'carousel': 4, 'john': 4, 'barn': 4, 'acupuncture': 4, 'goats': 4, 'needle': 4, 'colleague': 4, 'escape': 4, 'meditating': 4, 'fixed': 4, 'moon': 4, 'merry': 4, 'grove': 4, 'artists': 4, 'facial': 4, 'cleansing': 4, 'grinder': 4, 't': 4, 'blazing': 4, 'buying': 4, 'wildflowers': 4, 'searching': 4, 'mail': 4, 'snowshoeing': 4, 'narrow': 4, 'bloom': 4, 'start': 4, 'splashing': 4, 'treek': 4, 'say': 4, 'opinion': 4, 'journalists': 4, 'ab': 4, 'came': 4, 'galilee': 4, 'surprise': 4, 'kudu': 4, 'sandy': 4, 'overlooking': 4, 'shrimp': 4, 'leisure': 4, 'lonely': 4, 'dumbbells': 4, 'seals': 4, 'entering': 4, 'clownfish': 4, 'cargo': 4, 'outdoorsk': 4, 'kisses': 4, 'overpass': 4, 'timelapsek': 4, 'casting': 4, 'chemical': 4, 'experiment': 4, 'snowshoes': 4, 'lit': 4, 'airplanes': 4, 'crab': 4, 'muesli': 4, 'visiting': 4, 'calves': 4, 'officer': 4, 'nearby': 4, 'move': 4, 'afternoon': 4, 'places': 4, 'jerusalem': 4, 'italy': 4, 'spectators': 4, 'pole': 4, 'pleasure': 4, 'stream': 4, 'windy': 4, 'dragon': 4, 'paints': 4, 'charts': 4, 'futuristic': 4, 'routine': 4, 'fishes': 4, 'county': 4, 'marshland': 4, 'lounge': 4, 'chips': 4, 'farmers': 4, 'exhibition': 4, 'stack': 4, 'riders': 4, 'multicolored': 4, 'hurghada': 4, 'egypt': 4, 'thessaloniki': 4, 'august': 4, 'sweep': 4, 'childrens': 4, 'contractor': 4, 'beverage': 4, 'windsurfing': 4, 'otter': 4, 'ca': 4, 'disco': 4, 'dad': 4, 'liner': 4, 'defocused': 4, 'vast': 4, 'control': 4, 'somebody': 4, 'elevator': 4, 'frutillar': 4, 'railway': 4, 'liberty': 4, 'fires': 4, 'nurses': 4, 'pasta': 4, 'fit': 4, 'bottom': 4, 'medicine': 4, 'honor': 4, 'procedure': 4, 'decorate': 4, 'all': 4, 'indoor': 4, 'co': 4, 'assorted': 4, 'june': 4, 'coworking': 4, 'italian': 4, 'thai': 4, 'belt': 4, 'species': 4, 'easter': 4, 'egg': 4, 'seats': 4, 'burger': 4, 'pets': 4, 'sitter': 4, 'alsatian': 4, 'german': 4, 'surgical': 4, 'activities': 4, 'record': 4, 'unhappy': 3, 'dam': 3, 'flashing': 3, 'comes': 3, 'barren': 3, 'twig': 3, 'potink': 3, 'dollies': 3, 'pollution': 3, 'hug': 3, 'read': 3, 'reindeer': 3, 'north': 3, 'backpack': 3, 'stop': 3, 'cockatoo': 3, 'fight': 3, 'caught': 3, 'texts': 3, 'racial': 3, 'grenades': 3, 'dodger': 3, 'parking': 3, 'foliage': 3, 'location': 3, 'bend': 3, 'confident': 3, 'module': 3, 'oahu': 3, 'bushes': 3, 'poker': 3, 'mill': 3, 'scratching': 3, 'snowcapped': 3, 'shimmering': 3, 'millennium': 3, 'chairlift': 3, 'job': 3, 'organizing': 3, 'arranging': 3, 'placement': 3, 'stuff': 3, 'tying': 3, 'sail': 3, 'rice': 3, 'nori': 3, 'firewood': 3, 'atmosphere': 3, 'lockers': 3, 'firek': 3, 'sled': 3, 'carriage': 3, 'song': 3, 'hills': 3, 'horseback': 3, 'playground': 3, 'smili': 3, 'migration': 3, 'plum': 3, 'exits': 3, 'shoveling': 3, 'incoming': 3, 'edited': 3, 'everglades': 3, 'squad': 3, 'answering': 3, 'spectacular': 3, 'rest': 3, 'trade': 3, 'grating': 3, 'pomegranate': 3, 'rooftop': 3, 'agent': 3, 'sculpture': 3, 'bottles': 3, 'atv': 3, 'saying': 3, 'hats': 3, 'escaped': 3, 'scarf': 3, 'curly': 3, 'wolf': 3, 'snorkeling': 3, 'chirping': 3, 'buttons': 3, 'tech': 3, 'trends': 3, 'expo': 3, 'pile': 3, 'seminar': 3, 'wading': 3, 'sparkler': 3, 'northern': 3, 'arizona': 3, 'turned': 3, 'mo': 3, 'your': 3, 'transparent': 3, 'bucking': 3, 'loopwith': 3, 'luscious': 3, 'saw': 3, 'swan': 3, 'warning': 3, 'authentic': 3, 'challenging': 3, 'conditions': 3, 'bit': 3, 'maybe': 3, 'juan': 3, 'rico': 3, 'knees': 3, 'tossing': 3, 'clearing': 3, 'moab': 3, 'muskets': 3, 'impatient': 3, 'albuquerque': 3, 'gesturing': 3, 'retrieving': 3, 'munching': 3, 'india': 3, 'number': 3, 'pages': 3, 'copy': 3, 'niagara': 3, 'kayaking': 3, 'beautyof': 3, 'sets': 3, 'sieve': 3, 'measured': 3, 'shelves': 3, 'mall': 3, 'seahorse': 3, 'years': 3, 'pregnancy': 3, 'motorcyclists': 3, 'blurry': 3, 'sailboats': 3, 'tour': 3, 'land': 3, 'weather': 3, 'track': 3, 'ambulance': 3, 'pipe': 3, 'gears': 3, 'chain': 3, 'charging': 3, 'dirty': 3, 'stroking': 3, 'emergency': 3, 'pig': 3, 'frenzy': 3, 'palms': 3, 'quiet': 3, 'steaming': 3, 'loader': 3, 'smith': 3, 'respirator': 3, 'finished': 3, 'fjord': 3, 'claim': 3, 'wildebeest': 3, 'bean': 3, 'could': 3, 'member': 3, 'punta': 3, 'drums': 3, 'supplies': 3, 'rubs': 3, 'pain': 3, 'pagosa': 3, 'jets': 3, 'uss': 3, 'wooded': 3, 'pants': 3, 'gathered': 3, 'tiny': 3, 'cereals': 3, 'juiceink': 3, 'korean': 3, 'slices': 3, 'financial': 3, 'butterflies': 3, 'wrack': 3, 'musical': 3, 'hen': 3, 'injured': 3, 'smokestack': 3, 'billowing': 3, 'billed': 3, 'corella': 3, 'headlights': 3, 'duty': 3, 'zone': 3, 'booking': 3, 'dollywoman': 3, 'flyfishing': 3, 'cameraman': 3, 'enter': 3, 'mixer': 3, 'frozen': 3, 'furniture': 3, 'dips': 3, 'fatherping': 3, 'starts': 3, 'hold': 3, 'hammering': 3, 'bermuda': 3, 'viewwater': 3, 'lakesailboats': 3, 'decorates': 3, 'molting': 3, 'husband': 3, 'chasing': 3, 'rear': 3, 'tubes': 3, 'basketballin': 3, 'steady': 3, 'songs': 3, 'champangne': 3, 'coats': 3, 'defense': 3, 'yoghurt': 3, 'where': 3, 'sunsetk': 3, 'crete': 3, 'alps': 3, 'france': 3, 'fossil': 3, 'cardboard': 3, 'stingray': 3, 'luzhniki': 3, 'underside': 3, 'honey': 3, 'barrell': 3, 'harrier': 3, 'rushing': 3, 'spray': 3, 'cool': 3, 'dumping': 3, 'milking': 3, 'feasting': 3, 'joy': 3, 'sportsman': 3, 'sandhill': 3, 'bakery': 3, 'forward': 3, 'unseen': 3, 'radiologist': 3, 'monitors': 3, 'melting': 3, 'cyclist': 3, 'homes': 3, 'dreidel': 3, 'beneath': 3, 'putts': 3, 'naturalist': 3, 'fine': 3, 'parchment': 3, 'paintbrush': 3, 'scarred': 3, 'beak': 3, 'stepping': 3, 'expedition': 3, 'ships': 3, 'sledge': 3, 'orbiting': 3, 'areas': 3, 'finches': 3, 'human': 3, 'took': 3, 'throw': 3, 'kennedy': 3, 'yukon': 3, 'volley': 3, 'fathers': 3, 'alpine': 3, 'spread': 3, 'de': 3, 'sparklers': 3, 'actor': 3, 'role': 3, 'yet': 3, 'marlen': 3, 'khutsiev': 3, 'eternal': 3, 'owl': 3, 'tallinn': 3, 'estonia': 3, 'taxi': 3, 'performed': 3, 'turkey': 3, 'packing': 3, 'communicate': 3, 'no': 3, 'spending': 3, 'till': 3, 'pair': 3, 'slopes': 3, 'pet': 3, 'handicapped': 3, 'patrons': 3, 'shoulders': 3, 'valentines': 3, 'boss': 3, 'coiled': 3, 'onion': 3, 'eight': 3, 'attack': 3, 'caterpillar': 3, 'joshua': 3, 'phones': 3, 'siamese': 3, 'reflected': 3, 'examining': 3, 'squeezing': 3, 'tape': 3, 'measure': 3, 'perfect': 3, 'paradise': 3, 'seller': 3, 'navajo': 3, 'barista': 3, 'espresso': 3, 'breakdancer': 3, 'bandana': 3, 'saucepan': 3, 'lays': 3, 'shade': 3, 'lecture': 3, 'seascape': 3, 'march': 3, 'bucket': 3, 'regular': 3, 'workouts': 3, 'astronauts': 3, 'curls': 3, 'serve': 3, 'fans': 3, 'celebrate': 3, 'raise': 3, 'topical': 3, 'saltwater': 3, 'anemonefish': 3, 'gorilla': 3, 'roadside': 3, 'competition': 3, 'scavenging': 3, 'loudspeaker': 3, 'chiloe': 3, 'find': 3, 'hanukia': 3, 'bills': 3, 'repairing': 3, 'grater': 3, 'journalist': 3, 'crustacean': 3, 'romanian': 3, 'cola': 3, 'profile': 3, 'handheldof': 3, 'freep': 3, 'bloodpressure': 3, 'painter': 3, 'chefs': 3, 'sm': 3, 'flyby': 3, 'arguing': 3, 'am': 3, 'snowshoe': 3, 'squid': 3, 'flashlights': 3, 'dune': 3, 'buggy': 3, 'swims': 3, 'mushrooms': 3, 'cigar': 3, 'blueprints': 3, 'waiter': 3, 'venetian': 3, 'practice': 3, 'breeze': 3, 'motionx': 3, 'stock': 3, 'monastery': 3, 'sharing': 3, 'apollo': 3, 'uphill': 3, 'ecu': 3, 'cabinet': 3, 'corruption': 3, 'daily': 3, 'territory': 3, 'luxuary': 3, 'scooter': 3, 'constructor': 3, 'cheese': 3, 'determined': 3, 'stocking': 3, 'slot': 3, 'powell': 3, 'oregon': 3, 'detaching': 3, 'kettle': 3, 'vulture': 3, 'manual': 3, 'picks': 3, 'elderly': 3, 'marina': 3, 'overview': 3, 'ramp': 3, 'grapes': 3, 'trackingfocusing': 3, 'carried': 3, 'jefferson': 3, 'sweeping': 3, 'printed': 3, 'sometimes': 3, 'xc': 3, 'degree': 3, 'metalworking': 3, 'processing': 3, 'pre': 3, 'stretch': 3, 'ipad': 3, 'dollar': 3, 'delivery': 3, 'flags': 3, 'shacking': 3, 'ink': 3, 'sending': 3, 'placing': 3, 'perch': 3, 'waste': 3, 'dollythrough': 3, 'repairs': 3, 'whiteboard': 3, 'masks': 3, 'pure': 3, 'towel': 3, 'rv': 3, 'sited': 3, 'bow': 3, 'barbell': 3, 'still': 3, 'warthog': 3, 'straightens': 3, 'applauding': 3, 'backhoe': 3, 'turquoise': 3, 'mechanical': 3, 'e': 3, 'bomber': 3, 'firework': 3, 'miami': 3, 'athletic': 3, 'bokeh': 3, 'lip': 3, 'lovatnet': 3, 'brightly': 3, 'remote': 3, 'gloves': 3, 'gives': 3, 'teaches': 3, 'craft': 3, 'florida': 3, 'bleachers': 3, 'cornflakes': 3, 'creature': 3, 'osprey': 3, 'refueling': 3, 'yarra': 3, 'freight': 3, 'british': 3, 'columbia': 3, 'rollers': 3, 'sneaks': 3, 'smilin': 3, 'coney': 3, 'barefoot': 3, 'eyeglasses': 3, 'researcher': 3, 'personal': 3, 'hunting': 3, 'tongs': 3, 'tells': 3, 'amsterdam': 3, 'holland': 3, 'netherl': 3, 'viewk': 3, 'ashkelon': 3, 'seawater': 3, 'reverse': 3, 'osmosis': 3, 'diver': 3, 'basil': 3, 'wade': 3, 'parachute': 3, 'fighter': 3, 'performs': 3, 'scaly': 3, 'skateboard': 3, 'lumber': 3, 'musicians': 3, 'unloading': 3, 'schools': 3, 'arched': 3, 'server': 3, 'granddaughter': 3, 'neighborhood': 3, 'historic': 3, 'teeth': 3, 'rhinoceros': 3, 'competitions': 3, 'fastened': 3, 'various': 3, 'dropping': 3, 'pressure': 3, 'reenactor': 3, 'wing': 3, 'cannons': 3, 'staring': 3, 'assembly': 3, 'monarch': 3, 'carefree': 3, 'drum': 3, 'mustang': 3, 'banana': 3, 'banking': 3, 'chile': 3, 'surfer': 3, 'peaceful': 3, 'seat': 3, 'eyelashes': 3, 'lamp': 3, 'docked': 3, 'plaza': 3, 'labrador': 3, 'punches': 3, 'history': 3, 'bible': 3, 'hamburg': 3, 'vegas': 3, 'roulette': 2, 'conveyor': 2, 'burn': 2, 'report': 2, 'petco': 2, 'bounding': 2, 'charlottenburg': 2, 'castle': 2, 'smog': 2, 'translucent': 2, 'subway': 2, 'flaming': 2, 'fan': 2, 'scaling': 2, 'nordkapp': 2, 'tsa': 2, 'roots': 2, 'lago': 2, 'roca': 2, 'chopped': 2, 'axe': 2, 'contemporary': 2, 'beyond': 2, 'shown': 2, 'displays': 2, 'backgrounds': 2, 'foggy': 2, 'slavery': 2, 'local': 2, 'starfish': 2, 'draws': 2, 'figures': 2, 'rooster': 2, 'coastal': 2, 'trackingshowing': 2, 'hardworker': 2, 'district': 2, 'transit': 2, 'transportation': 2, 'surprising': 2, 'granddaughters': 2, 'mediterranean': 2, 'puffy': 2, 'monkeys': 2, 'grooming': 2, 'vantage': 2, 'swat': 2, 'chanuka': 2, 'aiming': 2, 'skating': 2, 'clears': 2, 'sunbeam': 2, 'farms': 2, 'foots': 2, 'humorous': 2, 'continental': 2, 'tail': 2, 'dawn': 2, 'cocoa': 2, 'dreaming': 2, 'yogurt': 2, 'hay': 2, 'upset': 2, 'problem': 2, 'morninig': 2, 'asphalt': 2, 'found': 2, 'roost': 2, 'lid': 2, 'sterilizer': 2, 'handing': 2, 'wireless': 2, 'rotation': 2, 'bored': 2, 'nap': 2, 'lumberjack': 2, 'sliderof': 2, 'medication': 2, 'santas': 2, 'brow': 2, 'strange': 2, 'snacking': 2, 'chilling': 2, 'praying': 2, 'mosque': 2, 'guitars': 2, 'inflatable': 2, 'mattress': 2, 'footbridge': 2, 'vultures': 2, 'system': 2, 'grinds': 2, 'angular': 2, 'grinding': 2, 'wildebeests': 2, 'dolphins': 2, 'follow': 2, 'whistle': 2, 'trolley': 2, 'backs': 2, 'barber': 2, 'clients': 2, 'beard': 2, 'structure': 2, 'rights': 2, 'washes': 2, 'bumper': 2, 'hairstyle': 2, 'shells': 2, 'circular': 2, 'printer': 2, 'doors': 2, 'filing': 2, 'dismounted': 2, 'splitting': 2, 'fork': 2, 'rockets': 2, 'spanish': 2, 'harley': 2, 'leans': 2, 'squirrel': 2, 'bookshelves': 2, 'literature': 2, 'lock': 2, 'volga': 2, 'mineral': 2, 'toboggan': 2, 'paintings': 2, 'gates': 2, 'shovel': 2, 'carrots': 2, 'elaborate': 2, 'hermit': 2, 'womanfrom': 2, 'buy': 2, 'streaming': 2, 'wifes': 2, 'offof': 2, 'mortgage': 2, 'waimanalo': 2, 'types': 2, 'variety': 2, 'choice': 2, 'kinds': 2, 'prices': 2, 'sarong': 2, 'wrangler': 2, 'smi': 2, 'wash': 2, 'twin': 2, 'styled': 2, 'cafek': 2, 'windmills': 2, 'smov': 2, 'hippo': 2, 'feels': 2, 'every': 2, 'vehicles': 2, 'spend': 2, 'striated': 2, 'latin': 2, 'guinea': 2, 'concertk': 2, 'blur': 2, 'explosion': 2, 'coconut': 2, 'planes': 2, 'chemicals': 2, 'guns': 2, 'employee': 2, 'meadowlands': 2, 'trumpeting': 2, 'cana': 2, 'dominican': 2, 'republic': 2, 'novemer': 2, 'smock': 2, 'canvasses': 2, 'elbow': 2, 'joint': 2, 'pennsylvania': 2, 'offshowing': 2, 'ears': 2, 'midway': 2, 'sprayer': 2, 'daydreaming': 2, 'sandwich': 2, 'usa': 2, 'cherries': 2, 'seas': 2, 'release': 2, 'businesslady': 2, 'knee': 2, 'sooth': 2, 'glamorous': 2, 'advance': 2, 'treetops': 2, 'swarming': 2, 'havana': 2, 'cuba': 2, 'cuban': 2, 'tourism': 2, 'shops': 2, 'gadgets': 2, 'objects': 2, 'wintertime': 2, 'pod': 2, 'greet': 2, 'returns': 2, 'fashion': 2, 'staircase': 2, 'second': 2, 'data': 2, 'attaching': 2, 'wires': 2, 'loading': 2, 'elementary': 2, 'lost': 2, 'europe': 2, 'cart': 2, 'peoples': 2, 'pierpanorama': 2, 'cardio': 2, 'motorboat': 2, 'spiraling': 2, 'ha': 2, 'newest': 2, 'submarine': 2, 'minnesota': 2, 'underneath': 2, 'fireplacek': 2, 'mannequin': 2, 'abdominal': 2, 'arabian': 2, 'gulf': 2, 'irrigates': 2, 'greenhouse': 2, 'decorative': 2, 'beaver': 2, 'combine': 2, 'lazy': 2, 'toes': 2, 'dust': 2, 'chamonix': 2, 'platfrom': 2, 'expecting': 2, 'carpet': 2, 'dries': 2, 'lightening': 2, 'takeoff': 2, 'scoreboard': 2, 'tries': 2, 'roll': 2, 'chopsticks': 2, 'soy': 2, 'gamepads': 2, 'has': 2, 'jetty': 2, 'handsk': 2, 'lakeside': 2, 'pulse': 2, 'meerkat': 2, 'crayfish': 2, 'pony': 2, 'jibover': 2, 'roping': 2, 'sketches': 2, 'radio': 2, 'jeweller': 2, 'tin': 2, 'shape': 2, 'ferry': 2, 'spraying': 2, 'organic': 2, 'like': 2, 'spectacles': 2, 'us': 2, 'i': 2, 'lap': 2, 'fishermanfrom': 2, 'walkway': 2, 'pump': 2, 'magnifying': 2, 'puffer': 2, 'tetraodontidae': 2, 'combat': 2, 'bookshelf': 2, 'graceful': 2, 'attached': 2, 'swooping': 2, 'lunar': 2, 'version': 2, 'protest': 2, 'cereal': 2, 'waits': 2, 'maldives': 2, 'antarctica': 2, 'moored': 2, 'ushuaia': 2, 'watched': 2, 'unicycle': 2, 'single': 2, 'inserting': 2, 'plug': 2, 'showroom': 2, 'dumbbell': 2, 'sunken': 2, 'toppled': 2, 'forehand': 2, 'was': 2, 'rugged': 2, 'spires': 2, 'boardroom': 2, 'beaming': 2, 'impalas': 2, 'welding': 2, 'wristwatch': 2, 'embrace': 2, 'virgin': 2, 'tolstoy': 2, 'kennedys': 2, 'gravesite': 2, 'tents': 2, 'present': 2, 'sill': 2, 'stacks': 2, 'lax': 2, 'womens': 2, 'thanksgiving': 2, 'vine': 2, 'vnukovo': 2, 'huddle': 2, 'steamboat': 2, 'snowboarders': 2, 'decorations': 2, 'vaping': 2, 'wake': 2, 'asana': 2, 'wet': 2, 'roses': 2, 'easy': 2, 'trick': 2, 'ukraine': 2, 'october': 2, 'garland': 2, 'cones': 2, 'skilled': 2, 'depicting': 2, 'ear': 2, 'tilting': 2, 'ww': 2, 'frustrated': 2, 'wintery': 2, 'leash': 2, 'sportwoman': 2, 'fenced': 2, 'screeming': 2, 'opens': 2, 'things': 2, 'cafeteria': 2, 'gossiping': 2, 'jelly': 2, 'customers': 2, 'agents': 2, 'skyscraper': 2, 'department': 2, 'cooks': 2, 'smil': 2, 'chic': 2, 'comforting': 2, 'rings': 2, 'charleston': 2, 'teens': 2, 'christ': 2, 'net': 2, 'fastening': 2, 'sharks': 2, 'twisting': 2, 'finale': 2, 'associate': 2, 'bringing': 2, 'frantic': 2, 'offering': 2, 'ring': 2, 'ind': 2, 'intense': 2, 'spin': 2, 'beetle': 2, 'narrows': 2, 'date': 2, 'twists': 2, 'backyard': 2, 'womanink': 2, 'bengal': 2, 'headache': 2, 'here': 2, 'oriental': 2, 'orthopedic': 2, 'parkour': 2, 'begins': 2, 'shake': 2, 'simmered': 2, 'mens': 2, 'atop': 2, 'active': 2, 'match': 2, 'piggy': 2, 'case': 2, 'karate': 2, 'businesscouple': 2, 'longue': 2, 'moray': 2, 'arc': 2, 'triumph': 2, 'outisde': 2, 'barley': 2, 'slide': 2, 'rail': 2, 'whiskey': 2, 'architectural': 2, 'fishers': 2, 'erriff': 2, 'aasleagh': 2, 'ledge': 2, 'masseuse': 2, 'rehabilitated': 2, 'sweater': 2, 'cardigan': 2, 'beads': 2, 'nails': 2, 'massive': 2, 'draft': 2, 'accidently': 2, 'chops': 2, 'parks': 2, 'antigua': 2, 'steak': 2, 'goal': 2, 'chews': 2, 'cud': 2, 'ornaments': 2, 'dublin': 2, 'tranquil': 2, 'dropper': 2, 'latte': 2, 'sings': 2, 'misty': 2, 'backflip': 2, 'ferris': 2, 'shennandoah': 2, 'crying': 2, 'climate': 2, 'mid': 2, 'orleans': 2, 'wades': 2, 'flyover': 2, 'shoots': 2, 'soda': 2, 'bridal': 2, 'chewing': 2, 'engraved': 2, 'gaucho': 2, 'backpacker': 2, 'moutains': 2, 'liquid': 2, 'starry': 2, 'grabbing': 2, 'snowstorm': 2, 'volcano': 2, 'seen': 2, 'rainbow': 2, 'surfboard': 2, 'trapped': 2, 'daisy': 2, 'el': 2, 'morocco': 2, 'mingling': 2, 'ranch': 2, 'formation': 2, 'plains': 2, 'topography': 2, 'flowing': 2, 'piece': 2, 'countries': 2, 'punk': 2, 'roadway': 2, 'see': 2, 'paraglider': 2, 'snowplows': 2, 'monuments': 2, 'windmill': 2, 'freeway': 2, 'departing': 2, 'played': 2, 'ascend': 2, 'ticker': 2, 'scrolling': 2, 'hitch': 2, 'jibas': 2, 'kirillov': 2, 'wire': 2, 'performer': 2, 'aquamarine': 2, 'appear': 2, 'cant': 2, 'underwaterof': 2, 'boots': 2, 'chickens': 2, 'rubber': 2, 'heels': 2, 'dance': 2, 'durango': 2, 'coloradok': 2, 'amused': 2, 'thrown': 2, 'gravel': 2, 'rose': 2, 'alligator': 2, 'action': 2, 'university': 2, 'education': 2, 'pilot': 2, 'massages': 2, 'themselves': 2, 'banner': 2, 'scattered': 2, 'tripod': 2, 'directions': 2, 'zoomed': 2, 'bell': 2, 'shaping': 2, 'eyebrows': 2, 'smooth': 2, 'bugs': 2, 'bartenders': 2, 'domestic': 2, 'screaming': 2, 'travelers': 2, 'approach': 2, 'watermelon': 2, 'batter': 2, 'pitch': 2, 'bat': 2, 'catcher': 2, 'crouching': 2, 'unidentifiable': 2, 'sparkle': 2, 'rinsing': 2, 'campus': 2, 'chess': 2, 'trap': 2, 'promoting': 2, 'yachts': 2, 'candles': 2, 'hush': 2, 'mechanism': 2, 'diary': 2, 'gardenk': 2, 'materials': 2, 'gentleman': 2, 'aitutaki': 2, 'mounted': 2, 'tires': 2, 'english': 2, 'collecting': 2, 'prints': 2, 'banknote': 2, 'usingd': 2, 'tickets': 2, 'debit': 2, 'jar': 2, 'motorcade': 2, 'redwood': 2, 'washed': 2, 'manufacturing': 2, 'winding': 2, 'unfinished': 2, 'enormous': 2, 'multimedia': 2, 'headsets': 2, 'simulator': 2, 'crimson': 2, 'prey': 2, 'shine': 2, 'mooring': 2, 'baltic': 2, 'wintry': 2, 'crosses': 2, 'doolin': 2, 'spreading': 2, 'mug': 2, 'falcon': 2, 'lined': 2, 'chart': 2, 'mist': 2, 'basin': 2, 'kfps': 2, 'jasper': 2, 'knitted': 2, 'worried': 2, 'mosfilm': 2, 'seville': 2, 'guadalquivir': 2, 'motor': 2, 'worship': 2, 'ripples': 2, 'playingwith': 2, 'railings': 2, 'compass': 2, 'trails': 2, 'helps': 2, 'cups': 2, 'stares': 2, 'ge': 2, 'dollyshowing': 2, 'flipchart': 2, 'outcropping': 2, 'isolated': 2, 'harbork': 2, 'ginger': 2, 'baboon': 2, 'adults': 2, 'stealth': 2, 'freelancer': 2, 'mexico': 2, 'herself': 2, 'dollyslow': 2, 'vail': 2, 'tops': 2, 'busk': 2, 'examination': 2, 'patterns': 2, 'newborn': 2, 'wrapped': 2, 'verge': 2, 'ideas': 2, 'worldwide': 2, 'lovek': 2, 'dig': 2, 'holes': 2, 'spade': 2, 'walker': 2, 'king': 2, 'strength': 2, 'stomach': 2, 'hanger': 2, 'best': 2, 'frame': 2, 'mountainside': 2, 'rejoices': 2, 'pub': 2, 'word': 2, 'nestled': 2, 'says': 2, 'wideshot': 2, 'counting': 2, 'feeder': 2, 'gloved': 2, 'slipping': 2, 'tide': 2, 'bruschettas': 2, 'barge': 2, 'shaped': 2, 'pastry': 2, 'hauling': 2, 'pops': 2, 'far': 2, 'burgers': 2, 'recording': 2, 'star': 2, 'enters': 2, 'reception': 2, 'combines': 2, 'sunflower': 2, 'hikes': 2, 'jesus': 2, 'steer': 2, 'haired': 2, 'cello': 2, 'workplace': 2, 'than': 2, 'massagist': 2, 'taped': 2, 'stars': 2, 'rhinos': 2, 'fluttering': 2, 'efforts': 2, 'whittier': 2, 'alcoholic': 2, 'pierced': 2, 'grinning': 2, 'scenes': 2, 'c': 2, 'couples': 2, 'swimsuits': 2, 'xmas': 2, 'bacon': 2, 'monica': 2, 'icy': 2, 'overhead': 2, 'wiping': 2, 'accompanied': 2, 'freshly': 2, 'ladder': 2, 'orthopaedist': 2, 'shoe': 2, 'propeller': 2, 'guided': 2, 'arrival': 2, 'reach': 2, 'puddle': 2, 'mykonos': 2, 'monk': 2, 'chi': 2, 'kittiwakes': 2, 'median': 2, 'clapping': 2, 'chrysler': 2, 'babies': 2, 'planning': 2, 'temples': 2, 'cave': 2, 'grasses': 2, 'straddles': 2, 'itself': 2, 'caged': 2, 'bowing': 2, 'pistol': 2, 'shifting': 2, 'steering': 2, 'few': 2, 'cutter': 2, 'rough': 2, 'balancing': 2, 'ordering': 2, 'hollywood': 2, 'rusty': 2, 'sewing': 2, 'strip': 2, 'filming': 2, 'navigation': 2, 'backpackers': 2, 'disc': 2, 'developers': 2, 'fat': 2, 'droplets': 2, 'discovery': 2, 'concerned': 2, 'demonstrative': 2, 'poor': 2, 'fanning': 2, 'vineyard': 2, 'lands': 2, 'recreational': 2, 'sale': 2, 'goods': 2, 'blood': 2, 'oral': 2, 'hygiene': 2, 'grocery': 2, 'panels': 2, 'results': 2, 'coastline': 2, 'blured': 2, 'oceanarium': 2, 'hut': 2, 'clothesline': 2, 'mombassa': 2, 'waterfront': 2, 'stalks': 2, 'wagon': 2, 'musket': 2, 'dressing': 2, 'twist': 2, 'violet': 2, 'sparkling': 2, 'officant': 2, 'sausages': 2, 'portugal': 2, 'sh': 2, 'messaging': 2, 'nypd': 2, 'playful': 2, 'racket': 2, 'aisen': 2, 'chacabuco': 2, 'bazaar': 2, 'ravine': 2, 'bearded': 2, 'games': 2, 'cultivated': 2, 'gardens': 2, 'settlers': 2, 'bungy': 2, 'springtime': 2, 'usvi': 2, 'carskx': 2, 'glamour': 2, 'barbecue': 2, 'tulips': 2, 'pencils': 2, 'goalpost': 2, 'peel': 2, 'illuminator': 2, 'sleep': 2, 'examines': 2, 'zealand': 2, 'bodybuilder': 2, 'stabilizer': 2, 'beginning': 2, 'tentacles': 2, 'bee': 2, 'hairdresser': 2, 'straight': 2, 'cartoons': 2, 'base': 2, 'seaweed': 2, 'crashes': 2, 'shirts': 2, 'very': 2, 'impressed': 2, 'unconditional': 2, 'surrender': 2, 'mole': 2, 'tahoe': 2, 'gimbal': 2, 'director': 2, 'operation': 2, 'handheldshowing': 2, 'unknown': 2, 'struggling': 2, 'attraction': 2, 'nervous': 2, 'double': 2, 'length': 2, 'surgeon': 2, 'global': 2, 'barrier': 2, 'lies': 2, 'tribal': 2, 'elegance': 2, 'bagpipes': 2, 'crash': 2, 'hummingbird': 2, 'snowboards': 2, 'sequence': 2, 'drying': 2, 'quarrel': 2, 'intersection': 2, 'observe': 2, 'multiethnic': 2, 'hotels': 2, 'tracer': 2, 'loads': 2, 'bazylia': 2, 'mint': 2, 'zioa': 2, 'caves': 2, 'mossy': 2, 'oaks': 2, 'shotink': 2, 'shadows': 2, 'contact': 2, 'lesbians': 2, 'palette': 2, 'walls': 2, 'fishermen': 2, 'medal': 2, 'therapy': 2, 'both': 2, 'rippling': 2, 'conveyer': 2, 'rattlesnake': 2, 'ranges': 2, 'germany': 2, 'tobacco': 2, 'kayaks': 2, 'sticking': 2, 'practices': 2, 'insideof': 2, 'patrolling': 2, 'vinyl': 2, 'playerwith': 2, 'hovers': 1, 'hoover': 1, 'racks': 1, 'released': 1, 'ruins': 1, 'hartebeest': 1, 'stroller': 1, 'schloss': 1, 'illuminate': 1, 'upward': 1, 'berlin': 1, 'germa': 1, 'baskets': 1, 'pounds': 1, 'fencepost': 1, 'intersectionk': 1, 'pat': 1, 'downk': 1, 'glare': 1, 'coals': 1, 'protrude': 1, 'eroded': 1, 'sheik': 1, 'seating': 1, 'schedule': 1, 'aiport': 1, 'chains': 1, 'galloping': 1, 'vermilion': 1, 'flycatcher': 1, 'leafy': 1, 'coils': 1, 'mate': 1, 'parachutes': 1, 'geometrical': 1, 'rapidswith': 1, 'abseiling': 1, 'ropes': 1, 'scale': 1, 'vertical': 1, 'barbershop': 1, 'dominate': 1, 'chilean': 1, 'nose': 1, 'hanky': 1, 'ill': 1, 'smartphoneis': 1, 'steers': 1, 'enclosed': 1, 'lioness': 1, 'ethereal': 1, 'glow': 1, 'drawshoot': 1, 'nursery': 1, 'plasticine': 1, 'childern': 1, 'bobcat': 1, 'classic': 1, 'electricians': 1, 'transformer': 1, 'blueptints': 1, 'weaving': 1, 'mussels': 1, 'cuisine': 1, 'silhouetterifle': 1, 'wheatfield': 1, 'column': 1, 'confers': 1, 'donats': 1, 'handshake': 1, 'dissolving': 1, 'toronto': 1, 'deli': 1, 'rink': 1, 'bryant': 1, 'christm': 1, 'dragging': 1, 'waling': 1, 'underground': 1, 'beachk': 1, 'happily': 1, 'portraitof': 1, 'schoolbus': 1, 'downof': 1, 'administering': 1, 'fractional': 1, 'resurface': 1, 'rejuvenate': 1, 'wagging': 1, 'rustic': 1, 'tranquillity': 1, 'kittwakes': 1, 'package': 1, 'aubergine': 1, 'flattening': 1, 'mazefield': 1, 'shell': 1, 'cyan': 1, 'emracing': 1, 'expectation': 1, 'circle': 1, 'drops': 1, 'yacht': 1, 'felling': 1, 'anhinga': 1, 'offcapturing': 1, 'reeling': 1, 'cosmetological': 1, 'roadwork': 1, 'gunfight': 1, 'squats': 1, 'canada': 1, 'honking': 1, 'raising': 1, 'windsurf': 1, 'sailboard': 1, 'steel': 1, 'raspberries': 1, 'babyboy': 1, 'surroundings': 1, 'pyongshong': 1, 'pyongyang': 1, 'celebrations': 1, 'wait': 1, 'lupines': 1, 'england': 1, 'bunch': 1, 'readings': 1, 'handling': 1, 'dabs': 1, 'barracuda': 1, 'quickly': 1, 'sids': 1, 'houseboat': 1, 'birch': 1, 'atd': 1, 'rotate': 1, 'easily': 1, 'roadk': 1, 'anonymous': 1, 'sprout': 1, 'wanting': 1, 'honeymoon': 1, 'abraham': 1, 'lincoln': 1, 'emancipation': 1, 'liteiny': 1, 'coffin': 1, 'citycan': 1, 'insert': 1, 'content': 1, 'rejecting': 1, 'want': 1, 'letting': 1, 'winek': 1, 'trimming': 1, 'expertise': 1, 'character': 1, 'personality': 1, 'dreadlocks': 1, 'tattoos': 1, 'legionary': 1, 'trampoline': 1, 'amusement': 1, 'imitation': 1, 'bolt': 1, 'steadycome': 1, 'plasma': 1, 'staticand': 1, 'panningtracking': 1, 'greek': 1, 'dofk': 1, 'launchk': 1, 'mouse': 1, 'girs': 1, 'pavilion': 1, 'grandparents': 1, 'facewash': 1, 'sparks': 1, 'ignite': 1, 'fringed': 1, 'benches': 1, 'wasabi': 1, 'installing': 1, 'parabolic': 1, 'antennae': 1, 'booster': 1, 'rise': 1, 'charmer': 1, 'tempanos': 1, 'tampanos': 1, 'iceberg': 1, 'flow': 1, 'sarcastic': 1, 'handlebar': 1, 'drugin': 1, 'pharmacy': 1, 'added': 1, 'afterwards': 1, 'identicalwith': 1, 'stss': 1, 'nuts': 1, 'antenna': 1, 'ii': 1, 'pinguin': 1, 'raised': 1, 'bubbler': 1, 'beared': 1, 'breather': 1, 'herbs': 1, 'crabs': 1, 'caws': 1, 'zoomi': 1, 'scissors': 1, 'stub': 1, 'drivingk': 1, 'cheeses': 1, 'greenfieldfrom': 1, 'oceans': 1, 'octopus': 1, 'creatures': 1, 'tablefood': 1, 'meet': 1, 'spins': 1, 'dingle': 1, 'urchins': 1, 'eco': 1, 'transport': 1, 'kickitat': 1, 'poles': 1, 'source': 1, 'dealing': 1, 'spoons': 1, 'dairy': 1, 'baring': 1, 'cofa': 1, 'strips': 1, 'poncho': 1, 'pannin': 1, 'closi': 1, 'tiramisu': 1, 'daddy': 1, 'sacks': 1, 'mojito': 1, 'product': 1, 'geiranger': 1, 'itchy': 1, 'shiny': 1, 'loft': 1, 'stereo': 1, 'split': 1, 'stewardess': 1, 'rancher': 1, 'ease': 1, 'glove': 1, 'flashlight': 1, 'forces': 1, 'married': 1, 'brainwave': 1, 'controlled': 1, 'depending': 1, 'mood': 1, 'tip': 1, 'bacalar': 1, 'figher': 1, 'nevada': 1, 'steep': 1, 'wheels': 1, 'crevice': 1, 'perching': 1, 'firefight': 1, 'dragonfly': 1, 'footpath': 1, 'gondola': 1, 'youg': 1, 'ironing': 1, 'cupsp': 1, 'flurry': 1, 'tnen': 1, 'pigeon': 1, 'coconuts': 1, 'tandem': 1, 'scratch': 1, 'surprises': 1, 'roast': 1, 'escapes': 1, 'voter': 1, 'responsibilities': 1, 'stalls': 1, 'souvenirs': 1, 'handicrafts': 1, 'posters': 1, 'buys': 1, 'cheeking': 1, 'account': 1, 'workday': 1, 'freelance': 1, 'geek': 1, 'computing': 1, 'grunge': 1, 'cloths': 1, 'parquetcolor': 1, 'disabled': 1, 'laboring': 1, 'storage': 1, 'zips': 1, 'just': 1, 'bought': 1, 'atm': 1, 'pectoral': 1, 'wellness': 1, 'kiwi': 1, 'overworked': 1, 'capped': 1, 'raindrops': 1, 'dads': 1, 'verticalof': 1, 'sparlking': 1, 'settled': 1, 'skiiers': 1, 'murder': 1, 'lad': 1, 'engineering': 1, 'aside': 1, 'woolly': 1, 'lemonade': 1, 'soldierin': 1, 'tank': 1, 'roasted': 1, 'seabirds': 1, 'situps': 1, 'commercial': 1, 'doha': 1, 'capital': 1, 'qatar': 1, 'harvests': 1, 'raging': 1, 'tubing': 1, 'been': 1, 'polished': 1, 'rubbed': 1, 'creates': 1, 'sell': 1, 'aegean': 1, 'mont': 1, 'blanc': 1, 'haute': 1, 'savoie': 1, 'hakafot': 1, 'sokkot': 1, 'prestige': 1, 'displayed': 1, 'neatly': 1, 'chainsawing': 1, 'intenet': 1, 'sack': 1, 'kitten': 1, 'avb': 1, 'westernpistolsfiring': 1, 'cosmeticians': 1, 'issues': 1, 'supermarket': 1, 'buffaloes': 1, 'creepy': 1, 'hollow': 1, 'rome': 1, 'colosseum': 1, 'appetizing': 1, 'sandwiches': 1, 'upwards': 1, 'topless': 1, 'expression': 1, 'neighbours': 1, 'acupuncturist': 1, 'shannon': 1, 'banagher': 1, 'harbour': 1, 'knossos': 1, 'propylaea': 1, 'palace': 1, 'peeing': 1, 'reporting': 1, 'stranding': 1, 'clink': 1, 'strings': 1, 'twinkling': 1, 'sportswoman': 1, 'riverside': 1, 'loo': 1, 'docks': 1, 'skis': 1, 'robotic': 1, 'vet': 1, 'staten': 1, 'keypad': 1, 'target': 1, 'chant': 1, 'insecticide': 1, 'thiscould': 1, 'topic': 1, 'application': 1, 'foilage': 1, 'duckling': 1, 'hitchhiking': 1, 'nothing': 1, 'channels': 1, 'dome': 1, 'culvert': 1, 'whistler': 1, 'molding': 1, 'goat': 1, 'waterskiing': 1, 'lily': 1, 'loon': 1, 'adu': 1, 'intimateof': 1, 'splittig': 1, 'teenage': 1, 'snowfallk': 1, 'piont': 1, 'electronical': 1, 'labor': 1, 'grandmothers': 1, 'entertain': 1, 'panningcapturing': 1, 'cane': 1, 'chiron': 1, 'carry': 1, 'wint': 1, 'dummy': 1, 'mono': 1, 'van': 1, 'transmits': 1, 'events': 1, 'satellites': 1, 'broadcast': 1, 'powered': 1, 'grenade': 1, 'extending': 1, 'amazon': 1, 'mission': 1, 'shipwreck': 1, 'cameraon': 1, 'founded': 1, 'fotographer': 1, 'brace': 1, 'pincers': 1, 'waimea': 1, 'sunblock': 1, 'live': 1, 'shrine': 1, 'cascada': 1, 'iconography': 1, 'lourdes': 1, 'grotto': 1, 'prunes': 1, 'welcoming': 1, 'winkling': 1, 'peeks': 1, 'alexey': 1, 'moma': 1, 'spiti': 1, 'himachal': 1, 'pradesh': 1, 'sneaky': 1, 'batteries': 1, 'tosses': 1, 'limes': 1, 'shilouetted': 1, 'breakfastink': 1, 'tricks': 1, 'storefront': 1, 'eyesight': 1, 'pelmeni': 1, 'stuffing': 1, 'catfish': 1, 'search': 1, 'defocusedof': 1, 'visible': 1, 'unable': 1, 'stirs': 1, 'tender': 1, 'sandpipers': 1, 'eggs': 1, 'machines': 1, 'preschooler': 1, 'zoo': 1, 'plaka': 1, 'editorial': 1, 'gone': 1, 'weed': 1, 'pistoltwirl': 1, 'businessmeeting': 1, 'dnipro': 1, 'closeof': 1, 'muffs': 1, 'fisheye': 1, 'peaches': 1, 'bucked': 1, 'billboards': 1, 'jumbotrons': 1, 'reaches': 1, 'icelandic': 1, 'piggybacking': 1, 'hyper': 1, 'carrot': 1, 'elated': 1, 'joking': 1, 'flutes': 1, 'bluff': 1, 'hydrangeas': 1, 'birdcage': 1, 'freeze': 1, 'access': 1, 'blooms': 1, 'named': 1, 'aurelia': 1, 'reprimand': 1, 'furious': 1, 'sticks': 1, 'tongue': 1, 'granfather': 1, 'thoughful': 1, 'garlic': 1, 'boardfrom': 1, 'shocked': 1, 'exepnsive': 1, 'skrimmaging': 1, 'pokermoneybillfold': 1, 'hula': 1, 'tallin': 1, 'routes': 1, 'strokes': 1, 'malnourished': 1, 'load': 1, 'virus': 1, 'program': 1, 'cyber': 1, 'balkony': 1, 'official': 1, 'races': 1, 'parachuters': 1, 'bayonet': 1, 'rifles': 1, 'enlighting': 1, 'layers': 1, 'navyfighters': 1, 'mary': 1, 'flanked': 1, 'saints': 1, 'sockeye': 1, 'avoiding': 1, 'files': 1, 'doorway': 1, 'povof': 1, 'taxidermy': 1, 'startled': 1, 'alert': 1, 'patagonia': 1, 'middleof': 1, 'mooses': 1, 'peering': 1, 'ct': 1, 'laso': 1, 'proposing': 1, 'loved': 1, 'reacts': 1, 'scared': 1, 'horror': 1, 'danger': 1, 'berries': 1, 'machinegunbeltammo': 1, 'mats': 1, 'azure': 1, 'getaway': 1, 'sardines': 1, 'stairway': 1, 'migraine': 1, 'fife': 1, 'dispenser': 1, 'lowering': 1, 'scanning': 1, 'creating': 1, 'footstep': 1, 'fitting': 1, 'orthotics': 1, 'continuous': 1, 'choke': 1, 'bureau': 1, 'reclamationk': 1, 'carcass': 1, 'strolling': 1, 'freezes': 1, 'sparkly': 1, 'coat': 1, 'physician': 1, 'flows': 1, 'flakes': 1, 'vs': 1, 'backpacking': 1, 'well': 1, 'form': 1, 'hearts': 1, 'curb': 1, 'melon': 1, 'backgroun': 1, 'zero': 1, 'gravity': 1, 'peace': 1, 'chimney': 1, 'snorkeler': 1, 'hazy': 1, 'pedicure': 1, 'floatation': 1, 'devices': 1, 'chats': 1, 'lush': 1, 'copyspace': 1, 'models': 1, 'automobile': 1, 'stranded': 1, 'checks': 1, 'reconstruction': 1, 'helped': 1, 'puzzled': 1, 'sprays': 1, 'wider': 1, 'popping': 1, 'excursion': 1, 'leave': 1, 'spiny': 1, 'ozernaya': 1, 'blog': 1, 'hangar': 1, 'antelope': 1, 'waterbuck': 1, 'catching': 1, 'signal': 1, 'contract': 1, 'molly': 1, 'malone': 1, 'grafton': 1, 'driveway': 1, 'type': 1, 'cappuccino': 1, 'invoices': 1, 'brass': 1, 'ravens': 1, 'sprinting': 1, 'insect': 1, 'broom': 1, 'fox': 1, 'shredder': 1, 'melodrama': 1, 'hillk': 1, 'alight': 1, 'ends': 1, 'technologist': 1, 'examine': 1, 'smear': 1, 'specimen': 1, 'diagnosis': 1, 'objective': 1, 'lenses': 1, 'harleys': 1, 'outboard': 1, 'handsmov': 1, 'camouflaged': 1, 'anenome': 1, 'marker': 1, 'stores': 1, 'veggies': 1, 'preikestolen': 1, 'prekestolen': 1, 'scooters': 1, 'wathing': 1, 'headscarf': 1, 'listens': 1, 'zipper': 1, 'quarell': 1, 'landline': 1, 'peaks': 1, 'utahk': 1, 'businessmann': 1, 'presentations': 1, 'staircases': 1, 'stairways': 1, 'touches': 1, 'quote': 1, 'claims': 1, 'spectator': 1, 'estancia': 1, 'tamper': 1, 'ties': 1, 'necktie': 1, 'gengrations': 1, 'speak': 1, 'hippos': 1, 'corkscrew': 1, 'terlingua': 1, 'iii': 1, 'stabilized': 1, 'formula': 1, 'blackboard': 1, 'gauge': 1, 'winking': 1, 'outfit': 1, 'reaction': 1, 'alarm': 1, 'expressing': 1, 'calbuco': 1, 'looms': 1, 'christian': 1, 'swimsuit': 1, 'demonstration': 1, 'algae': 1, 'pocket': 1, 'stuck': 1, 'seal': 1, 'geometric': 1, 'elevated': 1, 'djemaa': 1, 'fna': 1, 'marrakech': 1, 'marrakesh': 1, 'n': 1, 'skinny': 1, 'crusteacean': 1, 'copper': 1, 'recess': 1, 'dive': 1, 'cheerfully': 1, 'consult': 1, 'scent': 1, 'flocks': 1, 'herbed': 1, 'torn': 1, 'loaf': 1, 'crunch': 1, 'meadowwith': 1, 'passport': 1, 'marks': 1, 'lesson': 1, 'stuntman': 1, 'clings': 1, 'wares': 1, 'jerk': 1, 'mediumangled': 1, 'leonabelle': 1, 'turnbull': 1, 'birding': 1, 'meringues': 1, 'mitzpe': 1, 'ramon': 1, 'crater': 1, 'rigging': 1, 'intently': 1, 'piled': 1, 'arena': 1, 'actors': 1, 'rehearsing': 1, 'onstage': 1, 'you': 1, 'hear': 1, 'cry': 1, 'cabbage': 1, 'soil': 1, 'telling': 1, 'exoticm': 1, 'yorknight': 1, 'munches': 1, 'kirillo': 1, 'belozersky': 1, 'largest': 1, 'russiaon': 1, 'sulphur': 1, 'crested': 1, 'tightof': 1, 'january': 1, 'cube': 1, 'jib': 1, 'coop': 1, 'beachy': 1, 'piranha': 1, 'colossoma': 1, 'macropomum': 1, 'jasmine': 1, 'crack': 1, 'skyward': 1, 'premises': 1, 'repaired': 1, 'removal': 1, 'pro': 1, 'animas': 1, 'raft': 1, 'solutions': 1, 'beakers': 1, 'chanukia': 1, 'recreationk': 1, 'pann': 1, 'spacious': 1, 'dentists': 1, 'scary': 1, 'playfully': 1, 'pallets': 1, 'superheroes': 1, 'alberca': 1, 'bending': 1, 'castles': 1, 'maintaining': 1, 'overshining': 1, 'formations': 1, 'smooths': 1, 'vest': 1, 'pelicans': 1, 'mowing': 1, 'scythe': 1, 'cambrils': 1, 'bodyof': 1, 'filmmakers': 1, 'dslr': 1, 'receives': 1, 'success': 1, 'cameras': 1, 'hurrying': 1, 'noodle': 1, 'thirsty': 1, 'fee': 1, 'centre': 1, 'stalk': 1, 'insects': 1, 'speedboat': 1, 'boarder': 1, 'pint': 1, 'lager': 1, 'motionbarman': 1, 'loud': 1, 'squids': 1, 'biologists': 1, 'sample': 1, 'holdings': 1, 'tab': 1, 'matal': 1, 'toolbox': 1, 'scoops': 1, 'features': 1, 'licking': 1, 'terrain': 1, 'timek': 1, 'excite': 1, 'tickles': 1, 'offaly': 1, 'fton': 1, 'enjoyment': 1, 'craftsman': 1, 'lathe': 1, 'uproad': 1, 'social': 1, 'networking': 1, 'pulloutas': 1, 'hamburgers': 1, 'freckles': 1, 'squeeze': 1, 'grapefruit': 1, 'hanuka': 1, 'boom': 1, 'mic': 1, 'schoolgirl': 1, 'analyses': 1, 'ein': 1, 'gedi': 1, 'halibut': 1, 'agencies': 1, 'germantrench': 1, 'hugs': 1, 'kitcken': 1, 'choreographed': 1, 'count': 1, 'g': 1, 'meerkats': 1, 'sketch': 1, 'draftsmanship': 1, 'laughs': 1, 'because': 1, 'sungla': 1, 'boil': 1, 'deer': 1, 'doe': 1, 'headstones': 1, 'tossed': 1, 'lagoon': 1, 'chaning': 1, 'lizard': 1, 'flash': 1, 'player': 1, 'writes': 1, 'nectar': 1, 'politics': 1, 'closes': 1, 'hundred': 1, 'cornfield': 1, 'sellers': 1, 'soft': 1, 'bathtub': 1, 'fireweed': 1, 'chooses': 1, 'denim': 1, 'neon': 1, 'slope': 1, 'emts': 1, 'butcher': 1, 'pork': 1, 'ballot': 1, 'secretary': 1, 'blast': 1, 'automated': 1, 'electronics': 1, 'boring': 1, 'povzooming': 1, 'downing': 1, 'onboard': 1, 'bananas': 1, 'corgi': 1, 'reed': 1, 'builders': 1, 'progect': 1, 'virtuald': 1, 'interrior': 1, 'beam': 1, 'matching': 1, 'rosella': 1, 'views': 1, 'amid': 1, 'pouncing': 1, 'selfiemade': 1, 'beans': 1, 'synchronized': 1, 'clean': 1, 'competitionjudging': 1, 'give': 1, 'key': 1, 'dresses': 1, 'bounce': 1, 'bungee': 1, 'braces': 1, 'outing': 1, 'write': 1, 'buoy': 1, 'runners': 1, 'potted': 1, 'gril': 1, 'mourning': 1, 'simple': 1, 'deckchair': 1, 'skype': 1, 'forging': 1, 'ahead': 1, 'clare': 1, 'malachite': 1, 'vatican': 1, 'speter': 1, 'induction': 1, 'hob': 1, 'latticed': 1, 'cracked': 1, 'livingroom': 1, 'fd': 1, 'cockpit': 1, 'pyrenees': 1, 'unshaven': 1, 'filings': 1, 'icefields': 1, 'parkway': 1, 'episode': 1, 'fim': 1, 'narrating': 1, 'meetings': 1, 'chekhov': 1, 'directed': 1, 'wreaths': 1, 'breathing': 1, 'email': 1, 'potomac': 1, 'carves': 1, 'pumping': 1, 'tummy': 1, 'marine': 1, 'winsunrise': 1, 'cropped': 1, 'clanging': 1, 'toasts': 1, 'foxes': 1, 'walkingfeet': 1, 'bombed': 1, 'longingly': 1, 'hammerhead': 1, 'snapped': 1, 'punter': 1, 'dripping': 1, 'sailboarding': 1, 'lotus': 1, 'assembling': 1, 'kof': 1, 'expressions': 1, 'nekresi': 1, 'kakheti': 1, 'georgia': 1, 'nightpanning': 1, 'murramarang': 1, 'kangaroo': 1, 'prescriptions': 1, 'groups': 1, 'toulon': 1, 'arrive': 1, 'warth': 1, 'mass': 1, 'melancholy': 1, 'cabin': 1, 'crocodile': 1, 'ox': 1, 'grilled': 1, 'seafood': 1, 'golfing': 1, 'heaving': 1, 'feeds': 1, 'glitch': 1, 'led': 1, 'numbers': 1, 'whiteman': 1, 'romania': 1, 'films': 1, 'crime': 1, 'aftermath': 1, 'couscous': 1, 'kasha': 1, 'tunnel': 1, 'solve': 1, 'gregorian': 1, 'sauna': 1, 'graze': 1, 'leads': 1, 'hvita': 1, 'rushes': 1, 'gullfoss': 1, 'livorno': 1, 'broccoli': 1, 'seminary': 1, 'cupola': 1, 'aboveof': 1, 'goldfish': 1, 'bully': 1, 'passover': 1, 'cypress': 1, 'swamp': 1, 'surging': 1, 'depression': 1, 'lamb': 1, 'linen': 1, 'days': 1, 'wipes': 1, 'kimball': 1, 'brainstorming': 1, 'corporate': 1, 'communicating': 1, 'corral': 1, 'nineteenth': 1, 'portmagee': 1, 'xray': 1, 'platek': 1, 'dollyhealthy': 1, 'courgette': 1, 'galicia': 1, 'sparkles': 1, 'orbit': 1, 'blows': 1, 'sheets': 1, 'visitors': 1, 'asking': 1, 'cucumbers': 1, 'mad': 1, 'installs': 1, 'sim': 1, 'errors': 1, 'must': 1, 'cew': 1, 'bathrobe': 1, 'trash': 1, 'aerialk': 1, 'macrocheira': 1, 'kaempferi': 1, 'beams': 1, 'nimitz': 1, 'polishing': 1, 'overheadof': 1, 'forested': 1, 'steeple': 1, 'chil': 1, 'wildflower': 1, 'phablet': 1, 'actual': 1, 'innovative': 1, 'humanity': 1, 'sanibel': 1, 'escaping': 1, 'tak': 1, 'mayan': 1, 'observatory': 1, 'travelling': 1, 'bungalow': 1, 'somersault': 1, 'acrobatic': 1, 'skills': 1, 'ascension': 1, 'beats': 1, 'approving': 1, 'five': 1, 'boxer': 1, 'abandoned': 1, 'pram': 1, 'cranberries': 1, 'skateboards': 1, 'motoring': 1, 'hump': 1, 'bye': 1, 'merchandise': 1, 'girraffes': 1, 'express': 1, 'employees': 1, 'portraits': 1, 'seated': 1, 'snacks': 1, 'panorig': 1, 'eaten': 1, 'finch': 1, 'phoning': 1, 'quaint': 1, 'task': 1, 'calculator': 1, 'positive': 1, 'result': 1, 'jfk': 1, 'cu': 1, 'mather': 1, 'ceremonyk': 1, 'retreat': 1, 'billiard': 1, 'triangle': 1, 'coffe': 1, 'pattern': 1, 'pur': 1, 'scented': 1, 'rejoins': 1, 'payload': 1, 'summerk': 1, 'usage': 1, 'pterois': 1, 'radiata': 1, 'melbourne': 1, 'h': 1, 'calculating': 1, 'nutrician': 1, 'judge': 1, 'gavel': 1, 'tending': 1, 'mold': 1, 'tidal': 1, 'disposable': 1, 'tiltingand': 1, 'weared': 1, 'cheerleaders': 1, 'hurry': 1, 'kale': 1, 'sandcastle': 1, 'poolsde': 1, 'unloadinggun': 1, 'priestly': 1, 'blessing': 1, 'horsehead': 1, 'sightseeing': 1, 'reflector': 1, 'lolly': 1, 'netbook': 1, 'wrestling': 1, 'zoomin': 1, 'cutouts': 1, 'treats': 1, 'molds': 1, 'lookin': 1, 'apply': 1, 'barbed': 1, 'degrees': 1, 'fiddle': 1, 'favorite': 1, 'rhythms': 1, 'receptionist': 1, 'kayakwith': 1, 'trolleys': 1, 'bobbing': 1, 'hustle': 1, 'bustle': 1, 'united': 1, 'states': 1, 'supreme': 1, 'court': 1, 'nude': 1, 'conquers': 1, 'heights': 1, 'strret': 1, 'wonderful': 1, 'rate': 1, 'awaiting': 1, 'lifted': 1, 'spades': 1, 'stronger': 1, 'spirit': 1, 'return': 1, 'canteloupes': 1, 'tilts': 1, 'lemaire': 1, 'channel': 1, 'tutor': 1, 'solubility': 1, 'tester': 1, 'affection': 1, 'tenderness': 1, 'flats': 1, 'bookcase': 1, 'macrowith': 1, 'forms': 1, 'benefits': 1, 'sandals': 1, 'ssn': 1, 'bark': 1, 'ajman': 1, 'uae': 1, 'swatting': 1, 'ut': 1, 'aspen': 1, 'smokestacks': 1, 'abstract': 1, 'tuna': 1, 'rails': 1, 'dallas': 1, 'non': 1, 'fizzy': 1, 'more': 1, 'vampire': 1, 'amtrak': 1, 'goblin': 1, 'captains': 1, 'beachgoers': 1, 'holidaymakers': 1, 'ominously': 1, 'fusilli': 1, 'cookingk': 1, 'cocktails': 1, 'hoboken': 1, 'begin': 1, 'fisrt': 1, 'galway': 1, 'menuk': 1, 'dollylifestyle': 1, 'cracker': 1, 'reflectionslow': 1, 'cruising': 1, 'embankment': 1, 'balloonsk': 1, 'tale': 1, 'crazily': 1, 'naval': 1, 'worn': 1, 'grungy': 1, 'hippie': 1, 'inscription': 1, 'scrunching': 1, 'fur': 1, 'flip': 1, 'stepmill': 1, 'surronded': 1, 'evergreen': 1, 'dreamy': 1, 'wonderland': 1, 'sceene': 1, 'reload': 1, 'sweat': 1, 'revealing': 1, 'spearing': 1, 'infant': 1, 'picked': 1, 'modernfamily': 1, 'silky': 1, 'stewing': 1, 'designing': 1, 'letters': 1, 'conesk': 1, 'create': 1, 'most': 1, 'effective': 1, 'ledges': 1, 'bistro': 1, 'beverages': 1, 'biotech': 1, 'precision': 1, 'heidelberg': 1, 'daybreak': 1, 'cavalrymen': 1, 'crayons': 1, 'feed': 1, 'advantages': 1, 'crispy': 1, 'language': 1, 'weights': 1, 'buenos': 1, 'aires': 1, 'skater': 1, 'bryan': 1, 'picketts': 1, 'charge': 1, 'flightk': 1, 'tips': 1, 'dollyand': 1, 'unrecognisable': 1, 'sleeves': 1, 'businessmans': 1, 'poolk': 1, 'needs': 1, 'recover': 1, 'contunuing': 1, 'biochemists': 1, 'treating': 1, 'preservative': 1, 'master': 1, 'tai': 1, 'downed': 1, 'meets': 1, 'choir': 1, 'islandk': 1, 'clunker': 1, 'seasoning': 1, 'backwards': 1, 'sittin': 1, 'z': 1, 'aerialat': 1, 'listed': 1, 'greeting': 1, 'depressed': 1, 'refusing': 1, 'skipper': 1, 'cambodian': 1, 'apsara': 1, 'angkor': 1, 'wat': 1, 'siem': 1, 'reap': 1, 'cambod': 1, 'facing': 1, 'sunscreen': 1, 'protect': 1, 'harmful': 1, 'uv': 1, 'folk': 1, 'dancer': 1, 'colomenskoe': 1, 'flippers': 1, 'clumsy': 1, 'savers': 1, 'hereford': 1, 'stall': 1, 'tl': 1, 'blender': 1, 'cottonwood': 1, 'hamming': 1, 'raced': 1, 'canadian': 1, 'sias': 1, 'cheery': 1, 'monorail': 1, 'ostankino': 1, 'overalls': 1, 'helmets': 1, 'ruined': 1, 'pause': 1, 'hild': 1, 'sails': 1, 'nest': 1, 'cathedral': 1, 'amateur': 1, 'persons': 1, 'ontop': 1, 'members': 1, 'duel': 1, 'caressing': 1, 'habitat': 1, 'boot': 1, 'mitts': 1, 'forth': 1, 'aransas': 1, 'trucker': 1, 'dashboard': 1, 'kori': 1, 'bustard': 1, 'slam': 1, 'dunk': 1, 'orders': 1, 'page': 1, 'ripple': 1, 'continent': 1, 'pursuit': 1, 'lanterns': 1, 'checkered': 1, 'stationary': 1, 'buisiness': 1, 'mirrors': 1, 'shakes': 1, 'consoled': 1, 'tricolored': 1, 'tinker': 1, 'purchases': 1, 'stocks': 1, 'blazer': 1, 'shedk': 1, 'mode': 1, 'sewn': 1, 'harriet': 1, 'tubman': 1, 'tackles': 1, 'vab': 1, 'dozers': 1, 'monitoring': 1, 'busses': 1, 'macaw': 1, 'without': 1, 'martinique': 1, 'fort': 1, 'clapper': 1, 'dousing': 1, 'spawning': 1, 'upstream': 1, 'exploding': 1, 'towels': 1, 'masseur': 1, 'distortion': 1, 'engaged': 1, 'restourant': 1, 'violence': 1, 'arccapturing': 1, 'stroke': 1, 'sons': 1, 'charismatic': 1, 'barking': 1, 'dream': 1, 'drills': 1, 'jack': 1, 'russell': 1, 'terrier': 1, 'trough': 1, 'mustache': 1, 'ashore': 1, 'pullout': 1, 'coins': 1, 'stopping': 1, 'reason': 1, 'deadline': 1, 'rent': 1, 'but': 1, 'crosswalk': 1, 'koalas': 1, 'sognefjord': 1, 'sognefjorden': 1, 'flam': 1, 'straws': 1, 'farewell': 1, 'flowery': 1, 'touring': 1, 'enduro': 1, 'hatcher': 1, 'drainage': 1, 'basking': 1, 'lanscape': 1, 'shimmer': 1, 'concentrated': 1, 'banners': 1, 'warmly': 1, 'agains': 1, 'ethnician': 1, 'observing': 1, 'so': 1, 'twinkles': 1, 'rothenburg': 1, 'ob': 1, 'der': 1, 'tauber': 1, 'franconia': 1, 'bavaria': 1, 'weapon': 1, 'seattle': 1, 'commons': 1, 'parlor': 1, 'holy': 1, 'sepulchre': 1, 'mutton': 1, 'actively': 1, 'groggy': 1, 'illuminated': 1, 'explains': 1, 'drugs': 1, 'greenbrier': 1, 'watery': 1, 'sundance': 1, 'rows': 1, 'photovoltaic': 1, 'converting': 1, 'renewable': 1, 'resources': 1, 'nutrition': 1, 'nabs': 1, 'rangeland': 1, 'questions': 1, 'crusher': 1, 'warthogs': 1, 'clutching': 1, 'enginek': 1, 'headig': 1, 'panting': 1, 'houseplant': 1, 'keeps': 1, 'trippy': 1, 'mechanics': 1, 'hoods': 1, 'aim': 1, 'skateboarder': 1, 'halfpipe': 1, 'snowboard': 1, 'skiis': 1, 'lurking': 1, 'tress': 1, 'lighthouse': 1, 'snakes': 1, 'scales': 1, 'handful': 1, 'obama': 1, 'parrott': 1, 'maternity': 1, 'payphone': 1, 'biotechnology': 1, 'machinery': 1, 'assemble': 1, 'lisbon': 1, 'brunet': 1, 'someones': 1, 'racking': 1, 'taken': 1, 'pebbles': 1, 'trout': 1, 'struggles': 1, 'distances': 1, 'bouncing': 1, 'flowerpot': 1, 'beekeeper': 1, 'roomkx': 1, 'rzr': 1, 'atvx': 1, 'tvindefossen': 1, 'drifts': 1, 'aerialover': 1, 'stray': 1, 'dried': 1, 'blow': 1, 'torch': 1, 'entertainment': 1, 'addicts': 1, 'mountainous': 1, 'syringe': 1, 'addict': 1, 'hope': 1, 'better': 1, 'rowing': 1, 'cans': 1, 'scoot': 1, 'peaces': 1, 'half': 1, 'partners': 1, 'boiler': 1, 'softball': 1, 'playk': 1, 'pulsing': 1, 'thee': 1, 'snowbank': 1, 'd': 1, 'dimensional': 1, 'chalten': 1, 'trekking': 1, 'rappeling': 1, 'trains': 1, 'lovemodern': 1, 'gathering': 1, 'militaryprison': 1, 'scraping': 1, 'windshield': 1, 'lessons': 1, 'sensitive': 1, 'cloudless': 1, 'piraeus': 1, 'shipping': 1, 'athensk': 1, 'laces': 1, 'minimalistic': 1, 'speedway': 1, 'tan': 1, 'sipping': 1, 'sharply': 1, 'overlooks': 1, 'cost': 1, 'note': 1, 'tailpipe': 1, 'emissions': 1, 'follows': 1, 'kness': 1, 'study': 1, 'hacker': 1, 'animated': 1, 'cured': 1, 'ham': 1, 'salami': 1, 'patch': 1, 'barcuttinglemons': 1, 'highways': 1, 'alexandria': 1, 'looki': 1, 'covering': 1, 'spaghetti': 1, 'loaves': 1, 'including': 1, 'pools': 1, 'longues': 1, 'banjos': 1, 'tekapo': 1, 'lie': 1, 'camerais': 1, 'workboat': 1, 'swimmers': 1, 'pelican': 1, 'programmer': 1, 'paws': 1, 'radioactive': 1, 'casino': 1, 'gambling': 1, 'moustache': 1, 'goofy': 1, 'misses': 1, 'forestk': 1, 'interest': 1, 'inflated': 1, 'lilo': 1, 'weary': 1, 'protecting': 1, 'aims': 1, 'adjusting': 1, 'toll': 1, 'growing': 1, 'interlocutor': 1, 'pelvic': 1, 'logic': 1, 'upthrough': 1, 'courier': 1, 'parcel': 1, 'feline': 1, 'suppression': 1, 'fighters': 1, 'ornate': 1, 'druck': 1, 'outkmov': 1, 'windowsk': 1, 'protector': 1, 'letterboxed': 1, 'crate': 1, 'testing': 1, 'gyro': 1, 'stabilizin': 1, 'victorias': 1, 'secret': 1, 'rnyk': 1, 'ac': 1, 'advice': 1, 'longof': 1, 'sphygmomanometer': 1, 'physical': 1, 'necessary': 1, 'ages': 1, 'placed': 1, 'rotary': 1, 'polisher': 1, 'paintwork': 1, 'try': 1, 'handrail': 1, 'cosy': 1, 'sprinter': 1, 'preparate': 1, 'swimsuite': 1, 'dialog': 1, 'majestic': 1, 'glaciers': 1, 'hairstylist': 1, 'seeing': 1, 'recipe': 1, 'garra': 1, 'rufa': 1, 'closek': 1, 'bubbling': 1, 'jaccuzzi': 1, 'tub': 1, 'shoulderwith': 1, 'reporter': 1, 'asks': 1, 'impact': 1, 'centrek': 1, 'bunches': 1, 'fleas': 1, 'funnel': 1, 'automatic': 1, 'ibis': 1, 'moion': 1, 'east': 1, 'veil': 1, 'provo': 1, 'chinatown': 1, 'splash': 1, 'arsonist': 1, 'bent': 1, 'canister': 1, 'automotive': 1, 'brook': 1, 'george': 1, 'emotionally': 1, 'reenactme': 1, 'windsurfer': 1, 'difficulties': 1, 'steelhead': 1, 'extremely': 1, 'grab': 1, 'entertaining': 1, 'realistic': 1, 'graphic': 1, 'zaporozhye': 1, 'september': 1, 'trot': 1, 'outpacing': 1, 'buddhist': 1, 'saluting': 1, 'joined': 1, 'cactus': 1, 'petting': 1, 'hello': 1, 'shopkeeper': 1, 'balanced': 1, 'appomattox': 1, 'settings': 1, 'swampy': 1, 'farmhouse': 1, 'fc': 1, 'falconth': 1, 'njang': 1, 'gardener': 1, 'beds': 1, 'visited': 1, 'settlements': 1, 'pans': 1, 'curtain': 1, 'blissful': 1, 'illuminates': 1, 'pank': 1, 'violinist': 1, 'raven': 1, 'rifledownbarrel': 1, 'shifted': 1, 'guide': 1, 'scottish': 1, 'names': 1, 'caring': 1, 'paprika': 1, 'sandpiper': 1, 'dollybeautiful': 1, 'novel': 1, 'daydreamingk': 1, 'slug': 1, 'fastens': 1, 'pearl': 1, 'necklace': 1, 'license': 1, 'register': 1, 'photoflashes': 1, 'fights': 1, 'pounding': 1, 'hatchet': 1, 'household': 1, 'chores': 1, 'ladle': 1, 'vision': 1, 'ch': 1, 'hercules': 1, 'airdrop': 1, 'graph': 1, 'andrew': 1, 'jackson': 1, 'parish': 1, 'templemount': 1, 'timlpase': 1, 'canoe': 1, 'beatiful': 1, 'accordianist': 1, 'rocking': 1, 'gillin': 1, 'kauai': 1, 'symposium': 1, 'auditorium': 1, 'audience': 1, 'speaker': 1, 'governors': 1, 'mansion': 1, 'soundman': 1, 'adjusts': 1, 'levels': 1, 'dumplings': 1, 'pinching': 1, 'pallet': 1, 'what': 1, 'shivering': 1, 'nationalities': 1, 'flashes': 1, 'cells': 1, 'hes': 1, 'tavern': 1, 'ladders': 1, 'vi': 1, 'mop': 1, 'pushed': 1, 'putt': 1, 'done': 1, 'progress': 1, 'ellis': 1, 'launches': 1, 'ad': 1, 'website': 1, 'kc': 1, 'tanker': 1, 'reclining': 1, 'thoughtfully': 1, 'zoomedof': 1, 'indistanc': 1, 'eatingp': 1, 'departures': 1, 'emotional': 1, 'gyroplan': 1, 'bathing': 1, 'airlines': 1, 'aeroflot': 1, 'fuzzy': 1, 'zfat': 1, 'comedy': 1, 'sharpening': 1, 'grindstone': 1, 'skimming': 1, 'marijuana': 1, 'roarings': 1, 'scissor': 1, 'stormk': 1, 'teases': 1, 'waterbucks': 1, 'ofrd': 1, 'maw': 1, 'battalion': 1, 'send': 1, 'gearbox': 1, 'switch': 1, 'naughty': 1, 'rapid': 1, 'rafters': 1, 'manatee': 1, 'wandering': 1, 'drivers': 1, 'turtles': 1, 'communication': 1, 'rod': 1, 'fired': 1, 'skateboarding': 1, 'captive': 1, 'flaps': 1, 'wings': 1, 'walkingk': 1, 'freestyle': 1, 'confused': 1, 'adopted': 1, 'tight': 1, 'vibrations': 1, 'bart': 1, 'sour': 1, 'borsch': 1, 'axis': 1, 'stabilizator': 1, 'directly': 1, 'wsp': 1, 'shenandoah': 1, 'ridge': 1, 'cassette': 1, 'goshawk': 1, 'cartoon': 1, 'beets': 1, 'metlife': 1, 'catches': 1, 'handheldand': 1, 'smartph': 1, 'presented': 1, 'rigger': 1, 'investor': 1, 'advisers': 1, 'inspection': 1, 'command': 1, 'intended': 1, 'invest': 1, 'educational': 1, 'peak': 1, 'overweight': 1, 'illumination': 1, 'scouring': 1, 'paved': 1, 'faced': 1, 'louisiana': 1, 'azalea': 1, 'rosedown': 1, 'gardenskmov': 1, 'rotates': 1, 'harmonica': 1, 'gushes': 1, 'retreating': 1, 'anaesthesiologist': 1, 'gnawing': 1, 'kasba': 1, 'fez': 1, 'slidding': 1, 'independence': 1, 'won': 1, 'cab': 1, 'buttock': 1, 'spiky': 1, 'tables': 1, 'multicolor': 1, 'bullying': 1, 'dualpistol': 1, 'videogames': 1, 'gamepad': 1, 'australian': 1, 'seed': 1, 'downstairs': 1, 'sliding': 1, 'twilight': 1, 'gull': 1, 'roaming': 1, 'doggy': 1, 'montana': 1, 'pasture': 1, 'foundation': 1, 'portable': 1, 'console': 1, 'middlewith': 1, 'panda': 1, 'fryer': 1, 'minuteman': 1, 'concord': 1, 'logos': 1, 'donkeys': 1, 'croissant': 1, 'comedian': 1, 'assistant': 1, 'perform': 1, 'coyote': 1, 'ways': 1, 'yawning': 1, 'oranges': 1, 'rises': 1, 'vibrant': 1, 'shotfps': 1, 'meditates': 1, 'vaunatu': 1, 'camer': 1, 'hungry': 1, 'commerce': 1, 'creditcard': 1, 'pesidential': 1, 'streetside': 1, 'gold': 1, 'carraige': 1, 'containers': 1, 'daffodil': 1, 'petals': 1, 'glides': 1, 'slithers': 1, 'trainings': 1, 'keep': 1, 'gentoo': 1, 'electron': 1, 'explorer': 1, 'undrwaterof': 1, 'singleactioncoltcu': 1, 'shakedown': 1, 'buyer': 1, 'chief': 1, 'describe': 1, 'last': 1, 'pyramid': 1, 'parrot': 1, 'spillwayk': 1, 'halloween': 1, 'witch': 1, 'brew': 1, 'laptops': 1, 'shinning': 1, 'pollen': 1, 'cosmetician': 1, 'providing': 1, 'csa': 1, 'trousers': 1, 'hike': 1, 'dollars': 1, 'macroon': 1, 'relay': 1, 'bullets': 1, 'applied': 1, 'lashes': 1, 'stingrays': 1, 'maintains': 1, 'pineapple': 1, 'cast': 1, 'coal': 1, 'womam': 1, 'stationed': 1, 'haul': 1, 'fischmarkt': 1, 'sunday': 1, 'racetrack': 1, 'patrol': 1, 'demolition': 1, 'swerving': 1, 'circles': 1, 'bones': 1, 'osorno': 1, 'situations': 1, 'ministry': 1, 'opposition': 1, 'bolotnaya': 1, 'greem': 1, 'sesimbra': 1, 'trainer': 1, 'holstein': 1, 'udder': 1, 'stunt': 1, 'fran': 1, 'material': 1, 'canival': 1, 'disguised': 1, 'twins': 1, 'effect': 1, 'particles': 1, 'derby': 1, 'shorts': 1, 'polarizer': 1, 'foothills': 1, 'maryland': 1, 'gazes': 1, 'plain': 1, 'smiley': 1, 'smoldering': 1, 'shoemaker': 1, 'sews': 1, 'haircutes': 1, 'chalking': 1, 'homeowner': 1, 'experienced': 1, 'mosquitos': 1, 'barman': 1, 'flint': 1, 'escort': 1, 'presidential': 1, 'limo': 1, 'decker': 1, 'fortifications': 1, 'grounded': 1, 'budapest': 1, 'youth': 1, 'stump': 1, 'gaping': 1, 'downtownk': 1, 'aggressive': 1, 'bikinik': 1, 'nightmare': 1, 'breaks': 1, 'axel': 1, 'armas': 1, 'mosquito': 1, 'wallaby': 1, 'grazes': 1, 'offload': 1, 'gadgetsin': 1, 'passageway': 1, 'trench': 1, 'frosted': 1, 'panningwith': 1, 'provided': 1, 'thoroughly': 1, 'disk': 1, 'peers': 1, 'sauces': 1, 'desserts': 1, 'downy': 1, 'woodpecker': 1, 'winkle': 1, 'pickers': 1, 'nunchaku': 1, 'hign': 1, 'native': 1, 'drill': 1, 'adjustments': 1, 'cowboys': 1, 'roundup': 1, 'taxiing': 1, 'pine': 1, 'stations': 1, 'stopped': 1, 'pharmaceutical': 1, 'freezing': 1, 'flapping': 1, 'tails': 1, 'midtown': 1, 'hemisfair': 1, 'antonio': 1, 'unfurnished': 1, 'array': 1, 'surrounding': 1, 'readingnewspaperec': 1, 'fog': 1, 'nearly': 1, 'obscure': 1, 'paw': 1, 'reagents': 1, 'dabbles': 1, 'applies': 1, 'treetop': 1, 'yankee': 1, 'argentine': 1, 'gauchos': 1, 'capture': 1, 'warmth': 1, 'reveal': 1, 'semitruck': 1, 'muscular': 1, 'physique': 1, 'cafes': 1, 'lighted': 1, 'prayer': 1, 'lucia': 1, 'cabriolet': 1, 'macrobacklit': 1, 'fantasy': 1, 'auckland': 1, 'gill': 1, 'hardhat': 1, 'faith': 1, 'ballet': 1, 'arenas': 1, 'southernmost': 1, 'intricate': 1, 'selective': 1, 'bristles': 1, 'happyp': 1, 'outddor': 1, 'pour': 1, 'photographs': 1, 'racers': 1, 'lookout': 1, 'dove': 1, 'luck': 1, 'alleyway': 1, 'cheek': 1, 'toolbelt': 1, 'dusseldorf': 1, 'stressed': 1, 'worrying': 1, 'deserted': 1, 'steeps': 1, 'meadowby': 1, 'engraving': 1, 'sword': 1, 'char': 1, 'circuit': 1, 'boards': 1, 'beaker': 1, 'switching': 1, 'murray': 1, 'albury': 1, 'queen': 1, 'vgetable': 1, 'asleep': 1, 'confidant': 1, 'feminine': 1, 'abq': 1, 'eventk': 1, 'dives': 1, 'potato': 1, 'porcupine': 1, 'waddling': 1, 'jungle': 1, 'sniper': 1, 'settle': 1, 'skiier': 1, 'schoolboy': 1, 'mark': 1, 'yes': 1, 'comparing': 1, 'stunning': 1, 'curious': 1, 'las': 1, 'roar': 1, 'scratched': 1, 'strikes': 1, 'saturn': 1, 'gleaming': 1, 'bedrooms': 1, 'america': 1, 'chase': 1, 'cuddling': 1, 'crops': 1, 'deepwater': 1, 'appalachian': 1, 'trailers': 1, 'lotion': 1, 'inflates': 1, 'bungalows': 1, 'panni': 1, 'shes': 1, 'jewellery': 1, 'adorning': 1, 'cowgirl': 1, 'distant': 1, 'swaying': 1, 'gumboots': 1, 'blueberries': 1, 'sprinkled': 1, 'latina': 1, 'folklore': 1, 'flames': 1, 'brushfire': 1, 'headquarters': 1, 'packed': 1, 'revolutionary': 1, 'expansion': 1, 'alternative': 1, 'pelagic': 1, 'cormorant': 1, 'defending': 1, 'helmut': 1, 'fetching': 1, 'snowsuit': 1, 'commuter': 1, 'fondue': 1, 'appetizer': 1, 'snack': 1, 'thermal': 1, 'cub': 1, 'marches': 1, 'ritual': 1, 'prepare': 1, 'response': 1, 'celebrates': 1, 'streamers': 1, 'fancy': 1, 'weightlifter': 1, 'dressready': 1, 'projector': 1, 'darker': 1, 'orbitting': 1, 'trinidad': 1, 'smartophone': 1, 'only': 1, 'sahara': 1, 'dunes': 1, 'sole': 1, 'attempting': 1, 'tombstone': 1, 'hattie': 1, 'private': 1, 'charles': 1, 'thompson': 1, 'step': 1, 'corpus': 1, 'christi': 1})>"
      ]
     },
     "execution_count": 48,
     "metadata": {},
     "output_type": "execute_result"
    }
   ],
   "source": [
    "counts1 = Counter()\n",
    "pbar = pyprind.ProgBar(len(result['Captions']), title='Counting word occurrences')\n",
    "\n",
    "\n",
    "for i, cap in enumerate(result['Captions']):\n",
    "        # replace punctuations with space\n",
    "        # convert words to lower case \n",
    "        text1 = ''.join([c if c not in punctuation else ' ' for c in cap]).lower() \n",
    "        result.loc[i,'Captions'] = text1\n",
    "        # .loc[,]: Access a group of rows and columns by label(s)\n",
    "        \n",
    "        pbar.update()\n",
    "        counts1.update(text1.split())\n",
    "\n",
    "counts1.most_common"
   ]
  },
  {
   "cell_type": "code",
   "execution_count": 49,
   "metadata": {},
   "outputs": [],
   "source": [
    "t = Tokenizer(num_words=len(counts1)) \n",
    "t.fit_on_texts(list(result.Captions.values)) \n",
    "onehot = t.texts_to_matrix(list(result.Captions.values),mode='binary')"
   ]
  },
  {
   "cell_type": "code",
   "execution_count": 50,
   "metadata": {},
   "outputs": [
    {
     "name": "stdout",
     "output_type": "stream",
     "text": [
      "(8000, 2) (8000, 5870)\n"
     ]
    }
   ],
   "source": [
    "Y = result1[['short-term_memorability','long-term_memorability']].values # targets\n",
    "X = onehot;\n",
    "print(Y.shape,X.shape)"
   ]
  },
  {
   "cell_type": "code",
   "execution_count": 51,
   "metadata": {},
   "outputs": [
    {
     "name": "stdout",
     "output_type": "stream",
     "text": [
      "x_train (6000, 5870)\n",
      "x_test (2000, 5870)\n",
      "y_train (6000, 2)\n",
      "y_test (2000, 2)\n"
     ]
    }
   ],
   "source": [
    "x_train = X[:6000,:]\n",
    "x_test = X[6000:,:]\n",
    "y_train = Y[:6000,:]\n",
    "y_test = Y[6000:,:]\n",
    "\n",
    "print('x_train', x_train.shape)\n",
    "print('x_test', x_test.shape)\n",
    "print('y_train', y_train.shape)\n",
    "print('y_test', y_test.shape)"
   ]
  },
  {
   "cell_type": "code",
   "execution_count": 52,
   "metadata": {},
   "outputs": [],
   "source": [
    "len_token_test = len(counts1)\n",
    "def caption_test_model():\n",
    "    model = Sequential()\n",
    "    model.add(layers.Dropout(0.3, input_shape=(len_token_test,)))\n",
    "    model.add(layers.Dense(10, activation='selu', kernel_regularizer=regularizers.l2(0.001),\n",
    "                         kernel_initializer='he_normal'))\n",
    "    model.add(layers.Dense(2, activation='sigmoid'))\n",
    "    sgd = tf.optimizers.SGD(lr=0.1, momentum=0.9, decay=0.0, nesterov=False)\n",
    "    model.compile(optimizer=sgd, loss='mse', metrics=['accuracy']) \n",
    " \n",
    "    return model\n",
    "            \n",
    "cap_model_test = caption_test_model()\n",
    "cap_model_test_history = cap_model_test.fit(x_train, y_train, epochs=20, verbose=0,shuffle=False)"
   ]
  },
  {
   "cell_type": "markdown",
   "metadata": {},
   "source": [
    "## Predictions"
   ]
  },
  {
   "cell_type": "code",
   "execution_count": 53,
   "metadata": {
    "scrolled": true
   },
   "outputs": [
    {
     "data": {
      "text/plain": [
       "array([[0.82801425, 0.7563994 ],\n",
       "       [0.7780976 , 0.73407596],\n",
       "       [0.89121646, 0.811397  ],\n",
       "       ...,\n",
       "       [0.86959606, 0.7976343 ],\n",
       "       [0.87009335, 0.80107707],\n",
       "       [0.88791347, 0.82317245]], dtype=float32)"
      ]
     },
     "execution_count": 53,
     "metadata": {},
     "output_type": "execute_result"
    }
   ],
   "source": [
    "test_predictions1 = cap_model_test.predict(x_test) \n",
    "test_predictions1"
   ]
  },
  {
   "cell_type": "markdown",
   "metadata": {},
   "source": [
    "## HMP model<a class=\"anchor\" id=\"hmptest\"></a>"
   ]
  },
  {
   "cell_type": "code",
   "execution_count": 54,
   "metadata": {},
   "outputs": [
    {
     "data": {
      "text/plain": [
       "(2000, 6075)"
      ]
     },
     "execution_count": 54,
     "metadata": {},
     "output_type": "execute_result"
    }
   ],
   "source": [
    "path = r\"C:\\Users\\RANJAN DAS\\Video memorability\\Test_set\\HMP_test\\*.txt\"\n",
    "\n",
    "HMP_test_feature_list= []\n",
    "video_names_list = []\n",
    "\n",
    "for filename in glob.glob(path):\n",
    "    name = ((filename.split('\\\\')[-1]).split('.')[0])\n",
    "    video_names_list.append(name)\n",
    "    HMP_features = read_HMP(filename)\n",
    "    HMP_test_feature_list.append(HMP_features)\n",
    "    \n",
    "np.array(HMP_test_feature_list).shape"
   ]
  },
  {
   "cell_type": "code",
   "execution_count": 55,
   "metadata": {},
   "outputs": [],
   "source": [
    "HMP_test_features = pd.DataFrame(np.array(HMP_test_feature_list).reshape(2000,6075))\n",
    "HMP_test_features[\"video\"] = video_names_list"
   ]
  },
  {
   "cell_type": "code",
   "execution_count": 56,
   "metadata": {},
   "outputs": [
    {
     "data": {
      "text/html": [
       "<div>\n",
       "<style scoped>\n",
       "    .dataframe tbody tr th:only-of-type {\n",
       "        vertical-align: middle;\n",
       "    }\n",
       "\n",
       "    .dataframe tbody tr th {\n",
       "        vertical-align: top;\n",
       "    }\n",
       "\n",
       "    .dataframe thead th {\n",
       "        text-align: right;\n",
       "    }\n",
       "</style>\n",
       "<table border=\"1\" class=\"dataframe\">\n",
       "  <thead>\n",
       "    <tr style=\"text-align: right;\">\n",
       "      <th></th>\n",
       "      <th>video</th>\n",
       "      <th>short-term_memorability</th>\n",
       "      <th>long-term_memorability</th>\n",
       "      <th>0</th>\n",
       "      <th>1</th>\n",
       "      <th>2</th>\n",
       "      <th>3</th>\n",
       "      <th>4</th>\n",
       "      <th>5</th>\n",
       "      <th>6</th>\n",
       "      <th>...</th>\n",
       "      <th>6065</th>\n",
       "      <th>6066</th>\n",
       "      <th>6067</th>\n",
       "      <th>6068</th>\n",
       "      <th>6069</th>\n",
       "      <th>6070</th>\n",
       "      <th>6071</th>\n",
       "      <th>6072</th>\n",
       "      <th>6073</th>\n",
       "      <th>6074</th>\n",
       "    </tr>\n",
       "  </thead>\n",
       "  <tbody>\n",
       "    <tr>\n",
       "      <th>0</th>\n",
       "      <td>video7494</td>\n",
       "      <td>NaN</td>\n",
       "      <td>NaN</td>\n",
       "      <td>0.022039</td>\n",
       "      <td>0.005264</td>\n",
       "      <td>0.000098</td>\n",
       "      <td>0.0</td>\n",
       "      <td>0.003689</td>\n",
       "      <td>0.000129</td>\n",
       "      <td>0.0</td>\n",
       "      <td>...</td>\n",
       "      <td>0.000025</td>\n",
       "      <td>0.000114</td>\n",
       "      <td>0.000056</td>\n",
       "      <td>0.000002</td>\n",
       "      <td>0.000136</td>\n",
       "      <td>0.000388</td>\n",
       "      <td>0.000038</td>\n",
       "      <td>0.000165</td>\n",
       "      <td>0.000488</td>\n",
       "      <td>0.000187</td>\n",
       "    </tr>\n",
       "    <tr>\n",
       "      <th>1</th>\n",
       "      <td>video7495</td>\n",
       "      <td>NaN</td>\n",
       "      <td>NaN</td>\n",
       "      <td>0.004694</td>\n",
       "      <td>0.001934</td>\n",
       "      <td>0.000040</td>\n",
       "      <td>0.0</td>\n",
       "      <td>0.001226</td>\n",
       "      <td>0.000058</td>\n",
       "      <td>0.0</td>\n",
       "      <td>...</td>\n",
       "      <td>0.000000</td>\n",
       "      <td>0.000056</td>\n",
       "      <td>0.000027</td>\n",
       "      <td>0.000002</td>\n",
       "      <td>0.000087</td>\n",
       "      <td>0.000121</td>\n",
       "      <td>0.000004</td>\n",
       "      <td>0.000109</td>\n",
       "      <td>0.000136</td>\n",
       "      <td>0.000029</td>\n",
       "    </tr>\n",
       "    <tr>\n",
       "      <th>2</th>\n",
       "      <td>video7496</td>\n",
       "      <td>NaN</td>\n",
       "      <td>NaN</td>\n",
       "      <td>0.026530</td>\n",
       "      <td>0.006208</td>\n",
       "      <td>0.000058</td>\n",
       "      <td>0.0</td>\n",
       "      <td>0.002280</td>\n",
       "      <td>0.000031</td>\n",
       "      <td>0.0</td>\n",
       "      <td>...</td>\n",
       "      <td>0.000011</td>\n",
       "      <td>0.000034</td>\n",
       "      <td>0.000011</td>\n",
       "      <td>0.000002</td>\n",
       "      <td>0.000063</td>\n",
       "      <td>0.000081</td>\n",
       "      <td>0.000004</td>\n",
       "      <td>0.000092</td>\n",
       "      <td>0.000143</td>\n",
       "      <td>0.000051</td>\n",
       "    </tr>\n",
       "    <tr>\n",
       "      <th>3</th>\n",
       "      <td>video7497</td>\n",
       "      <td>NaN</td>\n",
       "      <td>NaN</td>\n",
       "      <td>0.045109</td>\n",
       "      <td>0.008317</td>\n",
       "      <td>0.000151</td>\n",
       "      <td>0.0</td>\n",
       "      <td>0.005598</td>\n",
       "      <td>0.000128</td>\n",
       "      <td>0.0</td>\n",
       "      <td>...</td>\n",
       "      <td>0.000035</td>\n",
       "      <td>0.000256</td>\n",
       "      <td>0.000083</td>\n",
       "      <td>0.000003</td>\n",
       "      <td>0.000116</td>\n",
       "      <td>0.000467</td>\n",
       "      <td>0.000020</td>\n",
       "      <td>0.000279</td>\n",
       "      <td>0.000470</td>\n",
       "      <td>0.000219</td>\n",
       "    </tr>\n",
       "    <tr>\n",
       "      <th>4</th>\n",
       "      <td>video7498</td>\n",
       "      <td>NaN</td>\n",
       "      <td>NaN</td>\n",
       "      <td>0.034691</td>\n",
       "      <td>0.008619</td>\n",
       "      <td>0.000412</td>\n",
       "      <td>0.0</td>\n",
       "      <td>0.028355</td>\n",
       "      <td>0.000538</td>\n",
       "      <td>0.0</td>\n",
       "      <td>...</td>\n",
       "      <td>0.000009</td>\n",
       "      <td>0.000148</td>\n",
       "      <td>0.000038</td>\n",
       "      <td>0.000002</td>\n",
       "      <td>0.000117</td>\n",
       "      <td>0.000206</td>\n",
       "      <td>0.000022</td>\n",
       "      <td>0.000228</td>\n",
       "      <td>0.000334</td>\n",
       "      <td>0.000086</td>\n",
       "    </tr>\n",
       "  </tbody>\n",
       "</table>\n",
       "<p>5 rows × 6078 columns</p>\n",
       "</div>"
      ],
      "text/plain": [
       "       video  short-term_memorability  long-term_memorability         0  \\\n",
       "0  video7494                      NaN                     NaN  0.022039   \n",
       "1  video7495                      NaN                     NaN  0.004694   \n",
       "2  video7496                      NaN                     NaN  0.026530   \n",
       "3  video7497                      NaN                     NaN  0.045109   \n",
       "4  video7498                      NaN                     NaN  0.034691   \n",
       "\n",
       "          1         2    3         4         5    6  ...      6065      6066  \\\n",
       "0  0.005264  0.000098  0.0  0.003689  0.000129  0.0  ...  0.000025  0.000114   \n",
       "1  0.001934  0.000040  0.0  0.001226  0.000058  0.0  ...  0.000000  0.000056   \n",
       "2  0.006208  0.000058  0.0  0.002280  0.000031  0.0  ...  0.000011  0.000034   \n",
       "3  0.008317  0.000151  0.0  0.005598  0.000128  0.0  ...  0.000035  0.000256   \n",
       "4  0.008619  0.000412  0.0  0.028355  0.000538  0.0  ...  0.000009  0.000148   \n",
       "\n",
       "       6067      6068      6069      6070      6071      6072      6073  \\\n",
       "0  0.000056  0.000002  0.000136  0.000388  0.000038  0.000165  0.000488   \n",
       "1  0.000027  0.000002  0.000087  0.000121  0.000004  0.000109  0.000136   \n",
       "2  0.000011  0.000002  0.000063  0.000081  0.000004  0.000092  0.000143   \n",
       "3  0.000083  0.000003  0.000116  0.000467  0.000020  0.000279  0.000470   \n",
       "4  0.000038  0.000002  0.000117  0.000206  0.000022  0.000228  0.000334   \n",
       "\n",
       "       6074  \n",
       "0  0.000187  \n",
       "1  0.000029  \n",
       "2  0.000051  \n",
       "3  0.000219  \n",
       "4  0.000086  \n",
       "\n",
       "[5 rows x 6078 columns]"
      ]
     },
     "execution_count": 56,
     "metadata": {},
     "output_type": "execute_result"
    }
   ],
   "source": [
    "#merging with the short term and long term score\n",
    "hmp = pd.merge(df1, HMP_test_features , on='video')\n",
    "hmp.head()"
   ]
  },
  {
   "cell_type": "code",
   "execution_count": 57,
   "metadata": {},
   "outputs": [
    {
     "name": "stdout",
     "output_type": "stream",
     "text": [
      "x_train (6000, 6075)\n",
      "x_test (2000, 6075)\n",
      "y_train (6000, 2)\n",
      "y_test (2000, 2)\n"
     ]
    }
   ],
   "source": [
    "X_test_hmp = hmp.iloc[:, 3:].values\n",
    "Y_test_hmp = hmp.iloc[:, 1:3].values\n",
    "\n",
    "print('x_train', X_train_hmp.shape)\n",
    "print('x_test', X_test_hmp.shape)\n",
    "print('y_train', Y_train_hmp.shape)\n",
    "print('y_test', Y_test_hmp.shape)"
   ]
  },
  {
   "cell_type": "markdown",
   "metadata": {},
   "source": [
    "## Predictions"
   ]
  },
  {
   "cell_type": "code",
   "execution_count": 58,
   "metadata": {},
   "outputs": [
    {
     "name": "stdout",
     "output_type": "stream",
     "text": [
      "[[0.8390079  0.75560415]\n",
      " [0.8644286  0.7836125 ]\n",
      " [0.8948912  0.8170424 ]\n",
      " ...\n",
      " [0.87400997 0.79407966]\n",
      " [0.8432591  0.76040334]\n",
      " [0.87370336 0.79380774]]\n"
     ]
    }
   ],
   "source": [
    "hmp_test_model = hmp_base_model()\n",
    "hmp_test_model_history = hmp_test_model.fit(X_train_hmp, Y_train_hmp, epochs=30, verbose=0, shuffle=False)\n",
    "test_predictions2 = hmp_test_model.predict(X_test_hmp)\n",
    "print(test_predictions2)"
   ]
  },
  {
   "cell_type": "markdown",
   "metadata": {},
   "source": [
    "## C3D model<a class=\"anchor\" id=\"c3dtest\"></a>"
   ]
  },
  {
   "cell_type": "code",
   "execution_count": 59,
   "metadata": {},
   "outputs": [
    {
     "data": {
      "text/plain": [
       "(2000, 101)"
      ]
     },
     "execution_count": 59,
     "metadata": {},
     "output_type": "execute_result"
    }
   ],
   "source": [
    "C3D_test_feature_list= []\n",
    "video_names_list = []\n",
    "path = r\"C:\\Users\\RANJAN DAS\\Video memorability\\Test_set\\C3D_test\\*.txt\"\n",
    "\n",
    "for filename in glob.glob(path):\n",
    "    name = ((filename.split('\\\\')[-1]).split('.')[0])\n",
    "    video_names_list.append(name) \n",
    "    with open(filename) as f:\n",
    "        for line in f:\n",
    "            C3D_features =[float(item) for item in line.split()]\n",
    "    C3D_test_feature_list.append(C3D_features)\n",
    "\n",
    "np.array(C3D_test_feature_list).shape"
   ]
  },
  {
   "cell_type": "code",
   "execution_count": 60,
   "metadata": {},
   "outputs": [
    {
     "data": {
      "text/html": [
       "<div>\n",
       "<style scoped>\n",
       "    .dataframe tbody tr th:only-of-type {\n",
       "        vertical-align: middle;\n",
       "    }\n",
       "\n",
       "    .dataframe tbody tr th {\n",
       "        vertical-align: top;\n",
       "    }\n",
       "\n",
       "    .dataframe thead th {\n",
       "        text-align: right;\n",
       "    }\n",
       "</style>\n",
       "<table border=\"1\" class=\"dataframe\">\n",
       "  <thead>\n",
       "    <tr style=\"text-align: right;\">\n",
       "      <th></th>\n",
       "      <th>video</th>\n",
       "      <th>short-term_memorability</th>\n",
       "      <th>long-term_memorability</th>\n",
       "      <th>0</th>\n",
       "      <th>1</th>\n",
       "      <th>2</th>\n",
       "      <th>3</th>\n",
       "      <th>4</th>\n",
       "      <th>5</th>\n",
       "      <th>6</th>\n",
       "      <th>...</th>\n",
       "      <th>91</th>\n",
       "      <th>92</th>\n",
       "      <th>93</th>\n",
       "      <th>94</th>\n",
       "      <th>95</th>\n",
       "      <th>96</th>\n",
       "      <th>97</th>\n",
       "      <th>98</th>\n",
       "      <th>99</th>\n",
       "      <th>100</th>\n",
       "    </tr>\n",
       "  </thead>\n",
       "  <tbody>\n",
       "    <tr>\n",
       "      <th>0</th>\n",
       "      <td>video7494</td>\n",
       "      <td>NaN</td>\n",
       "      <td>NaN</td>\n",
       "      <td>0.000136</td>\n",
       "      <td>0.000213</td>\n",
       "      <td>0.001248</td>\n",
       "      <td>0.000011</td>\n",
       "      <td>1.180000e-06</td>\n",
       "      <td>4.276000e-05</td>\n",
       "      <td>5.800000e-07</td>\n",
       "      <td>...</td>\n",
       "      <td>0.000003</td>\n",
       "      <td>5.620000e-06</td>\n",
       "      <td>1.260000e-06</td>\n",
       "      <td>0.000199</td>\n",
       "      <td>1.500000e-06</td>\n",
       "      <td>2.000000e-07</td>\n",
       "      <td>5.840000e-06</td>\n",
       "      <td>0.000006</td>\n",
       "      <td>0.000210</td>\n",
       "      <td>0.195120</td>\n",
       "    </tr>\n",
       "    <tr>\n",
       "      <th>1</th>\n",
       "      <td>video7495</td>\n",
       "      <td>NaN</td>\n",
       "      <td>NaN</td>\n",
       "      <td>0.000127</td>\n",
       "      <td>0.000024</td>\n",
       "      <td>0.049501</td>\n",
       "      <td>0.000024</td>\n",
       "      <td>2.361000e-05</td>\n",
       "      <td>3.440000e-06</td>\n",
       "      <td>5.102000e-05</td>\n",
       "      <td>...</td>\n",
       "      <td>0.000173</td>\n",
       "      <td>3.019200e-04</td>\n",
       "      <td>2.649800e-04</td>\n",
       "      <td>0.000163</td>\n",
       "      <td>1.050000e-05</td>\n",
       "      <td>2.540000e-06</td>\n",
       "      <td>3.619300e-04</td>\n",
       "      <td>0.000016</td>\n",
       "      <td>0.000010</td>\n",
       "      <td>0.000392</td>\n",
       "    </tr>\n",
       "    <tr>\n",
       "      <th>2</th>\n",
       "      <td>video7496</td>\n",
       "      <td>NaN</td>\n",
       "      <td>NaN</td>\n",
       "      <td>0.488982</td>\n",
       "      <td>0.000585</td>\n",
       "      <td>0.000025</td>\n",
       "      <td>0.000160</td>\n",
       "      <td>2.400000e-07</td>\n",
       "      <td>8.300000e-07</td>\n",
       "      <td>3.620000e-06</td>\n",
       "      <td>...</td>\n",
       "      <td>0.000002</td>\n",
       "      <td>1.900000e-07</td>\n",
       "      <td>3.200000e-07</td>\n",
       "      <td>0.001802</td>\n",
       "      <td>2.640000e-06</td>\n",
       "      <td>9.000000e-08</td>\n",
       "      <td>2.600000e-07</td>\n",
       "      <td>0.000067</td>\n",
       "      <td>0.000123</td>\n",
       "      <td>0.000015</td>\n",
       "    </tr>\n",
       "    <tr>\n",
       "      <th>3</th>\n",
       "      <td>video7497</td>\n",
       "      <td>NaN</td>\n",
       "      <td>NaN</td>\n",
       "      <td>0.249251</td>\n",
       "      <td>0.001018</td>\n",
       "      <td>0.000008</td>\n",
       "      <td>0.000019</td>\n",
       "      <td>2.200000e-07</td>\n",
       "      <td>8.800000e-07</td>\n",
       "      <td>1.646560e-02</td>\n",
       "      <td>...</td>\n",
       "      <td>0.000065</td>\n",
       "      <td>8.400000e-07</td>\n",
       "      <td>1.700000e-07</td>\n",
       "      <td>0.000808</td>\n",
       "      <td>9.700000e-07</td>\n",
       "      <td>7.670000e-06</td>\n",
       "      <td>9.100000e-07</td>\n",
       "      <td>0.000015</td>\n",
       "      <td>0.000707</td>\n",
       "      <td>0.000010</td>\n",
       "    </tr>\n",
       "    <tr>\n",
       "      <th>4</th>\n",
       "      <td>video7498</td>\n",
       "      <td>NaN</td>\n",
       "      <td>NaN</td>\n",
       "      <td>0.009894</td>\n",
       "      <td>0.000034</td>\n",
       "      <td>0.002613</td>\n",
       "      <td>0.000002</td>\n",
       "      <td>1.010000e-06</td>\n",
       "      <td>8.770000e-06</td>\n",
       "      <td>2.610000e-06</td>\n",
       "      <td>...</td>\n",
       "      <td>0.000012</td>\n",
       "      <td>6.600000e-07</td>\n",
       "      <td>8.770000e-06</td>\n",
       "      <td>0.000132</td>\n",
       "      <td>7.400000e-07</td>\n",
       "      <td>2.120000e-06</td>\n",
       "      <td>8.260000e-06</td>\n",
       "      <td>0.001402</td>\n",
       "      <td>0.000745</td>\n",
       "      <td>0.000456</td>\n",
       "    </tr>\n",
       "  </tbody>\n",
       "</table>\n",
       "<p>5 rows × 104 columns</p>\n",
       "</div>"
      ],
      "text/plain": [
       "       video  short-term_memorability  long-term_memorability         0  \\\n",
       "0  video7494                      NaN                     NaN  0.000136   \n",
       "1  video7495                      NaN                     NaN  0.000127   \n",
       "2  video7496                      NaN                     NaN  0.488982   \n",
       "3  video7497                      NaN                     NaN  0.249251   \n",
       "4  video7498                      NaN                     NaN  0.009894   \n",
       "\n",
       "          1         2         3             4             5             6  \\\n",
       "0  0.000213  0.001248  0.000011  1.180000e-06  4.276000e-05  5.800000e-07   \n",
       "1  0.000024  0.049501  0.000024  2.361000e-05  3.440000e-06  5.102000e-05   \n",
       "2  0.000585  0.000025  0.000160  2.400000e-07  8.300000e-07  3.620000e-06   \n",
       "3  0.001018  0.000008  0.000019  2.200000e-07  8.800000e-07  1.646560e-02   \n",
       "4  0.000034  0.002613  0.000002  1.010000e-06  8.770000e-06  2.610000e-06   \n",
       "\n",
       "   ...        91            92            93        94            95  \\\n",
       "0  ...  0.000003  5.620000e-06  1.260000e-06  0.000199  1.500000e-06   \n",
       "1  ...  0.000173  3.019200e-04  2.649800e-04  0.000163  1.050000e-05   \n",
       "2  ...  0.000002  1.900000e-07  3.200000e-07  0.001802  2.640000e-06   \n",
       "3  ...  0.000065  8.400000e-07  1.700000e-07  0.000808  9.700000e-07   \n",
       "4  ...  0.000012  6.600000e-07  8.770000e-06  0.000132  7.400000e-07   \n",
       "\n",
       "             96            97        98        99       100  \n",
       "0  2.000000e-07  5.840000e-06  0.000006  0.000210  0.195120  \n",
       "1  2.540000e-06  3.619300e-04  0.000016  0.000010  0.000392  \n",
       "2  9.000000e-08  2.600000e-07  0.000067  0.000123  0.000015  \n",
       "3  7.670000e-06  9.100000e-07  0.000015  0.000707  0.000010  \n",
       "4  2.120000e-06  8.260000e-06  0.001402  0.000745  0.000456  \n",
       "\n",
       "[5 rows x 104 columns]"
      ]
     },
     "execution_count": 60,
     "metadata": {},
     "output_type": "execute_result"
    }
   ],
   "source": [
    "C3D_test_features = pd.DataFrame(np.array(C3D_test_feature_list).reshape(2000,101))\n",
    "C3D_test_features[\"video\"] = video_names_list\n",
    "\n",
    "c3d = pd.merge(df1, C3D_test_features , on='video')\n",
    "c3d.head()"
   ]
  },
  {
   "cell_type": "code",
   "execution_count": 61,
   "metadata": {},
   "outputs": [
    {
     "name": "stdout",
     "output_type": "stream",
     "text": [
      "x_train (6000, 101)\n",
      "x_test (2000, 101)\n",
      "y_train (6000, 2)\n",
      "y_test (2000, 2)\n"
     ]
    }
   ],
   "source": [
    "X_test_c3d = c3d.iloc[:, 3:].values\n",
    "Y_test_c3d = c3d.iloc[:, 1:3].values\n",
    "\n",
    "print('x_train', X_train_c3d.shape)\n",
    "print('x_test', X_test_c3d.shape)\n",
    "print('y_train', Y_train_c3d.shape)\n",
    "print('y_test', Y_test_c3d.shape)"
   ]
  },
  {
   "cell_type": "markdown",
   "metadata": {},
   "source": [
    "## Predictions"
   ]
  },
  {
   "cell_type": "code",
   "execution_count": 62,
   "metadata": {
    "scrolled": true
   },
   "outputs": [
    {
     "name": "stdout",
     "output_type": "stream",
     "text": [
      "[[0.8663644  0.78840405]\n",
      " [0.82471895 0.74542767]\n",
      " [0.8761934  0.7975647 ]\n",
      " ...\n",
      " [0.8837439  0.804978  ]\n",
      " [0.8351842  0.75685906]\n",
      " [0.9029144  0.8273722 ]]\n"
     ]
    }
   ],
   "source": [
    "c3d_test_model = c3d_base_model()\n",
    "c3d_test_model_history = c3d_test_model.fit(X_train_c3d, Y_train_c3d, epochs=30, verbose=0, shuffle=False)\n",
    "\n",
    "test_predictions3 = c3d_test_model.predict(X_test_c3d)\n",
    "print(test_predictions3)"
   ]
  },
  {
   "cell_type": "markdown",
   "metadata": {},
   "source": [
    "# Combined model<a class=\"anchor\" id=\"combtest\"></a>"
   ]
  },
  {
   "cell_type": "code",
   "execution_count": 63,
   "metadata": {},
   "outputs": [
    {
     "data": {
      "text/plain": [
       "(array([[0., 0., 0., ..., 0., 0., 0.],\n",
       "        [0., 1., 0., ..., 0., 0., 0.],\n",
       "        [0., 0., 0., ..., 0., 0., 0.],\n",
       "        ...,\n",
       "        [0., 0., 0., ..., 0., 0., 0.],\n",
       "        [0., 0., 1., ..., 0., 0., 0.],\n",
       "        [0., 1., 1., ..., 0., 0., 0.]]),\n",
       " array([[0., 0., 0., ..., 0., 0., 0.],\n",
       "        [0., 1., 0., ..., 0., 0., 0.],\n",
       "        [0., 0., 0., ..., 0., 0., 0.],\n",
       "        ...,\n",
       "        [0., 1., 0., ..., 0., 0., 0.],\n",
       "        [0., 0., 0., ..., 0., 0., 0.],\n",
       "        [0., 1., 0., ..., 0., 0., 0.]]))"
      ]
     },
     "execution_count": 63,
     "metadata": {},
     "output_type": "execute_result"
    }
   ],
   "source": [
    "test_cap_x = onehot[:6000,]\n",
    "test_cap_y = onehot[6000:,]\n",
    "test_cap_y, test_cap_x"
   ]
  },
  {
   "cell_type": "code",
   "execution_count": 64,
   "metadata": {},
   "outputs": [],
   "source": [
    "X_data_ens_train = np.concatenate((test_cap_x,X_train_c3d,X_train_hmp),axis=1)\n",
    "X_data_ens_test = np.concatenate((test_cap_y,X_test_c3d,X_test_hmp),axis=1)\n",
    "Y_ens_train = Y_train_c3d"
   ]
  },
  {
   "cell_type": "code",
   "execution_count": 65,
   "metadata": {},
   "outputs": [
    {
     "name": "stdout",
     "output_type": "stream",
     "text": [
      "X train (6000, 12046)\n",
      "X train (2000, 12046)\n",
      "Y train (6000, 2)\n"
     ]
    }
   ],
   "source": [
    "print('X train', X_data_ens_train.shape)\n",
    "print('X train', X_data_ens_test.shape)\n",
    "print('Y train', Y_ens_train.shape)"
   ]
  },
  {
   "cell_type": "code",
   "execution_count": 66,
   "metadata": {},
   "outputs": [],
   "source": [
    "def ensemble_model():\n",
    "    model = Sequential()\n",
    "    model.add(layers.Dropout(0.3, input_shape=(12046,)))\n",
    "    model.add(layers.Dense(10, activation='selu', kernel_regularizer=regularizers.l2(0.001),\n",
    "                         kernel_initializer='he_normal'))\n",
    "    model.add(layers.Dropout(0.5))\n",
    "    model.add(layers.Dense(2, activation='sigmoid'))\n",
    "    sgd = tf.optimizers.SGD(lr=0.1, momentum=0.9, decay=0.0, nesterov=False)\n",
    "    model.compile(optimizer=sgd, loss='mse', metrics=['accuracy']) \n",
    " \n",
    "    return model\n",
    "            \n",
    "ensemble_model_final = ensemble_model()\n",
    "ensemble_model_history = ensemble_model_final.fit(X_data_ens_train, Y_ens_train, epochs=20, verbose=0, shuffle=False)"
   ]
  },
  {
   "cell_type": "markdown",
   "metadata": {},
   "source": [
    "## Predictions"
   ]
  },
  {
   "cell_type": "code",
   "execution_count": 67,
   "metadata": {},
   "outputs": [
    {
     "name": "stdout",
     "output_type": "stream",
     "text": [
      "[[0.84549534 0.7592391 ]\n",
      " [0.7897245  0.71709394]\n",
      " [0.88372123 0.8108029 ]\n",
      " ...\n",
      " [0.86766195 0.7718884 ]\n",
      " [0.8722212  0.8092892 ]\n",
      " [0.8954007  0.83040756]]\n"
     ]
    }
   ],
   "source": [
    "test_predictions4 = ensemble_model_final.predict(X_data_ens_test)\n",
    "print(test_predictions4)"
   ]
  },
  {
   "cell_type": "markdown",
   "metadata": {},
   "source": [
    "## Final Submission<a class=\"anchor\" id=\"finsub\"></a>"
   ]
  },
  {
   "cell_type": "code",
   "execution_count": 68,
   "metadata": {},
   "outputs": [
    {
     "data": {
      "text/plain": [
       "array([[0.8447205 , 0.76491165],\n",
       "       [0.8142424 , 0.7450525 ],\n",
       "       [0.8865056 , 0.8092018 ],\n",
       "       ...,\n",
       "       [0.87375295, 0.792145  ],\n",
       "       [0.8551895 , 0.78190714],\n",
       "       [0.889983  , 0.81869   ]], dtype=float32)"
      ]
     },
     "execution_count": 68,
     "metadata": {},
     "output_type": "execute_result"
    }
   ],
   "source": [
    "Final_submission  = 0.25*test_predictions1 + 0.25*test_predictions2 + 0.25*test_predictions3 + 0.25*test_predictions4 \n",
    "Final_submission"
   ]
  },
  {
   "cell_type": "code",
   "execution_count": 69,
   "metadata": {},
   "outputs": [
    {
     "data": {
      "text/html": [
       "<div>\n",
       "<style scoped>\n",
       "    .dataframe tbody tr th:only-of-type {\n",
       "        vertical-align: middle;\n",
       "    }\n",
       "\n",
       "    .dataframe tbody tr th {\n",
       "        vertical-align: top;\n",
       "    }\n",
       "\n",
       "    .dataframe thead th {\n",
       "        text-align: right;\n",
       "    }\n",
       "</style>\n",
       "<table border=\"1\" class=\"dataframe\">\n",
       "  <thead>\n",
       "    <tr style=\"text-align: right;\">\n",
       "      <th></th>\n",
       "      <th>video</th>\n",
       "      <th>short-term_memorability</th>\n",
       "      <th>nb_short-term_annotations</th>\n",
       "      <th>long-term_memorability</th>\n",
       "      <th>nb_long-term_annotations</th>\n",
       "    </tr>\n",
       "  </thead>\n",
       "  <tbody>\n",
       "    <tr>\n",
       "      <th>0</th>\n",
       "      <td>7494</td>\n",
       "      <td>NaN</td>\n",
       "      <td>33</td>\n",
       "      <td>NaN</td>\n",
       "      <td>12</td>\n",
       "    </tr>\n",
       "    <tr>\n",
       "      <th>1</th>\n",
       "      <td>7495</td>\n",
       "      <td>NaN</td>\n",
       "      <td>34</td>\n",
       "      <td>NaN</td>\n",
       "      <td>10</td>\n",
       "    </tr>\n",
       "    <tr>\n",
       "      <th>2</th>\n",
       "      <td>7496</td>\n",
       "      <td>NaN</td>\n",
       "      <td>32</td>\n",
       "      <td>NaN</td>\n",
       "      <td>13</td>\n",
       "    </tr>\n",
       "    <tr>\n",
       "      <th>3</th>\n",
       "      <td>7497</td>\n",
       "      <td>NaN</td>\n",
       "      <td>33</td>\n",
       "      <td>NaN</td>\n",
       "      <td>10</td>\n",
       "    </tr>\n",
       "    <tr>\n",
       "      <th>4</th>\n",
       "      <td>7498</td>\n",
       "      <td>NaN</td>\n",
       "      <td>33</td>\n",
       "      <td>NaN</td>\n",
       "      <td>10</td>\n",
       "    </tr>\n",
       "  </tbody>\n",
       "</table>\n",
       "</div>"
      ],
      "text/plain": [
       "   video  short-term_memorability  nb_short-term_annotations  \\\n",
       "0   7494                      NaN                         33   \n",
       "1   7495                      NaN                         34   \n",
       "2   7496                      NaN                         32   \n",
       "3   7497                      NaN                         33   \n",
       "4   7498                      NaN                         33   \n",
       "\n",
       "   long-term_memorability  nb_long-term_annotations  \n",
       "0                     NaN                        12  \n",
       "1                     NaN                        10  \n",
       "2                     NaN                        13  \n",
       "3                     NaN                        10  \n",
       "4                     NaN                        10  "
      ]
     },
     "execution_count": 69,
     "metadata": {},
     "output_type": "execute_result"
    }
   ],
   "source": [
    "final_submission_file = pd.read_csv(r'C:\\Users\\RANJAN DAS\\Video memorability\\Test_set\\Ground-truth_test\\ground_truth_template.csv')\n",
    "final_submission_file.head()"
   ]
  },
  {
   "cell_type": "code",
   "execution_count": 70,
   "metadata": {},
   "outputs": [],
   "source": [
    "final_submission_file['short-term_memorability'] = Final_submission[:, :1]\n",
    "final_submission_file['long-term_memorability'] = Final_submission[:, 1:]"
   ]
  },
  {
   "cell_type": "code",
   "execution_count": 71,
   "metadata": {},
   "outputs": [
    {
     "data": {
      "text/html": [
       "<div>\n",
       "<style scoped>\n",
       "    .dataframe tbody tr th:only-of-type {\n",
       "        vertical-align: middle;\n",
       "    }\n",
       "\n",
       "    .dataframe tbody tr th {\n",
       "        vertical-align: top;\n",
       "    }\n",
       "\n",
       "    .dataframe thead th {\n",
       "        text-align: right;\n",
       "    }\n",
       "</style>\n",
       "<table border=\"1\" class=\"dataframe\">\n",
       "  <thead>\n",
       "    <tr style=\"text-align: right;\">\n",
       "      <th></th>\n",
       "      <th>video</th>\n",
       "      <th>short-term_memorability</th>\n",
       "      <th>nb_short-term_annotations</th>\n",
       "      <th>long-term_memorability</th>\n",
       "      <th>nb_long-term_annotations</th>\n",
       "    </tr>\n",
       "  </thead>\n",
       "  <tbody>\n",
       "    <tr>\n",
       "      <th>0</th>\n",
       "      <td>7494</td>\n",
       "      <td>0.844720</td>\n",
       "      <td>33</td>\n",
       "      <td>0.764912</td>\n",
       "      <td>12</td>\n",
       "    </tr>\n",
       "    <tr>\n",
       "      <th>1</th>\n",
       "      <td>7495</td>\n",
       "      <td>0.814242</td>\n",
       "      <td>34</td>\n",
       "      <td>0.745053</td>\n",
       "      <td>10</td>\n",
       "    </tr>\n",
       "    <tr>\n",
       "      <th>2</th>\n",
       "      <td>7496</td>\n",
       "      <td>0.886506</td>\n",
       "      <td>32</td>\n",
       "      <td>0.809202</td>\n",
       "      <td>13</td>\n",
       "    </tr>\n",
       "    <tr>\n",
       "      <th>3</th>\n",
       "      <td>7497</td>\n",
       "      <td>0.866974</td>\n",
       "      <td>33</td>\n",
       "      <td>0.789615</td>\n",
       "      <td>10</td>\n",
       "    </tr>\n",
       "    <tr>\n",
       "      <th>4</th>\n",
       "      <td>7498</td>\n",
       "      <td>0.839391</td>\n",
       "      <td>33</td>\n",
       "      <td>0.749889</td>\n",
       "      <td>10</td>\n",
       "    </tr>\n",
       "  </tbody>\n",
       "</table>\n",
       "</div>"
      ],
      "text/plain": [
       "   video  short-term_memorability  nb_short-term_annotations  \\\n",
       "0   7494                 0.844720                         33   \n",
       "1   7495                 0.814242                         34   \n",
       "2   7496                 0.886506                         32   \n",
       "3   7497                 0.866974                         33   \n",
       "4   7498                 0.839391                         33   \n",
       "\n",
       "   long-term_memorability  nb_long-term_annotations  \n",
       "0                0.764912                        12  \n",
       "1                0.745053                        10  \n",
       "2                0.809202                        13  \n",
       "3                0.789615                        10  \n",
       "4                0.749889                        10  "
      ]
     },
     "execution_count": 71,
     "metadata": {},
     "output_type": "execute_result"
    }
   ],
   "source": [
    "final_submission_file.head()"
   ]
  },
  {
   "cell_type": "code",
   "execution_count": 72,
   "metadata": {},
   "outputs": [
    {
     "data": {
      "text/plain": [
       "(2000, 5)"
      ]
     },
     "execution_count": 72,
     "metadata": {},
     "output_type": "execute_result"
    }
   ],
   "source": [
    "final_submission_file.shape"
   ]
  },
  {
   "cell_type": "code",
   "execution_count": 73,
   "metadata": {},
   "outputs": [],
   "source": [
    "final_submission_file.to_csv(r'C:\\Users\\RANJAN DAS\\Machine learning assignment\\final_submission.csv')"
   ]
  }
 ],
 "metadata": {
  "kernelspec": {
   "display_name": "Python 3",
   "language": "python",
   "name": "python3"
  },
  "language_info": {
   "codemirror_mode": {
    "name": "ipython",
    "version": 3
   },
   "file_extension": ".py",
   "mimetype": "text/x-python",
   "name": "python",
   "nbconvert_exporter": "python",
   "pygments_lexer": "ipython3",
   "version": "3.7.7"
  }
 },
 "nbformat": 4,
 "nbformat_minor": 4
}
